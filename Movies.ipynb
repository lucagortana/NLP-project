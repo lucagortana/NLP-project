{
 "cells": [
  {
   "cell_type": "markdown",
   "metadata": {},
   "source": [
    "# Classification de documents : prise en main des outils\n",
    "\n",
    "Le but de ce TP est de classer des documents textuels... Dans un premier temps, nous allons vérifier le bon fonctionnement des outils sur des données jouets puis appliquer les concepts sur des données réelles.\n",
    "\n",
    "\n",
    "## Conception de la chaine de traitement\n",
    "Pour rappel, une chaine de traitement de documents classique est composée des étapes suivantes:\n",
    "1. Lecture des données et importation\n",
    "    - Dans le cadre de nos TP, nous faisons l'hypothèse que le corpus tient en mémoire... Si ce n'est pas le cas, il faut alors ajouter des structures de données avec des buffers (*data-reader*), bien plus complexes à mettre en place.\n",
    "    - Le plus grand piège concerne l'encodage des données. Dans le TP... Pas (ou peu) de problème. Dans la vraie vie: il faut faire attention à toujours maitriser les formats d'entrée et de sortie.\n",
    "1. Traitement des données brutes paramétrique. Chaque traitement doit être activable ou desactivable + paramétrable si besoin.\n",
    "    - Enlever les informations *inutiles* : chiffre, ponctuations, majuscules, etc... <BR>\n",
    "    **L'utilité dépend de l'application!**\n",
    "    - Segmenter en mots (=*Tokenization*)\n",
    "    - Elimination des stop-words\n",
    "    - Stemming/lemmatisation (racinisation)\n",
    "    - Byte-pair encoding pour trouver les mots composés (e.g. Sorbonne Université, Ville de Paris, Premier Ministre, etc...)\n",
    "1. Traitement des données numériques\n",
    "    - Normalisation *term-frequency* / binarisation\n",
    "    - Normalisation *inverse document frequency*\n",
    "    - Elimination des mots rares, des mots trop fréquents\n",
    "    - Construction de critère de séparabilité pour éliminer des mots etc...\n",
    "1. Apprentissage d'un classifieur\n",
    "    - Choix du type de classifieur\n",
    "    - Réglage des paramètres du classifieur (régularisation, etc...)\n",
    "\n",
    "## Exploitation de la chaine de traitement\n",
    "\n",
    "On appelle cette étape la réalisation d'une campagne d'expériences: c'est le point clé que nous voulons traviller en TAL cette année.\n",
    "1. Il est impossible de tester toutes les combinaisons par rapport aux propositions ci-dessus... Il faut donc en éliminer un certain nombre.\n",
    "    - En discutant avec les experts métiers\n",
    "    - En faisant des tests préliminaires\n",
    "1. Après ce premier filtrage, il faut:\n",
    "    - Choisir une évaluation fiable et pas trop lente (validation croisée, leave-one-out, split apprentissage/test simple)\n",
    "    - Lancer des expériences en grand\n",
    "        - = *grid-search*\n",
    "        - parallèliser sur plusieurs machines\n",
    "        - savoir lancer sur un serveur et se déconnecter\n",
    "1. Collecter et analyser les résultats\n",
    "\n",
    "\n",
    "## Inférence\n",
    "\n",
    "L'inférence est ensuite très classique: la chaine de traitement optimale est apte à traiter de nouveaux documents\n",
    "\n",
    "# Etape 1: charger les données"
   ]
  },
  {
   "cell_type": "code",
   "execution_count": 115,
   "metadata": {},
   "outputs": [],
   "source": [
    "import numpy as np\n",
    "import matplotlib.pyplot as plt\n",
    "import pandas as pd\n",
    "import random as rd\n",
    "\n",
    "import codecs\n",
    "import re\n",
    "import os.path\n",
    "\n",
    "from sklearn.model_selection import train_test_split\n",
    "import time\n",
    "from sklearn.naive_bayes import MultinomialNB\n",
    "from sklearn.linear_model import LogisticRegression\n",
    "from sklearn.svm import LinearSVC\n",
    "from sklearn.model_selection import GridSearchCV, cross_val_score"
   ]
  },
  {
   "cell_type": "code",
   "execution_count": 116,
   "metadata": {},
   "outputs": [],
   "source": [
    "# Chargement des données:\n",
    "def load_pres(fname):\n",
    "    alltxts = []\n",
    "    alllabs = []\n",
    "    s=codecs.open(fname, 'r','utf-8') # pour régler le codage\n",
    "    while True:\n",
    "        txt = s.readline()\n",
    "        if(len(txt))<5:\n",
    "            break\n",
    "        #\n",
    "        lab = re.sub(r\"<[0-9]*:[0-9]*:(.)>.*\",\"\\\\1\",txt)\n",
    "        txt = re.sub(r\"<[0-9]*:[0-9]*:.>(.*)\",\"\\\\1\",txt)\n",
    "        if lab.count('M') >0:\n",
    "            alllabs.append(-1)\n",
    "        else: \n",
    "            alllabs.append(1)\n",
    "        alltxts.append(txt)\n",
    "    return alltxts,alllabs\n"
   ]
  },
  {
   "cell_type": "code",
   "execution_count": 117,
   "metadata": {},
   "outputs": [],
   "source": [
    "fname = \"/Users/louis/cours_v_guigue/tuto_TAL-main-2/notebooks/ressources/AFDpresidentutf8/corpus.tache1.learn.utf8\"\n",
    "\n",
    "alltxts,alllabs = load_pres(fname)\n"
   ]
  },
  {
   "cell_type": "code",
   "execution_count": 118,
   "metadata": {},
   "outputs": [
    {
     "name": "stdout",
     "output_type": "stream",
     "text": [
      "57413 57413\n",
      " Quand je dis chers amis, il ne s'agit pas là d'une formule diplomatique, mais de l'expression de ce que je ressens.\n",
      "\n",
      "1\n",
      " Je compte sur vous.\n",
      "\n",
      "1\n"
     ]
    }
   ],
   "source": [
    "print(len(alltxts),len(alllabs))\n",
    "print(alltxts[0])\n",
    "print(alllabs[0])\n",
    "print(alltxts[-1])\n",
    "print(alllabs[-1])\n",
    "\n"
   ]
  },
  {
   "cell_type": "code",
   "execution_count": 119,
   "metadata": {},
   "outputs": [],
   "source": [
    "def load_movies(path2data): # 1 classe par répertoire\n",
    "    alltxts = [] # init vide\n",
    "    labs = []\n",
    "    cpt = 0\n",
    "    for cl in os.listdir(path2data): # parcours des fichiers d'un répertoire\n",
    "        for f in os.listdir(path2data+cl):\n",
    "            txt = open(path2data+cl+'/'+f).read()\n",
    "            alltxts.append(txt)\n",
    "            labs.append(cpt)\n",
    "        cpt+=1 # chg répertoire = cht classe\n",
    "        \n",
    "    return alltxts,labs\n"
   ]
  },
  {
   "cell_type": "code",
   "execution_count": 120,
   "metadata": {},
   "outputs": [],
   "source": [
    "path = \"/Users/louis/cours_v_guigue/tuto_TAL-main-2/notebooks/ressources/movies/movies1000/\"\n",
    "\n",
    "alltxts,alllabs = load_movies(path)"
   ]
  },
  {
   "cell_type": "code",
   "execution_count": 121,
   "metadata": {},
   "outputs": [
    {
     "name": "stdout",
     "output_type": "stream",
     "text": [
      "2000 2000\n",
      "bad . bad . \n",
      "bad . \n",
      "that one word seems to pretty much sums up beyond the valley of the dolls . \n",
      "if that summary isn't enough for you , how about t&a , t&a , t&a ? \n",
      "still haven't got the point ? \n",
      "other than director russ meyer's predilection for casting attractive large breasted women who ultimately expose the afore-mentioned anatomical areas , there is really only one other reason to recommend even taking a look at this movie . \n",
      "that is the fact that it was co-written by famed film critic roger ebert , who also was responsible for the screenplay . \n",
      "after watching this movie you will never be able to sit through another one of his reviews where he gives a movie a thumbs down for bad writing with a straight face . \n",
      "this movie stinks out loud . \n",
      "quite frankly , this movie deserves a . \n",
      "but there are parts of it that are so bad they are almost funny . \n",
      "so i'm giving it a . \n",
      "and maybe that is too generous . \n",
      "right from the opening credits , i knew that i had a class-a bomb on my hands . \n",
      "not only are the way the credits actually shot distracting , but the first scene you see includes a big breasted young woman being chased by a guy in a nazi uniform . \n",
      "i had absolutely no idea why the hell that was happening ( it does get explained later ) and as soon as the first scene is over , we cut to a completely unrelated scene . \n",
      "to be honest , as i sat through this movie mesmerized by just how incredibly awful it was , i actually forgot about the seemingly out of place opening until it popped up again later in the film . \n",
      "with the quality of the writing during the rest of the film , it wouldn't have surprised me if the opening had never been explained . \n",
      "so what is this movie about ? \n",
      "you ask . \n",
      "like it really matters . \n",
      "ok , here goes . \n",
      "this all-girl band headed by kelly macnamara ( dolly reed ) and her friends go to hollywood to try to gain a foothold in the music industry . \n",
      "once there , they do manage to find success ( due as much to their hooters as anything else ? it sure wasn't for their brutally bad singing voices ) , and the movie chronicles how their lives change for the worse as the pressures of fame get to them . \n",
      "everything from big egos , to booze and drugs to free flowing sex sends them on a downward spiral . \n",
      "there are a couple of other idiotic subplots thrown in for good measure , but the fame is the one that pretty much sums up this thing . \n",
      ">from a creative standpoint there is nothing redeeming here . \n",
      "other than the above-mentioned obsession with big knockers that russ meyer seemed to have . \n",
      "the dialogue is so incredibly bad that it literally is funny in parts . \n",
      "mr . ebert has generously thrown in helpings of \" hey man \" , \" dig \" and my all time favorite -- \" this is my happening , and it freaks me out \" . \n",
      "now i ask you , with lines like that how can you go wrong ? \n",
      "ebert had tried to inject as many big words as possible into the dialogue . \n",
      "maybe he thought it would make the movie seem smarter . \n",
      "i don't know , but all the big words in the world wouldn't be able to disguise the bad writing and even worse acting . \n",
      "but the wretched dialogue goes along well with the wretched quality of everything else in this movie . \n",
      "i've seen home movies directed better than meyer managed with this turkey . \n",
      "in fact , there is one scene -- the one in which they are in a van driving to hollywood to make their fortunes -- during which i really had to question if meyer or his editors had just suffered serious head injuries . \n",
      "add to the directing and writing the music in this movie . \n",
      "i almost got up to check my sound system to see if it was broken , there was such a pile of crap emanating from the speakers . \n",
      "then we have the cast . \n",
      "first lets start david gurian who played harris , the manager of the band . \n",
      "this has got to be the goofiest looking guy that has ever set foot in front of a motion picture camera . \n",
      "sadly , his acting doesn't come close to making up for his looks . \n",
      "if you have been following along up to this point , this shouldn't surprise you . \n",
      "meyer's stable of well endowed girls also have the benefit of being fairly attractive to go along with their other assets . \n",
      "dolly reed plays kelly , the leader of the band . \n",
      "and no surprise here , she was cast for her cup size , not her talents . \n",
      "and yes , she does loose the shirt a few times and display her impressive talents . \n",
      "sadly , her ass is almost as large as her chest . \n",
      "hey , it a sexist movie , so i'm writing a sexist review . \n",
      "then we have former playboy playmate cynthia myers in a fairly small role as casey , one of the other band members . \n",
      "this goes along with the rest of the idiotic thinking in the movie . \n",
      "meyer casts a gorgeous playmate with a rack to kill for and who obviously has no acting talent at all , but her nude scenes are the biggest disappointment of all . \n",
      "sure russ , now is the time to get artsy and throw in some well placed shadows . \n",
      "on the up side , she does have a fun lesbo scene . \n",
      "i sound like i'm writing a review in a porn magazine . \n",
      "but hey , i'll admit it ; the only reason that i actually managed to sit through this damn movie was to catch a look at cynthia myers naked . \n",
      "and since that was a huge disappointment , i pretty much wasted two hours of my life on this turkey . \n",
      "the only thing that i can say about this movie is that you should stay away from it . \n",
      "unless of course you want to feel good about yourself by knowing that even a pulitzer prize winning film critic like roger ebert has screwed up at least once in his life too . \n",
      "and if you are thinking of checking it out for the double d's -- you are better off just downloading nude cynthia myers pictures off the internet . \n",
      "this is a movie that should be avoided at all costs . \n",
      "an even better idea might be to require video stores to place a warning on the box of beyond the valley of the dolls -- beware : this movie is extremely hazardous to your common sense . \n",
      "proceed with extreme caution . \n",
      "\n",
      "0\n",
      "capsule : the director of cure brings a weird and very complex concept to the screen . \n",
      "one viewing will not be enough to understand fully the premise of pulse . \n",
      "the idea is something about ghosts and the internet . \n",
      "the film has an amazing apocalyptic style . \n",
      " , +2 ( -4 to +4 ) \n",
      "perhaps the most disturbing ( and disturbed ? ) \n",
      "filmmaker in the world is kiyoshi kurosawa . \n",
      "his films all seem to have one style , bleak . \n",
      "the worlds he creates are terrifying and cold . \n",
      "little known in the us to date , his films deliver the kind of horror that so many of our filmmakers promise and are unable to deliver . \n",
      "most of his ideas are fresh and at the same time morbid . \n",
      "his 1998 film cure , with one of his niftiest ideas , is just now getting a sadly limited release in the us and hopefully enough people will see it that his name will soon be one to conjure with . \n",
      "cure is probably his classic . \n",
      "last year he released seance , a remake of seance on a wet afternoon . \n",
      "that was perhaps a miscalculation inserting supernatural elements into a non-supernatural story . \n",
      "pulse is kurosawa back on form . \n",
      "taguchi , a young computer expert , is late with his delivery of some important software . \n",
      "two co-workers go to his apartment and find it a dismal dark affair in spite of his computer equipment . \n",
      "taguchi , acting very strangely , lets his friends look for the missing software . \n",
      "meanwhile he slips behind a plastic curtain . \n",
      "when he fails to respond to calls his friends follow him behind the curtain and discover he has hanged himself . \n",
      "if that was not horror enough the body seems to disappear leaving just a strange dark mildew-like spot on the wall . \n",
      "taguchi's computer seems to have been infected with some kind of computer virus . \n",
      "people whose computer gets the virus seem superficially to die via suicide . \n",
      "but they are not entirely dead . \n",
      "their spirits seem to remain present somehow in the real world and on the internet . \n",
      "people who get the computer virus are asked if they want to see a ghost . \n",
      "if they say yes , they seem to be able to see real time images of the spirits still nearby somehow . \n",
      "the computer shows them impossible images of ghosts in their own rooms as seen from cameras that do not exist . \n",
      "this is all somehow connected to heaven and hell somehow filling up and overflowing \" like a computer disk . \" \n",
      "instead the dead seem to be staying on earth and inhabiting computer viruses . \n",
      "there is some sort of passage between worlds having something to do with doors marked with red tape and strange electronic disturbances on computers . \n",
      "leave it to kurosawa to find a new kind of death . \n",
      "this is a film that has more weird ideas piled together than lifeforce and somehow kurosawa makes the film all work . \n",
      "it may not totally convey his message of isolation and its parallels to death , but whatever it does convey is nightmarish . \n",
      "kurosawa , who directs his own screenplay , ties his story into the real world with some familiar and accurate computer discussion . \n",
      "frequently the plot is advanced with character hunches being assumed to be fact . \n",
      "his plotting is frequently hard to follow and always very strange . \n",
      "junichiro hayashi , the cinematographer who recently has been doing all of kurosawa's films , creates a dark , cold , and gloomy tone . \n",
      "images are obscured by semi-lighting or are behind plastic curtain . \n",
      "scenes are not milked for their horror the way american exploitation films might . \n",
      "people are shot with guns but there is little if any blood in evidence . \n",
      "seeing black silhouettes on computer screens is not immediately scary . \n",
      "kurosawa is not going for and easy visual shock , but a deeper metaphysical dread . \n",
      "of any horror filmmaker in the world , kiyoshi kurosawa is the one to watch . \n",
      "i rate this metaphysical look at isolation a 7 on the 0 to 10 scale and a +2 on the -4 to +4 scale . \n",
      "\n",
      "1\n"
     ]
    }
   ],
   "source": [
    "print(len(alltxts),len(alllabs))\n",
    "print(alltxts[0])\n",
    "print(alllabs[0])\n",
    "print(alltxts[-1])\n",
    "print(alllabs[-1])\n"
   ]
  },
  {
   "cell_type": "code",
   "execution_count": 122,
   "metadata": {},
   "outputs": [],
   "source": [
    "def load_sentiment(path2data): # 1 classe par répertoire\n",
    "    alltexts = [] # init vide\n",
    "    labs = []\n",
    "    alltexts = (open(path2data).readlines()) \n",
    "    return alltexts,labs"
   ]
  },
  {
   "cell_type": "code",
   "execution_count": 123,
   "metadata": {},
   "outputs": [],
   "source": [
    "path = '/Users/louis/cours_v_guigue/tuto_TAL-main-2/notebooks/ressources/movies/testSentiment.txt'\n",
    "\n",
    "sentiment_txt , sentiment_labs= load_sentiment(path)"
   ]
  },
  {
   "cell_type": "code",
   "execution_count": 124,
   "metadata": {},
   "outputs": [
    {
     "name": "stdout",
     "output_type": "stream",
     "text": [
      "25000\n",
      "Story of a man who has unnatural feelings for a pig. Starts out with a opening scene that is a terrific example of absurd comedy. A formal orchestra audience is turned into an insane, violent mob by the crazy chantings of it's singers. Unfortunately it stays absurd the WHOLE time with no general narrative eventually making it just too off putting. Even those from the era should be turned off. The cryptic dialogue would make Shakespeare seem easy to a third grader. On a technical level it's better than you might think with some good cinematography by future great Vilmos Zsigmond. Future stars Sally Kirkland and Frederic Forrest can be seen briefly.\n",
      "\n"
     ]
    }
   ],
   "source": [
    "print(len(sentiment_txt))\n",
    "print(sentiment_txt[0]) #un probleme a cause d'un caractère non reconnu "
   ]
  },
  {
   "cell_type": "markdown",
   "metadata": {},
   "source": [
    "-  Création d'un sample pour les tests de vocabulaire pour alléger en temps de calcul"
   ]
  },
  {
   "cell_type": "code",
   "execution_count": 125,
   "metadata": {},
   "outputs": [
    {
     "name": "stdout",
     "output_type": "stream",
     "text": [
      "Story of a man who has unnatural feelings for a pig. Starts out with a opening scene that is a terrific example of absurd comedy. A formal orchestra audience is turned into an insane, violent mob by the crazy chantings of it's singers. Unfortunately it stays absurd the WHOLE time with no general narrative eventually making it just too off putting. Even those from the era should be turned off. The cryptic dialogue would make Shakespeare seem easy to a third grader. On a technical level it's better than you might think with some good cinematography by future great Vilmos Zsigmond. Future stars Sally Kirkland and Frederic Forrest can be seen briefly.\n",
      "\n"
     ]
    }
   ],
   "source": [
    "test_para= []\n",
    "for i in range (5): \n",
    "    test_para.append(sentiment_txt[i])\n",
    "\n",
    "print(test_para[0])"
   ]
  },
  {
   "cell_type": "markdown",
   "metadata": {},
   "source": [
    "# Transformation paramétrique du texte\n",
    "\n",
    "Vous devez tester, par exemple, les cas suivants:\n",
    "- transformation en minuscule ou pas\n",
    "- suppression de la ponctuation\n",
    "- transformation des mots entièrement en majuscule en marqueurs spécifiques\n",
    "- suppression des chiffres ou pas\n",
    "- conservation d'une partie du texte seulement (seulement la première ligne = titre, seulement la dernière ligne = résumé, ...)\n",
    "- stemming\n",
    "- ...\n",
    "\n",
    "\n",
    "Vérifier systématiquement sur un exemple ou deux le bon fonctionnement des méthodes sur deux documents (au moins un de chaque classe)."
   ]
  },
  {
   "cell_type": "code",
   "execution_count": 126,
   "metadata": {},
   "outputs": [
    {
     "name": "stdout",
     "output_type": "stream",
     "text": [
      "[(',', 77717), ('the', 68368), ('.', 65876), ('a', 37123), ('and', 33726), ('of', 33698), ('to', 31471), ('is', 25017), ('in', 20012), ('\"', 17612), ('that', 14768), (')', 11781), ('(', 11664), ('it', 10546), ('as', 10422), ('with', 10407), ('for', 9427), ('his', 9008), ('film', 8843), ('this', 7965), ('\\nthe', 7810), ('on', 6979), ('are', 6907), ('but', 6798), ('he', 6191), ('be', 6052), ('by', 6039), ('an', 5619), ('i', 5589), ('movie', 5419), ('who', 5306), ('not', 5196), ('one', 5036), ('was', 4903), ('have', 4871), ('from', 4821), ('has', 4706), ('at', 4592), ('her', 4321), ('you', 4052), ('all', 3966), ('?', 3771), ('\\n', 3769), ('they', 3628), ('about', 3501), ('out', 3420), ('like', 3387), ('more', 3279), ('so', 3135), ('which', 3098)]\n"
     ]
    },
    {
     "data": {
      "image/png": "[encoded data removed]",
      "text/plain": [
       "<Figure size 432x288 with 1 Axes>"
      ]
     },
     "metadata": {
      "needs_background": "light"
     },
     "output_type": "display_data"
    }
   ],
   "source": [
    "from collections import Counter\n",
    "\n",
    "wc = Counter()\n",
    "nb_max = 500\n",
    "\n",
    "for text in alltxts:\n",
    "    wc.update(text.split(\" \")) \n",
    "    \n",
    "    #considère chaque mot comme étant des unités espacées par un \" \" \n",
    "    \n",
    "freq = [f for w,f in wc.most_common()]\n",
    "plt.plot(freq[:nb_max])\n",
    "\n",
    "print(wc.most_common(50))"
   ]
  },
  {
   "cell_type": "markdown",
   "metadata": {},
   "source": [
    "on remarque que la ponctuation prend enormément de place dans les mots les plus fréquents"
   ]
  },
  {
   "cell_type": "markdown",
   "metadata": {},
   "source": [
    "# Retrait de la ponctuation\n"
   ]
  },
  {
   "cell_type": "code",
   "execution_count": 127,
   "metadata": {},
   "outputs": [
    {
     "name": "stdout",
     "output_type": "stream",
     "text": [
      "bad . bad . \n",
      "bad . \n",
      "that one word seems to pretty much sums up beyond the valley of the dolls . \n",
      "if that summary isn't enough for you , how about t&a , t&a , t&a ? \n",
      "still haven't got the point ? \n",
      "other than director russ meyer's predilection for casting attractive large breasted women who ultimately expose the afore-mentioned anatomical areas , there is really only one other reason to recommend even taking a look at this movie . \n",
      "that is the fact that it was co-written by famed film critic roger ebert , who also was responsible for the screenplay . \n",
      "after watching this movie you will never be able to sit through another one of his reviews where he gives a movie a thumbs down for bad writing with a straight face . \n",
      "this movie stinks out loud . \n",
      "quite frankly , this movie deserves a . \n",
      "but there are parts of it that are so bad they are almost funny . \n",
      "so i'm giving it a . \n",
      "and maybe that is too generous . \n",
      "right from the opening credits , i knew that i had a class-a bomb on my hands . \n",
      "not only are the way the credits actually shot distracting , but the first scene you see includes a big breasted young woman being chased by a guy in a nazi uniform . \n",
      "i had absolutely no idea why the hell that was happening ( it does get explained later ) and as soon as the first scene is over , we cut to a completely unrelated scene . \n",
      "to be honest , as i sat through this movie mesmerized by just how incredibly awful it was , i actually forgot about the seemingly out of place opening until it popped up again later in the film . \n",
      "with the quality of the writing during the rest of the film , it wouldn't have surprised me if the opening had never been explained . \n",
      "so what is this movie about ? \n",
      "you ask . \n",
      "like it really matters . \n",
      "ok , here goes . \n",
      "this all-girl band headed by kelly macnamara ( dolly reed ) and her friends go to hollywood to try to gain a foothold in the music industry . \n",
      "once there , they do manage to find success ( due as much to their hooters as anything else ? it sure wasn't for their brutally bad singing voices ) , and the movie chronicles how their lives change for the worse as the pressures of fame get to them . \n",
      "everything from big egos , to booze and drugs to free flowing sex sends them on a downward spiral . \n",
      "there are a couple of other idiotic subplots thrown in for good measure , but the fame is the one that pretty much sums up this thing . \n",
      ">from a creative standpoint there is nothing redeeming here . \n",
      "other than the above-mentioned obsession with big knockers that russ meyer seemed to have . \n",
      "the dialogue is so incredibly bad that it literally is funny in parts . \n",
      "mr . ebert has generously thrown in helpings of \" hey man \" , \" dig \" and my all time favorite -- \" this is my happening , and it freaks me out \" . \n",
      "now i ask you , with lines like that how can you go wrong ? \n",
      "ebert had tried to inject as many big words as possible into the dialogue . \n",
      "maybe he thought it would make the movie seem smarter . \n",
      "i don't know , but all the big words in the world wouldn't be able to disguise the bad writing and even worse acting . \n",
      "but the wretched dialogue goes along well with the wretched quality of everything else in this movie . \n",
      "i've seen home movies directed better than meyer managed with this turkey . \n",
      "in fact , there is one scene -- the one in which they are in a van driving to hollywood to make their fortunes -- during which i really had to question if meyer or his editors had just suffered serious head injuries . \n",
      "add to the directing and writing the music in this movie . \n",
      "i almost got up to check my sound system to see if it was broken , there was such a pile of crap emanating from the speakers . \n",
      "then we have the cast . \n",
      "first lets start david gurian who played harris , the manager of the band . \n",
      "this has got to be the goofiest looking guy that has ever set foot in front of a motion picture camera . \n",
      "sadly , his acting doesn't come close to making up for his looks . \n",
      "if you have been following along up to this point , this shouldn't surprise you . \n",
      "meyer's stable of well endowed girls also have the benefit of being fairly attractive to go along with their other assets . \n",
      "dolly reed plays kelly , the leader of the band . \n",
      "and no surprise here , she was cast for her cup size , not her talents . \n",
      "and yes , she does loose the shirt a few times and display her impressive talents . \n",
      "sadly , her ass is almost as large as her chest . \n",
      "hey , it a sexist movie , so i'm writing a sexist review . \n",
      "then we have former playboy playmate cynthia myers in a fairly small role as casey , one of the other band members . \n",
      "this goes along with the rest of the idiotic thinking in the movie . \n",
      "meyer casts a gorgeous playmate with a rack to kill for and who obviously has no acting talent at all , but her nude scenes are the biggest disappointment of all . \n",
      "sure russ , now is the time to get artsy and throw in some well placed shadows . \n",
      "on the up side , she does have a fun lesbo scene . \n",
      "i sound like i'm writing a review in a porn magazine . \n",
      "but hey , i'll admit it ; the only reason that i actually managed to sit through this damn movie was to catch a look at cynthia myers naked . \n",
      "and since that was a huge disappointment , i pretty much wasted two hours of my life on this turkey . \n",
      "the only thing that i can say about this movie is that you should stay away from it . \n",
      "unless of course you want to feel good about yourself by knowing that even a pulitzer prize winning film critic like roger ebert has screwed up at least once in his life too . \n",
      "and if you are thinking of checking it out for the double d's -- you are better off just downloading nude cynthia myers pictures off the internet . \n",
      "this is a movie that should be avoided at all costs . \n",
      "an even better idea might be to require video stores to place a warning on the box of beyond the valley of the dolls -- beware : this movie is extremely hazardous to your common sense . \n",
      "proceed with extreme caution . \n",
      " \n",
      "-->\n",
      " bad bad bad that one word seems to pretty much sums up beyond the valley of the dolls if that summary isnt enough for you how about t a t a t a still havent got the point other than director russ meyers predilection for casting attractive large breasted women who ultimately expose the afore mentioned anatomical areas there is really only one other reason to recommend even taking a look at this movie that is the fact that it was co written by famed film critic roger ebert who also was responsible for the screenplay after watching this movie you will never be able to sit through another one of his reviews where he gives a movie a thumbs down for bad writing with a straight face this movie stinks out loud quite frankly this movie deserves a but there are parts of it that are so bad they are almost funny so im giving it a and maybe that is too generous right from the opening credits i knew that i had a class a bomb on my hands not only are the way the credits actually shot distracting but the first scene you see includes a big breasted young woman being chased by a guy in a nazi uniform i had absolutely no idea why the hell that was happening it does get explained later and as soon as the first scene is over we cut to a completely unrelated scene to be honest as i sat through this movie mesmerized by just how incredibly awful it was i actually forgot about the seemingly out of place opening until it popped up again later in the film with the quality of the writing during the rest of the film it wouldnt have surprised me if the opening had never been explained so what is this movie about you ask like it really matters ok here goes this all girl band headed by kelly macnamara dolly reed and her friends go to hollywood to try to gain a foothold in the music industry once there they do manage to find success due as much to their hooters as anything else it sure wasnt for their brutally bad singing voices  and the movie chronicles how their lives change for the worse as the pressures of fame get to them everything from big egos to booze and drugs to free flowing sex sends them on a downward spiral there are a couple of other idiotic subplots thrown in for good measure but the fame is the one that pretty much sums up this thing  from a creative standpoint there is nothing redeeming here other than the above mentioned obsession with big knockers that russ meyer seemed to have the dialogue is so incredibly bad that it literally is funny in parts mr ebert has generously thrown in helpings of hey man  dig and my all time favorite this is my happening and it freaks me out now i ask you with lines like that how can you go wrong ebert had tried to inject as many big words as possible into the dialogue maybe he thought it would make the movie seem smarter i dont know but all the big words in the world wouldnt be able to disguise the bad writing and even worse acting but the wretched dialogue goes along well with the wretched quality of everything else in this movie ive seen home movies directed better than meyer managed with this turkey in fact there is one scene the one in which they are in a van driving to hollywood to make their fortunes during which i really had to question if meyer or his editors had just suffered serious head injuries add to the directing and writing the music in this movie i almost got up to check my sound system to see if it was broken there was such a pile of crap emanating from the speakers then we have the cast first lets start david gurian who played harris the manager of the band this has got to be the goofiest looking guy that has ever set foot in front of a motion picture camera sadly his acting doesnt come close to making up for his looks if you have been following along up to this point this shouldnt surprise you meyers stable of well endowed girls also have the benefit of being fairly attractive to go along with their other assets dolly reed plays kelly the leader of the band and no surprise here she was cast for her cup size not her talents and yes she does loose the shirt a few times and display her impressive talents sadly her ass is almost as large as her chest hey it a sexist movie so im writing a sexist review then we have former playboy playmate cynthia myers in a fairly small role as casey one of the other band members this goes along with the rest of the idiotic thinking in the movie meyer casts a gorgeous playmate with a rack to kill for and who obviously has no acting talent at all but her nude scenes are the biggest disappointment of all sure russ now is the time to get artsy and throw in some well placed shadows on the up side she does have a fun lesbo scene i sound like im writing a review in a porn magazine but hey ill admit it the only reason that i actually managed to sit through this damn movie was to catch a look at cynthia myers naked and since that was a huge disappointment i pretty much wasted two hours of my life on this turkey the only thing that i can say about this movie is that you should stay away from it unless of course you want to feel good about yourself by knowing that even a pulitzer prize winning film critic like roger ebert has screwed up at least once in his life too and if you are thinking of checking it out for the double ds you are better off just downloading nude cynthia myers pictures off the internet this is a movie that should be avoided at all costs an even better idea might be to require video stores to place a warning on the box of beyond the valley of the dolls beware this movie is extremely hazardous to your common sense proceed with extreme caution \n"
     ]
    }
   ],
   "source": [
    "import string\n",
    "no_punc = re.sub(\"'\",'',alltxts[0]) #texte en anglais on doit garder les 't de négations\n",
    "punc = string.punctuation  \n",
    "punc += '\\n\\r\\t'\n",
    "\n",
    "no_punc = no_punc.translate(str.maketrans(punc, ' ' * len(punc)))  \n",
    "no_punc = re.sub('    ',' ',no_punc)\n",
    "no_punc = re.sub('   ',' ',no_punc)\n",
    "print(alltxts[0], \"\\n-->\\n\", no_punc)"
   ]
  },
  {
   "cell_type": "code",
   "execution_count": 128,
   "metadata": {},
   "outputs": [
    {
     "name": "stdout",
     "output_type": "stream",
     "text": [
      "bad . bad . \n",
      "bad . \n",
      "that one word seems to pretty much sums up beyond the valley of the dolls . \n",
      "if that summary isn't enough for you , how about t&a , t&a , t&a ? \n",
      "still haven't got the point ? \n",
      "other than director russ meyer's predilection for casting attractive large breasted women who ultimately expose the afore-mentioned anatomical areas , there is really only one other reason to recommend even taking a look at this movie . \n",
      "that is the fact that it was co-written by famed film critic roger ebert , who also was responsible for the screenplay . \n",
      "after watching this movie you will never be able to sit through another one of his reviews where he gives a movie a thumbs down for bad writing with a straight face . \n",
      "this movie stinks out loud . \n",
      "quite frankly , this movie deserves a . \n",
      "but there are parts of it that are so bad they are almost funny . \n",
      "so i'm giving it a . \n",
      "and maybe that is too generous . \n",
      "right from the opening credits , i knew that i had a class-a bomb on my hands . \n",
      "not only are the way the credits actually shot distracting , but the first scene you see includes a big breasted young woman being chased by a guy in a nazi uniform . \n",
      "i had absolutely no idea why the hell that was happening ( it does get explained later ) and as soon as the first scene is over , we cut to a completely unrelated scene . \n",
      "to be honest , as i sat through this movie mesmerized by just how incredibly awful it was , i actually forgot about the seemingly out of place opening until it popped up again later in the film . \n",
      "with the quality of the writing during the rest of the film , it wouldn't have surprised me if the opening had never been explained . \n",
      "so what is this movie about ? \n",
      "you ask . \n",
      "like it really matters . \n",
      "ok , here goes . \n",
      "this all-girl band headed by kelly macnamara ( dolly reed ) and her friends go to hollywood to try to gain a foothold in the music industry . \n",
      "once there , they do manage to find success ( due as much to their hooters as anything else ? it sure wasn't for their brutally bad singing voices ) , and the movie chronicles how their lives change for the worse as the pressures of fame get to them . \n",
      "everything from big egos , to booze and drugs to free flowing sex sends them on a downward spiral . \n",
      "there are a couple of other idiotic subplots thrown in for good measure , but the fame is the one that pretty much sums up this thing . \n",
      ">from a creative standpoint there is nothing redeeming here . \n",
      "other than the above-mentioned obsession with big knockers that russ meyer seemed to have . \n",
      "the dialogue is so incredibly bad that it literally is funny in parts . \n",
      "mr . ebert has generously thrown in helpings of \" hey man \" , \" dig \" and my all time favorite -- \" this is my happening , and it freaks me out \" . \n",
      "now i ask you , with lines like that how can you go wrong ? \n",
      "ebert had tried to inject as many big words as possible into the dialogue . \n",
      "maybe he thought it would make the movie seem smarter . \n",
      "i don't know , but all the big words in the world wouldn't be able to disguise the bad writing and even worse acting . \n",
      "but the wretched dialogue goes along well with the wretched quality of everything else in this movie . \n",
      "i've seen home movies directed better than meyer managed with this turkey . \n",
      "in fact , there is one scene -- the one in which they are in a van driving to hollywood to make their fortunes -- during which i really had to question if meyer or his editors had just suffered serious head injuries . \n",
      "add to the directing and writing the music in this movie . \n",
      "i almost got up to check my sound system to see if it was broken , there was such a pile of crap emanating from the speakers . \n",
      "then we have the cast . \n",
      "first lets start david gurian who played harris , the manager of the band . \n",
      "this has got to be the goofiest looking guy that has ever set foot in front of a motion picture camera . \n",
      "sadly , his acting doesn't come close to making up for his looks . \n",
      "if you have been following along up to this point , this shouldn't surprise you . \n",
      "meyer's stable of well endowed girls also have the benefit of being fairly attractive to go along with their other assets . \n",
      "dolly reed plays kelly , the leader of the band . \n",
      "and no surprise here , she was cast for her cup size , not her talents . \n",
      "and yes , she does loose the shirt a few times and display her impressive talents . \n",
      "sadly , her ass is almost as large as her chest . \n",
      "hey , it a sexist movie , so i'm writing a sexist review . \n",
      "then we have former playboy playmate cynthia myers in a fairly small role as casey , one of the other band members . \n",
      "this goes along with the rest of the idiotic thinking in the movie . \n",
      "meyer casts a gorgeous playmate with a rack to kill for and who obviously has no acting talent at all , but her nude scenes are the biggest disappointment of all . \n",
      "sure russ , now is the time to get artsy and throw in some well placed shadows . \n",
      "on the up side , she does have a fun lesbo scene . \n",
      "i sound like i'm writing a review in a porn magazine . \n",
      "but hey , i'll admit it ; the only reason that i actually managed to sit through this damn movie was to catch a look at cynthia myers naked . \n",
      "and since that was a huge disappointment , i pretty much wasted two hours of my life on this turkey . \n",
      "the only thing that i can say about this movie is that you should stay away from it . \n",
      "unless of course you want to feel good about yourself by knowing that even a pulitzer prize winning film critic like roger ebert has screwed up at least once in his life too . \n",
      "and if you are thinking of checking it out for the double d's -- you are better off just downloading nude cynthia myers pictures off the internet . \n",
      "this is a movie that should be avoided at all costs . \n",
      "an even better idea might be to require video stores to place a warning on the box of beyond the valley of the dolls -- beware : this movie is extremely hazardous to your common sense . \n",
      "proceed with extreme caution . \n",
      "\n",
      "bad . bad . \n",
      "bad . \n",
      "that one word seems to pretty much sums up beyond the valley of the dolls . \n",
      "if that summary isn't enough for you , how about t&a , t&a , t&a ? \n",
      "still haven't got the point ? \n",
      "other than director russ meyer's predilection for casting attractive large breasted women who ultimately expose the afore-mentioned anatomical areas , there is really only one other reason to recommend even taking a look at this movie . \n",
      "that is the fact that it was co-written by famed film critic roger ebert , who also was responsible for the screenplay . \n",
      "after watching this movie you will never be able to sit through another one of his reviews where he gives a movie a thumbs down for bad writing with a straight face . \n",
      "this movie stinks out loud . \n",
      "quite frankly , this movie deserves a . \n",
      "but there are parts of it that are so bad they are almost funny . \n",
      "so i'm giving it a . \n",
      "and maybe that is too generous . \n",
      "right from the opening credits , i knew that i had a class-a bomb on my hands . \n",
      "not only are the way the credits actually shot distracting , but the first scene you see includes a big breasted young woman being chased by a guy in a nazi uniform . \n",
      "i had absolutely no idea why the hell that was happening ( it does get explained later ) and as soon as the first scene is over , we cut to a completely unrelated scene . \n",
      "to be honest , as i sat through this movie mesmerized by just how incredibly awful it was , i actually forgot about the seemingly out of place opening until it popped up again later in the film . \n",
      "with the quality of the writing during the rest of the film , it wouldn't have surprised me if the opening had never been explained . \n",
      "so what is this movie about ? \n",
      "you ask . \n",
      "like it really matters . \n",
      "ok , here goes . \n",
      "this all-girl band headed by kelly macnamara ( dolly reed ) and her friends go to hollywood to try to gain a foothold in the music industry . \n",
      "once there , they do manage to find success ( due as much to their hooters as anything else ? it sure wasn't for their brutally bad singing voices ) , and the movie chronicles how their lives change for the worse as the pressures of fame get to them . \n",
      "everything from big egos , to booze and drugs to free flowing sex sends them on a downward spiral . \n",
      "there are a couple of other idiotic subplots thrown in for good measure , but the fame is the one that pretty much sums up this thing . \n",
      ">from a creative standpoint there is nothing redeeming here . \n",
      "other than the above-mentioned obsession with big knockers that russ meyer seemed to have . \n",
      "the dialogue is so incredibly bad that it literally is funny in parts . \n",
      "mr . ebert has generously thrown in helpings of \" hey man \" , \" dig \" and my all time favorite -- \" this is my happening , and it freaks me out \" . \n",
      "now i ask you , with lines like that how can you go wrong ? \n",
      "ebert had tried to inject as many big words as possible into the dialogue . \n",
      "maybe he thought it would make the movie seem smarter . \n",
      "i don't know , but all the big words in the world wouldn't be able to disguise the bad writing and even worse acting . \n",
      "but the wretched dialogue goes along well with the wretched quality of everything else in this movie . \n",
      "i've seen home movies directed better than meyer managed with this turkey . \n",
      "in fact , there is one scene -- the one in which they are in a van driving to hollywood to make their fortunes -- during which i really had to question if meyer or his editors had just suffered serious head injuries . \n",
      "add to the directing and writing the music in this movie . \n",
      "i almost got up to check my sound system to see if it was broken , there was such a pile of crap emanating from the speakers . \n",
      "then we have the cast . \n",
      "first lets start david gurian who played harris , the manager of the band . \n",
      "this has got to be the goofiest looking guy that has ever set foot in front of a motion picture camera . \n",
      "sadly , his acting doesn't come close to making up for his looks . \n",
      "if you have been following along up to this point , this shouldn't surprise you . \n",
      "meyer's stable of well endowed girls also have the benefit of being fairly attractive to go along with their other assets . \n",
      "dolly reed plays kelly , the leader of the band . \n",
      "and no surprise here , she was cast for her cup size , not her talents . \n",
      "and yes , she does loose the shirt a few times and display her impressive talents . \n",
      "sadly , her ass is almost as large as her chest . \n",
      "hey , it a sexist movie , so i'm writing a sexist review . \n",
      "then we have former playboy playmate cynthia myers in a fairly small role as casey , one of the other band members . \n",
      "this goes along with the rest of the idiotic thinking in the movie . \n",
      "meyer casts a gorgeous playmate with a rack to kill for and who obviously has no acting talent at all , but her nude scenes are the biggest disappointment of all . \n",
      "sure russ , now is the time to get artsy and throw in some well placed shadows . \n",
      "on the up side , she does have a fun lesbo scene . \n",
      "i sound like i'm writing a review in a porn magazine . \n",
      "but hey , i'll admit it ; the only reason that i actually managed to sit through this damn movie was to catch a look at cynthia myers naked . \n",
      "and since that was a huge disappointment , i pretty much wasted two hours of my life on this turkey . \n",
      "the only thing that i can say about this movie is that you should stay away from it . \n",
      "unless of course you want to feel good about yourself by knowing that even a pulitzer prize winning film critic like roger ebert has screwed up at least once in his life too . \n",
      "and if you are thinking of checking it out for the double d's -- you are better off just downloading nude cynthia myers pictures off the internet . \n",
      "this is a movie that should be avoided at all costs . \n",
      "an even better idea might be to require video stores to place a warning on the box of beyond the valley of the dolls -- beware : this movie is extremely hazardous to your common sense . \n",
      "proceed with extreme caution . \n",
      "\n"
     ]
    }
   ],
   "source": [
    "import unicodedata\n",
    "\n",
    "doc = unicodedata.normalize('NFD',alltxts[0]).encode('ascii', 'ignore').decode(\"utf-8\")\n",
    "doc = doc.lower()\n",
    "print (alltxts[0])\n",
    "print(doc)\n",
    "\n",
    "# pas utile pour notre exemple"
   ]
  },
  {
   "cell_type": "code",
   "execution_count": 129,
   "metadata": {},
   "outputs": [],
   "source": [
    "\n",
    "\n",
    "def preprocess(x):\n",
    "    new_list = [0]*len(x)\n",
    "    i = 0\n",
    "    for example in x:\n",
    "        new_list[i] = example\n",
    "        new_list[i] = re.sub(\"'\",'',example) #texte en anglais on doit garder les 't de négations\n",
    "        new_list[i] = new_list[i].translate(str.maketrans(punc, ' ' * len(punc)))  \n",
    "        i += 1\n",
    "    return new_list\n",
    "\n",
    "alltxts, sentiment_txt = preprocess(alltxts), preprocess(sentiment_txt)\n",
    "test_para = preprocess(test_para)\n",
    "#-->transformation de nos exemples\n",
    "#print(alltxts[0])\n",
    "#print(test_para[0])\n",
    "# CountVectorizer can take a list of stop words as argument.\n",
    "# Build or download a list of stop word (from NLTK for exemple)\n",
    "\n"
   ]
  },
  {
   "cell_type": "markdown",
   "metadata": {},
   "source": [
    "- test de l'effet de retrait de la ponctuation"
   ]
  },
  {
   "cell_type": "code",
   "execution_count": 130,
   "metadata": {},
   "outputs": [],
   "source": [
    "from sklearn.feature_extraction.text import CountVectorizer"
   ]
  },
  {
   "cell_type": "code",
   "execution_count": 218,
   "metadata": {},
   "outputs": [
    {
     "name": "stdout",
     "output_type": "stream",
     "text": [
      "[('', 472459), ('the', 76573), ('a', 38099), ('and', 35581), ('of', 34126), ('to', 31939), ('is', 25206), ('in', 21826), ('that', 15130), ('it', 12350), ('as', 11380), ('with', 10792), ('for', 9961), ('his', 9588), ('this', 9577), ('film', 8936), ('but', 8635), ('he', 7633), ('i', 7533), ('on', 7384), ('are', 6950), ('by', 6262), ('be', 6172), ('its', 5990), ('one', 5794), ('an', 5744), ('not', 5584), ('movie', 5543), ('who', 5393), ('from', 4999), ('at', 4988), ('was', 4939), ('have', 4902), ('has', 4720), ('her', 4521), ('you', 4464), ('all', 4369), ('they', 4289), ('like', 3691), ('so', 3684), ('out', 3637), ('about', 3523), ('up', 3404), ('more', 3350), ('when', 3257), ('which', 3161), ('or', 3146), ('their', 3123), ('what', 3090), ('some', 2986)]\n"
     ]
    },
    {
     "data": {
      "image/png": "[encoded data removed]",
      "text/plain": [
       "<Figure size 432x288 with 1 Axes>"
      ]
     },
     "metadata": {
      "needs_background": "light"
     },
     "output_type": "display_data"
    }
   ],
   "source": [
    "wc = Counter()\n",
    "nb_max = 500\n",
    "\n",
    "for text in alltxts:\n",
    "    wc.update(text.split(\" \")) \n",
    "    \n",
    "    #considère chaque mot comme étant des unités espacées par un \" \" \n",
    "    \n",
    "freq = [f for w,f in wc.most_common()]\n",
    "plt.plot(freq[:nb_max])\n",
    "\n",
    "print(wc.most_common(50))\n",
    "\n"
   ]
  },
  {
   "cell_type": "markdown",
   "metadata": {},
   "source": [
    "# Extraction du vocabulaire\n",
    "\n",
    "Exploration préliminaire des jeux de données.\n",
    "\n",
    "- Quelle est la taille d'origine du vocabulaire?\n",
    "- Que reste-t-il si on ne garde que les 100 mots les plus fréquents? [word cloud]\n",
    "- Quels sont les 100 mots dont la fréquence documentaire est la plus grande? [word cloud]\n",
    "- Quels sont les 100 mots les plus discriminants au sens de odds ratio? [word cloud]\n",
    "- Quelle est la distribution d'apparition des mots (Zipf)\n",
    "- Quels sont les 100 bigrammes/trigrammes les plus fréquents?\n"
   ]
  },
  {
   "cell_type": "markdown",
   "metadata": {},
   "source": [
    "Question qui devient de plus en plus intéressante avec les approches modernes:\n",
    "est-il possible d'extraire des tri-grammes de lettres pour représenter nos documents?\n",
    "\n",
    "Quelle performances attendrent? Quels sont les avantages et les inconvénients d'une telle approche?"
   ]
  },
  {
   "cell_type": "code",
   "execution_count": 219,
   "metadata": {},
   "outputs": [
    {
     "name": "stderr",
     "output_type": "stream",
     "text": [
      "/Users/louis/opt/anaconda3/lib/python3.9/site-packages/sklearn/utils/deprecation.py:87: FutureWarning: Function get_feature_names is deprecated; get_feature_names is deprecated in 1.0 and will be removed in 1.2. Please use get_feature_names_out instead.\n",
      "  warnings.warn(msg, category=FutureWarning)\n"
     ]
    },
    {
     "name": "stdout",
     "output_type": "stream",
     "text": [
      "Il y a 41452 mots dans l'ensemble de training.\n",
      "Il y a 79109 mots dans l'ensemble de test.\n",
      "Il y a 623 mots dans l'ensemble de test_para.\n"
     ]
    }
   ],
   "source": [
    "from sklearn.feature_extraction.text import CountVectorizer\n",
    "\n",
    "count = CountVectorizer()\n",
    "Xcount_train = count.fit_transform(alltxts)\n",
    "print(\"Il y a \" + str(len(count.get_feature_names())) + \" mots dans l'ensemble de training.\")\n",
    "#print(count.get_feature_names())\n",
    "Xcount_test = count.fit_transform(sentiment_txt)\n",
    "print(\"Il y a \" + str(len(count.get_feature_names())) + \" mots dans l'ensemble de test.\")\n",
    "#print(count.get_feature_names())\n",
    "Xcount_train = count.fit_transform(test_para)\n",
    "print(\"Il y a \" + str(len(count.get_feature_names())) + \" mots dans l'ensemble de test_para.\")\n",
    "#print(count.get_feature_names())\n"
   ]
  },
  {
   "cell_type": "code",
   "execution_count": 133,
   "metadata": {},
   "outputs": [],
   "source": [
    "wc = Counter()\n",
    "\n",
    "for text in alltxts:\n",
    "    wc.update(text.split(\" \")) \n",
    "    \n",
    "freq_train = [f for w,f in wc.most_common()]\n",
    "words_train = [w for w,f in wc.most_common()]\n",
    "\n",
    "freq_100 = freq_train[:100]\n",
    "words_100 = words_train[:100]\n"
   ]
  },
  {
   "cell_type": "code",
   "execution_count": 134,
   "metadata": {},
   "outputs": [
    {
     "data": {
      "text/plain": [
       "'from wordcloud import WordCloud\\n\\nwords_100 = \" \".join(words_100)\\nwordcloud = WordCloud().generate(words_100)\\n\\nplt.imshow(wordcloud, interpolation=\\'bilinear\\')\\nplt.axis(\"off\")'"
      ]
     },
     "execution_count": 134,
     "metadata": {},
     "output_type": "execute_result"
    }
   ],
   "source": [
    " '''from wordcloud import WordCloud\n",
    "\n",
    "words_100 = \" \".join(words_100)\n",
    "wordcloud = WordCloud().generate(words_100)\n",
    "\n",
    "plt.imshow(wordcloud, interpolation='bilinear')\n",
    "plt.axis(\"off\")'''"
   ]
  },
  {
   "cell_type": "code",
   "execution_count": 220,
   "metadata": {},
   "outputs": [
    {
     "name": "stdout",
     "output_type": "stream",
     "text": [
      "76573\n",
      "290156\n"
     ]
    }
   ],
   "source": [
    "wc = Counter()\n",
    "\n",
    "for text in sentiment_txt:\n",
    "    wc.update(text.split(\" \"))\n",
    "\n",
    "freq_test = [f for w,f in wc.most_common()]\n",
    "words_test = [w for w,f in wc.most_common()]\n",
    "\n",
    "#Création de dictionnaires\n",
    "\n",
    "freq_train_ = {}\n",
    "freq_test_ = {}\n",
    "\n",
    "for i in range(len(words_train)):\n",
    "    freq_train_[words_train[i]] = freq_train[i]\n",
    "\n",
    "for i in range(len(words_test)):\n",
    "    freq_test_[words_test[i]] = freq_test[i]\n",
    "\n",
    "print(freq_train_[\"the\"])\n",
    "print(freq_test_[\"the\"])"
   ]
  },
  {
   "cell_type": "code",
   "execution_count": 221,
   "metadata": {},
   "outputs": [
    {
     "name": "stdout",
     "output_type": "stream",
     "text": [
      "['108 minutes' '108 odd' '1970 was' ... 'your teachers'\n",
      " 'youthful exploits' 'zsigmond future']\n",
      "[0 0 0 ... 1 0 0]\n"
     ]
    }
   ],
   "source": [
    "vectorizer2 = CountVectorizer(analyzer='word', ngram_range=(2, 2))\n",
    "X2count_train = vectorizer2.fit_transform(test_para)\n",
    "print(vectorizer2.get_feature_names_out())\n",
    "print(X2count_train.toarray()[1])"
   ]
  },
  {
   "cell_type": "code",
   "execution_count": 222,
   "metadata": {},
   "outputs": [
    {
     "name": "stdout",
     "output_type": "stream",
     "text": [
      "1340 1340\n",
      "660 660\n"
     ]
    }
   ],
   "source": [
    "x_fit, x_boost, y_fit, y_boost = train_test_split(alltxts, alllabs, test_size = 0.33, random_state = 42)\n",
    "\n",
    "print(len(x_fit), len(y_fit))\n",
    "print(len(x_boost), len(y_boost))"
   ]
  },
  {
   "cell_type": "markdown",
   "metadata": {},
   "source": [
    "# Modèles de Machine Learning\n",
    "\n",
    "Avant de lancer de grandes expériences, il faut se construire une base de travail solide en étudiant les questions suivantes:\n",
    "\n",
    "- Combien de temps ça prend d'apprendre un classifieur NB/SVM/RegLog sur ces données en fonction de la taille du vocabulaire?\n",
    "- La validation croisée est-elle nécessaire? Est ce qu'on obtient les mêmes résultats avec un simple *split*?\n",
    "- La validation croisée est-elle stable? A partir de combien de fold (travailler avec différentes graines aléatoires et faire des statistiques basiques)?"
   ]
  },
  {
   "cell_type": "markdown",
   "metadata": {},
   "source": [
    "# Construction des tables"
   ]
  },
  {
   "cell_type": "code",
   "execution_count": 138,
   "metadata": {},
   "outputs": [],
   "source": [
    "#Dataframe split\n",
    "results_split = pd.DataFrame(columns=['NB', 'Temps_NB', 'LR', 'Temps_LR', 'SVM', 'Temps_SVM'], index=['PP classic', 'ngram=1', 'ngram=2', 'ngram=3', 'stopwords', 'max_features', 'max_def', 'mod'])\n",
    "\n",
    "#Dataframe Cross-validation\n",
    "results_cv = pd.DataFrame(columns=['NB', 'Temps_NB', 'LR', 'Temps_LR', 'SVM', 'Temps_SVM'],  index=['PP classic', 'ngram=1', 'ngram=2', 'ngram=3', 'stopwords', 'max_features', 'max_def', 'mod'])\n"
   ]
  },
  {
   "cell_type": "markdown",
   "metadata": {},
   "source": [
    "# Application de différents modèles"
   ]
  },
  {
   "cell_type": "markdown",
   "metadata": {},
   "source": [
    "## Pre-processing classique"
   ]
  },
  {
   "cell_type": "markdown",
   "metadata": {},
   "source": [
    "### Avec split"
   ]
  },
  {
   "cell_type": "code",
   "execution_count": 139,
   "metadata": {},
   "outputs": [],
   "source": [
    "vectorizer = CountVectorizer()\n",
    "\n",
    "x_train_pp_split = vectorizer.fit_transform(x_fit) \n",
    "x_test_pp_split = vectorizer.transform(x_boost)\n",
    "\n",
    "#Naïve Bayes\n",
    "start_nb = time.time()\n",
    "mod_nb = MultinomialNB()\n",
    "mod_nb.fit(x_train_pp_split, y_fit)\n",
    "end_nb = time.time()\n",
    "results_split.loc['PP classic', 'NB'] = mod_nb.score(x_test_pp_split, y_boost)\n",
    "results_split.loc['PP classic', 'Temps_NB'] = end_nb - start_nb\n",
    "\n",
    "#Logistic Regression\n",
    "start_lr = time.time()\n",
    "mod_lr = LogisticRegression(random_state=0, C=1e-3)\n",
    "mod_lr.fit(x_train_pp_split, y_fit)\n",
    "end_lr = time.time()\n",
    "results_split.loc['PP classic', 'LR'] = mod_lr.score(x_test_pp_split, y_boost)\n",
    "results_split.loc['PP classic', 'Temps_LR'] = end_lr - start_lr\n",
    "\n",
    "#Linear SVM\n",
    "start_svm = time.time()\n",
    "mod_svm = LinearSVC(random_state=0, tol=1e-5, C=1e-3)\n",
    "mod_svm.fit(x_train_pp_split, y_fit)\n",
    "end_svm = time.time()\n",
    "results_split.loc['PP classic', 'SVM'] = mod_svm.score(x_test_pp_split, y_boost)\n",
    "results_split.loc['PP classic', 'Temps_SVM'] = end_svm - start_svm"
   ]
  },
  {
   "cell_type": "markdown",
   "metadata": {},
   "source": [
    "### Avec validation croisée\n"
   ]
  },
  {
   "cell_type": "code",
   "execution_count": 140,
   "metadata": {},
   "outputs": [],
   "source": [
    "x_train_pp_cv = vectorizer.fit_transform(alltxts)\n",
    "\n",
    "#Naïve Bayes\n",
    "start_nb = time.time()\n",
    "mod_nb_cv = cross_val_score(mod_nb, x_train_pp_cv, alllabs , cv=5, scoring='accuracy')\n",
    "end_nb = time.time()\n",
    "results_cv.loc['PP classic', 'NB'] = mod_nb_cv.mean()\n",
    "results_cv.loc['PP classic', 'Temps_NB'] = end_nb - start_nb\n",
    "\n",
    "#Logistic Regression\n",
    "start_lr = time.time()\n",
    "mod_lr_cv = cross_val_score(mod_lr, x_train_pp_cv, alllabs, cv=5, scoring='accuracy')\n",
    "end_lr = time.time()\n",
    "results_cv.loc['PP classic', 'LR'] = mod_lr_cv.mean()\n",
    "results_cv.loc['PP classic', 'Temps_LR'] = end_lr - start_lr\n",
    "\n",
    "#Linear SVM\n",
    "start_svm = time.time()\n",
    "mod_svm_cv = cross_val_score(mod_svm, x_train_pp_cv, alllabs, cv=5, scoring='accuracy')\n",
    "end_svm = time.time()\n",
    "results_cv.loc['PP classic', 'SVM'] = mod_svm_cv.mean()\n",
    "results_cv.loc['PP classic', 'Temps_SVM'] = end_svm - start_svm"
   ]
  },
  {
   "cell_type": "code",
   "execution_count": 159,
   "metadata": {},
   "outputs": [],
   "source": [
    "vectorizer_ngram1 = CountVectorizer(ngram_range=(1,1))\n",
    "\n",
    "x_train_ng1_split = vectorizer_ngram1.fit_transform(x_fit) \n",
    "x_test_ng1_split = vectorizer_ngram1.transform(x_boost)\n",
    "\n",
    "#Naïve Bayes\n",
    "start_nb = time.time()\n",
    "mod_nb = MultinomialNB()\n",
    "mod_nb.fit(x_train_ng1_split, y_fit)\n",
    "end_nb = time.time()\n",
    "results_split.loc['ngram=1', 'NB'] = mod_nb.score(x_test_ng1_split, y_boost)\n",
    "results_split.loc['ngram=1', 'Temps_NB'] = end_nb - start_nb\n",
    "\n",
    "#Logistic Regression\n",
    "start_lr = time.time()\n",
    "mod_lr = LogisticRegression(random_state=0, C=1e-3)\n",
    "mod_lr.fit(x_train_ng1_split, y_fit)\n",
    "end_lr = time.time()\n",
    "results_split.loc['ngram=1', 'LR'] = mod_lr.score(x_test_ng1_split, y_boost)\n",
    "results_split.loc['ngram=1', 'Temps_LR'] = end_lr - start_lr\n",
    "\n",
    "#Linear SVM\n",
    "start_svm = time.time()\n",
    "mod_svm = LinearSVC(random_state=0, tol=1e-5, C=1e-3)\n",
    "mod_svm.fit(x_train_ng1_split, y_fit)\n",
    "end_svm = time.time()\n",
    "results_split.loc['ngram=1', 'SVM'] = mod_svm.score(x_test_ng1_split, y_boost)\n",
    "results_split.loc['ngram=1', 'Temps_SVM'] = end_svm - start_svm"
   ]
  },
  {
   "cell_type": "code",
   "execution_count": 160,
   "metadata": {},
   "outputs": [],
   "source": [
    "x_train_ng1_cv = vectorizer_ngram1.fit_transform(alltxts)\n",
    "\n",
    "#Naïve Bayes\n",
    "start_nb = time.time()\n",
    "mod_nb_cv = cross_val_score(mod_nb, x_train_ng1_cv, alllabs, cv=5, scoring='accuracy')\n",
    "end_nb = time.time()\n",
    "results_cv.loc['ngram=1', 'NB'] = mod_nb_cv.mean()\n",
    "results_cv.loc['ngram=1', 'Temps_NB'] = end_nb - start_nb\n",
    "\n",
    "#Logistic Regression\n",
    "start_lr = time.time()\n",
    "mod_lr_cv = cross_val_score(mod_lr, x_train_ng1_cv, alllabs, cv=5, scoring='accuracy')\n",
    "end_lr = time.time()\n",
    "results_cv.loc['ngram=1', 'LR'] = mod_lr_cv.mean()\n",
    "results_cv.loc['ngram=1', 'Temps_LR'] = end_lr - start_lr\n",
    "\n",
    "#Linear SVM\n",
    "start_svm = time.time()\n",
    "mod_svm_cv = cross_val_score(mod_svm, x_train_ng1_cv, alllabs, cv=5, scoring='accuracy')\n",
    "end_svm = time.time()\n",
    "results_cv.loc['ngram=1', 'SVM'] = mod_svm_cv.mean()\n",
    "results_cv.loc['ngram=1', 'Temps_SVM'] = end_svm - start_svm"
   ]
  },
  {
   "cell_type": "code",
   "execution_count": 163,
   "metadata": {},
   "outputs": [],
   "source": [
    "vectorizer_ngram2 = CountVectorizer(ngram_range=(1,2))\n",
    "\n",
    "x_train_ng2_split = vectorizer_ngram2.fit_transform(x_fit) \n",
    "x_test_ng2_split = vectorizer_ngram2.transform(x_boost)\n",
    "\n",
    "#Naïve Bayes\n",
    "start_nb = time.time()\n",
    "mod_nb = MultinomialNB()\n",
    "mod_nb.fit(x_train_ng2_split, y_fit)\n",
    "end_nb = time.time()\n",
    "results_split.loc['ngram=2', 'NB'] = mod_nb.score(x_test_ng2_split, y_boost)\n",
    "results_split.loc['ngram=2', 'Temps_NB'] = end_nb - start_nb\n",
    "\n",
    "#Logistic Regression\n",
    "start_lr = time.time()\n",
    "mod_lr = LogisticRegression(random_state=0, C=1e-3)\n",
    "mod_lr.fit(x_train_ng2_split, y_fit)\n",
    "end_lr = time.time()\n",
    "results_split.loc['ngram=2', 'LR'] = mod_lr.score(x_test_ng2_split, y_boost)\n",
    "results_split.loc['ngram=2', 'Temps_LR'] = end_lr - start_lr\n",
    "\n",
    "#Linear SVM\n",
    "start_svm = time.time()\n",
    "mod_svm = LinearSVC(random_state=0, tol=1e-5, C=1e-3)\n",
    "mod_svm.fit(x_train_ng2_split, y_fit)\n",
    "end_svm = time.time()\n",
    "results_split.loc['ngram=2', 'SVM'] = mod_svm.score(x_test_ng2_split, y_boost)\n",
    "results_split.loc['ngram=2', 'Temps_SVM'] = end_svm - start_svm"
   ]
  },
  {
   "cell_type": "code",
   "execution_count": 164,
   "metadata": {},
   "outputs": [],
   "source": [
    "x_train_ng2_cv = vectorizer_ngram2.fit_transform(alltxts)\n",
    "\n",
    "#Naïve Bayes\n",
    "start_nb = time.time()\n",
    "mod_nb_cv = cross_val_score(mod_nb, x_train_ng2_cv, alllabs, cv=5, scoring='accuracy')\n",
    "end_nb = time.time()\n",
    "results_cv.loc['ngram=2', 'NB'] = mod_nb_cv.mean()\n",
    "results_cv.loc['ngram=2', 'Temps_NB'] = end_nb - start_nb\n",
    "\n",
    "#Logistic Regression\n",
    "start_lr = time.time()\n",
    "mod_lr_cv = cross_val_score(mod_lr, x_train_ng2_cv, alllabs, cv=5, scoring='accuracy')\n",
    "end_lr = time.time()\n",
    "results_cv.loc['ngram=2', 'LR'] = mod_lr_cv.mean()\n",
    "results_cv.loc['ngram=2', 'Temps_LR'] = end_lr - start_lr\n",
    "\n",
    "#Linear SVM\n",
    "start_svm = time.time()\n",
    "mod_svm_cv = cross_val_score(mod_svm, x_train_ng2_cv, alllabs, cv=5, scoring='accuracy')\n",
    "end_svm = time.time()\n",
    "results_cv.loc['ngram=2', 'SVM'] = mod_svm_cv.mean()\n",
    "results_cv.loc['ngram=2', 'Temps_SVM'] = end_svm - start_svm"
   ]
  },
  {
   "cell_type": "code",
   "execution_count": 165,
   "metadata": {},
   "outputs": [],
   "source": [
    "vectorizer_ngram3 = CountVectorizer(ngram_range=(1,3))\n",
    "\n",
    "x_train_ng3_split = vectorizer_ngram3.fit_transform(x_fit) \n",
    "x_test_ng3_split = vectorizer_ngram3.transform(x_boost)\n",
    "\n",
    "#Naïve Bayes\n",
    "start_nb = time.time()\n",
    "mod_nb = MultinomialNB()\n",
    "mod_nb.fit(x_train_ng3_split, y_fit)\n",
    "end_nb = time.time()\n",
    "results_split.loc['ngram=3', 'NB'] = mod_nb.score(x_test_ng3_split, y_boost)\n",
    "results_split.loc['ngram=3', 'Temps_NB'] = end_nb - start_nb\n",
    "\n",
    "#Logistic Regression\n",
    "start_lr = time.time()\n",
    "mod_lr = LogisticRegression(random_state=0, C=1e-3)\n",
    "mod_lr.fit(x_train_ng3_split, y_fit)\n",
    "end_lr = time.time()\n",
    "results_split.loc['ngram=3', 'LR'] = mod_lr.score(x_test_ng3_split, y_boost)\n",
    "results_split.loc['ngram=3', 'Temps_LR'] = end_lr - start_lr\n",
    "\n",
    "#Linear SVM\n",
    "start_svm = time.time()\n",
    "mod_svm = LinearSVC(random_state=0, tol=1e-5, C=1e-3)\n",
    "mod_svm.fit(x_train_ng3_split, y_fit)\n",
    "end_svm = time.time()\n",
    "results_split.loc['ngram=3', 'SVM'] = mod_svm.score(x_test_ng3_split, y_boost)\n",
    "results_split.loc['ngram=3', 'Temps_SVM'] = end_svm - start_svm"
   ]
  },
  {
   "cell_type": "code",
   "execution_count": 166,
   "metadata": {},
   "outputs": [],
   "source": [
    "x_train_ng3_cv = vectorizer_ngram3.fit_transform(alltxts)\n",
    "\n",
    "#Naïve Bayes\n",
    "start_nb = time.time()\n",
    "mod_nb_cv = cross_val_score(mod_nb, x_train_ng3_cv, alllabs, cv=5, scoring='accuracy')\n",
    "end_nb = time.time()\n",
    "results_cv.loc['ngram=3', 'NB'] = mod_nb_cv.mean()\n",
    "results_cv.loc['ngram=3', 'Temps_NB'] = end_nb - start_nb\n",
    "\n",
    "#Logistic Regression\n",
    "start_lr = time.time()\n",
    "mod_lr_cv = cross_val_score(mod_lr, x_train_ng3_cv, alllabs, cv=5, scoring='accuracy')\n",
    "end_lr = time.time()\n",
    "results_cv.loc['ngram=3', 'LR'] = mod_lr_cv.mean()\n",
    "results_cv.loc['ngram=3', 'Temps_LR'] = end_lr - start_lr\n",
    "\n",
    "#Linear SVM\n",
    "start_svm = time.time()\n",
    "mod_svm_cv = cross_val_score(mod_svm, x_train_ng3_cv, alllabs, cv=5, scoring='accuracy')\n",
    "end_svm = time.time()\n",
    "results_cv.loc['ngram=3', 'SVM'] = mod_svm_cv.mean()\n",
    "results_cv.loc['ngram=3', 'Temps_SVM'] = end_svm - start_svm"
   ]
  },
  {
   "cell_type": "code",
   "execution_count": 167,
   "metadata": {},
   "outputs": [
    {
     "data": {
      "text/html": [
       "<div>\n",
       "<style scoped>\n",
       "    .dataframe tbody tr th:only-of-type {\n",
       "        vertical-align: middle;\n",
       "    }\n",
       "\n",
       "    .dataframe tbody tr th {\n",
       "        vertical-align: top;\n",
       "    }\n",
       "\n",
       "    .dataframe thead th {\n",
       "        text-align: right;\n",
       "    }\n",
       "</style>\n",
       "<table border=\"1\" class=\"dataframe\">\n",
       "  <thead>\n",
       "    <tr style=\"text-align: right;\">\n",
       "      <th></th>\n",
       "      <th>NB</th>\n",
       "      <th>Temps_NB</th>\n",
       "      <th>LR</th>\n",
       "      <th>Temps_LR</th>\n",
       "      <th>SVM</th>\n",
       "      <th>Temps_SVM</th>\n",
       "    </tr>\n",
       "  </thead>\n",
       "  <tbody>\n",
       "    <tr>\n",
       "      <th>PP classic</th>\n",
       "      <td>0.813636</td>\n",
       "      <td>0.013671</td>\n",
       "      <td>0.769697</td>\n",
       "      <td>0.634175</td>\n",
       "      <td>0.827273</td>\n",
       "      <td>0.525616</td>\n",
       "    </tr>\n",
       "    <tr>\n",
       "      <th>ngram=1</th>\n",
       "      <td>0.813636</td>\n",
       "      <td>0.009338</td>\n",
       "      <td>0.769697</td>\n",
       "      <td>0.441728</td>\n",
       "      <td>0.827273</td>\n",
       "      <td>0.295927</td>\n",
       "    </tr>\n",
       "    <tr>\n",
       "      <th>ngram=2</th>\n",
       "      <td>0.830303</td>\n",
       "      <td>0.088692</td>\n",
       "      <td>0.772727</td>\n",
       "      <td>18.18269</td>\n",
       "      <td>0.834848</td>\n",
       "      <td>1.780885</td>\n",
       "    </tr>\n",
       "    <tr>\n",
       "      <th>ngram=3</th>\n",
       "      <td>0.815152</td>\n",
       "      <td>0.116268</td>\n",
       "      <td>0.771212</td>\n",
       "      <td>13.319071</td>\n",
       "      <td>0.824242</td>\n",
       "      <td>3.852801</td>\n",
       "    </tr>\n",
       "    <tr>\n",
       "      <th>stopwords</th>\n",
       "      <td>NaN</td>\n",
       "      <td>NaN</td>\n",
       "      <td>NaN</td>\n",
       "      <td>NaN</td>\n",
       "      <td>NaN</td>\n",
       "      <td>NaN</td>\n",
       "    </tr>\n",
       "    <tr>\n",
       "      <th>max_features</th>\n",
       "      <td>NaN</td>\n",
       "      <td>NaN</td>\n",
       "      <td>NaN</td>\n",
       "      <td>NaN</td>\n",
       "      <td>NaN</td>\n",
       "      <td>NaN</td>\n",
       "    </tr>\n",
       "    <tr>\n",
       "      <th>max_def</th>\n",
       "      <td>NaN</td>\n",
       "      <td>NaN</td>\n",
       "      <td>NaN</td>\n",
       "      <td>NaN</td>\n",
       "      <td>NaN</td>\n",
       "      <td>NaN</td>\n",
       "    </tr>\n",
       "    <tr>\n",
       "      <th>boost</th>\n",
       "      <td>NaN</td>\n",
       "      <td>NaN</td>\n",
       "      <td>NaN</td>\n",
       "      <td>NaN</td>\n",
       "      <td>NaN</td>\n",
       "      <td>NaN</td>\n",
       "    </tr>\n",
       "  </tbody>\n",
       "</table>\n",
       "</div>"
      ],
      "text/plain": [
       "                    NB  Temps_NB        LR   Temps_LR       SVM Temps_SVM\n",
       "PP classic    0.813636  0.013671  0.769697   0.634175  0.827273  0.525616\n",
       "ngram=1       0.813636  0.009338  0.769697   0.441728  0.827273  0.295927\n",
       "ngram=2       0.830303  0.088692  0.772727   18.18269  0.834848  1.780885\n",
       "ngram=3       0.815152  0.116268  0.771212  13.319071  0.824242  3.852801\n",
       "stopwords          NaN       NaN       NaN        NaN       NaN       NaN\n",
       "max_features       NaN       NaN       NaN        NaN       NaN       NaN\n",
       "max_def            NaN       NaN       NaN        NaN       NaN       NaN\n",
       "boost              NaN       NaN       NaN        NaN       NaN       NaN"
      ]
     },
     "execution_count": 167,
     "metadata": {},
     "output_type": "execute_result"
    }
   ],
   "source": [
    "results_split"
   ]
  },
  {
   "cell_type": "code",
   "execution_count": 168,
   "metadata": {},
   "outputs": [
    {
     "data": {
      "text/html": [
       "<div>\n",
       "<style scoped>\n",
       "    .dataframe tbody tr th:only-of-type {\n",
       "        vertical-align: middle;\n",
       "    }\n",
       "\n",
       "    .dataframe tbody tr th {\n",
       "        vertical-align: top;\n",
       "    }\n",
       "\n",
       "    .dataframe thead th {\n",
       "        text-align: right;\n",
       "    }\n",
       "</style>\n",
       "<table border=\"1\" class=\"dataframe\">\n",
       "  <thead>\n",
       "    <tr style=\"text-align: right;\">\n",
       "      <th></th>\n",
       "      <th>NB</th>\n",
       "      <th>Temps_NB</th>\n",
       "      <th>LR</th>\n",
       "      <th>Temps_LR</th>\n",
       "      <th>SVM</th>\n",
       "      <th>Temps_SVM</th>\n",
       "    </tr>\n",
       "  </thead>\n",
       "  <tbody>\n",
       "    <tr>\n",
       "      <th>PP classic</th>\n",
       "      <td>0.8155</td>\n",
       "      <td>0.076286</td>\n",
       "      <td>0.7965</td>\n",
       "      <td>3.293761</td>\n",
       "      <td>0.84</td>\n",
       "      <td>3.056106</td>\n",
       "    </tr>\n",
       "    <tr>\n",
       "      <th>ngram=1</th>\n",
       "      <td>0.8155</td>\n",
       "      <td>0.067571</td>\n",
       "      <td>0.7965</td>\n",
       "      <td>4.818061</td>\n",
       "      <td>0.84</td>\n",
       "      <td>3.128508</td>\n",
       "    </tr>\n",
       "    <tr>\n",
       "      <th>ngram=2</th>\n",
       "      <td>0.833</td>\n",
       "      <td>0.445828</td>\n",
       "      <td>0.8035</td>\n",
       "      <td>35.056506</td>\n",
       "      <td>0.844</td>\n",
       "      <td>13.813321</td>\n",
       "    </tr>\n",
       "    <tr>\n",
       "      <th>ngram=3</th>\n",
       "      <td>0.8415</td>\n",
       "      <td>0.910142</td>\n",
       "      <td>0.8025</td>\n",
       "      <td>99.819829</td>\n",
       "      <td>0.8385</td>\n",
       "      <td>31.35796</td>\n",
       "    </tr>\n",
       "    <tr>\n",
       "      <th>stopwords</th>\n",
       "      <td>NaN</td>\n",
       "      <td>NaN</td>\n",
       "      <td>NaN</td>\n",
       "      <td>NaN</td>\n",
       "      <td>NaN</td>\n",
       "      <td>NaN</td>\n",
       "    </tr>\n",
       "    <tr>\n",
       "      <th>max_features</th>\n",
       "      <td>NaN</td>\n",
       "      <td>NaN</td>\n",
       "      <td>NaN</td>\n",
       "      <td>NaN</td>\n",
       "      <td>NaN</td>\n",
       "      <td>NaN</td>\n",
       "    </tr>\n",
       "    <tr>\n",
       "      <th>max_def</th>\n",
       "      <td>NaN</td>\n",
       "      <td>NaN</td>\n",
       "      <td>NaN</td>\n",
       "      <td>NaN</td>\n",
       "      <td>NaN</td>\n",
       "      <td>NaN</td>\n",
       "    </tr>\n",
       "    <tr>\n",
       "      <th>boost</th>\n",
       "      <td>NaN</td>\n",
       "      <td>NaN</td>\n",
       "      <td>NaN</td>\n",
       "      <td>NaN</td>\n",
       "      <td>NaN</td>\n",
       "      <td>NaN</td>\n",
       "    </tr>\n",
       "  </tbody>\n",
       "</table>\n",
       "</div>"
      ],
      "text/plain": [
       "                  NB  Temps_NB      LR   Temps_LR     SVM  Temps_SVM\n",
       "PP classic    0.8155  0.076286  0.7965   3.293761    0.84   3.056106\n",
       "ngram=1       0.8155  0.067571  0.7965   4.818061    0.84   3.128508\n",
       "ngram=2        0.833  0.445828  0.8035  35.056506   0.844  13.813321\n",
       "ngram=3       0.8415  0.910142  0.8025  99.819829  0.8385   31.35796\n",
       "stopwords        NaN       NaN     NaN        NaN     NaN        NaN\n",
       "max_features     NaN       NaN     NaN        NaN     NaN        NaN\n",
       "max_def          NaN       NaN     NaN        NaN     NaN        NaN\n",
       "boost            NaN       NaN     NaN        NaN     NaN        NaN"
      ]
     },
     "execution_count": 168,
     "metadata": {},
     "output_type": "execute_result"
    }
   ],
   "source": [
    "results_cv"
   ]
  },
  {
   "cell_type": "markdown",
   "metadata": {},
   "source": [
    "## Première campagne d'expériences\n",
    "\n",
    "Les techniques sur lesquelles nous travaillons étant sujettes au sur-apprentissage: trouver le paramètre de régularisation dans la documentation et optimiser ce paramètre au sens de la métrique qui vous semble la plus appropriée (cf question précédente)."
   ]
  },
  {
   "cell_type": "markdown",
   "metadata": {},
   "source": [
    "## Amélioration du modèle\n",
    "\n",
    "### Stopwords\n",
    "\n",
    "Afin d'améliorer le précédent modèle, nous allons essayer d'enlever les stopwords, c'est-à-dire les mots très fréquents comme \"the\", \"or\" etc... qui peuvent s'avérer inutiles à la classification voire qui peuvent fausser les résultats. Mais ces mots peuvent au contraire être nécessaire. C'est ce que nous allons désormais tester.\n",
    "\n",
    "Concernant les accents, il semble qu'ils n'aient pas une grande importance dans l'apprentissage. Nous avons décidé de ne pas faire de test là-dessus."
   ]
  },
  {
   "cell_type": "code",
   "execution_count": 230,
   "metadata": {},
   "outputs": [],
   "source": [
    "wc = Counter()\n",
    "for text in x_fit:\n",
    "    wc.update(text.split(\" \"))\n",
    "    \n",
    "stopwords = [w for w,f in wc.most_common(300)]\n",
    "\n",
    "liste_sw = []\n",
    "perf_nb_sw = []\n",
    "perf_lr_sw = []\n",
    "perf_svm_sw = []"
   ]
  },
  {
   "cell_type": "code",
   "execution_count": 231,
   "metadata": {},
   "outputs": [],
   "source": [
    "for sw in range(0,300,30):\n",
    "    liste_sw.append(sw)\n",
    "    stopwords_sw = stopwords[0:sw]\n",
    "\n",
    "    vectorizer = CountVectorizer(stop_words=stopwords_sw, ngram_range=(1,3), analyzer='word')\n",
    "    x_train_sw = vectorizer.fit_transform(x_fit) \n",
    "    x_test_sw = vectorizer.transform(x_boost)\n",
    "\n",
    "    #Naïve Bayes\n",
    "    mod_nb = MultinomialNB()\n",
    "    mod_nb.fit(x_train_sw, y_fit)\n",
    "    perf_nb_sw.append(mod_nb.score(x_test_sw, y_boost))\n",
    "\n",
    "    #Logistic Regression\n",
    "    mod_lr = LogisticRegression(random_state=0, C=1e-3)\n",
    "    mod_lr.fit(x_train_sw, y_fit)\n",
    "    perf_lr_sw.append(mod_lr.score(x_test_sw, y_boost))\n",
    "\n",
    "    #Linear SVM\n",
    "    mod_svm = LinearSVC(random_state=0, tol=1e-5, C=1e-3)\n",
    "    mod_svm.fit(x_train_sw, y_fit)\n",
    "    perf_svm_sw.append(mod_svm.score(x_test_sw, y_boost))"
   ]
  },
  {
   "cell_type": "code",
   "execution_count": 232,
   "metadata": {},
   "outputs": [
    {
     "data": {
      "image/png": "[encoded data removed]",
      "text/plain": [
       "<Figure size 432x288 with 1 Axes>"
      ]
     },
     "metadata": {
      "needs_background": "light"
     },
     "output_type": "display_data"
    }
   ],
   "source": [
    "plt.plot(liste_sw, perf_nb_sw, 'r',)\n",
    "plt.plot(liste_sw, perf_lr_sw, 'b')\n",
    "plt.plot(liste_sw, perf_svm_sw, 'g')\n",
    "plt.show()"
   ]
  },
  {
   "cell_type": "code",
   "execution_count": 234,
   "metadata": {},
   "outputs": [],
   "source": [
    "#Naïve Bayes\n",
    "\n",
    "vectorizer_nb_sw = CountVectorizer(ngram_range=(1,3), stop_words = stopwords[0:liste_sw[np.argmax(perf_nb_sw)]])\n",
    "\n",
    "x_train_nb_sw = vectorizer_nb_sw.fit_transform(x_fit) \n",
    "x_test_nb_sw = vectorizer_nb_sw.transform(x_boost)\n",
    "\n",
    "start_nb = time.time()\n",
    "mod_nb = MultinomialNB()\n",
    "mod_nb.fit(x_train_nb_sw, y_fit)\n",
    "end_nb = time.time()\n",
    "results_split.loc['stopwords', 'NB'] = mod_nb.score(x_test_nb_sw, y_boost)\n",
    "results_split.loc['stopwords', 'Temps_NB'] = end_nb - start_nb\n",
    "\n",
    "x_nb_sw_cv = vectorizer_nb_sw.fit_transform(alltxts)\n",
    "start_nb = time.time()\n",
    "mod_nb_cv = cross_val_score(mod_nb, x_nb_sw_cv, alllabs, cv=5, scoring='accuracy')\n",
    "end_nb = time.time()\n",
    "results_cv.loc['stopwords', 'NB'] = mod_nb_cv.mean()\n",
    "results_cv.loc['stopwords', 'Temps_NB'] = end_nb - start_nb\n",
    "\n",
    "#Logistic Regression\n",
    "\n",
    "vectorizer_lr_sw = CountVectorizer(ngram_range=(1,3), stop_words=stopwords[0:liste_sw[np.argmax(perf_lr_sw)]])\n",
    "\n",
    "x_train_lr_sw = vectorizer_lr_sw.fit_transform(x_fit) \n",
    "x_test_lr_sw = vectorizer_lr_sw.transform(x_boost)\n",
    "\n",
    "start_lr = time.time()\n",
    "mod_lr = LogisticRegression(random_state=0, C=1e-3)\n",
    "mod_lr.fit(x_train_lr_sw, y_fit)\n",
    "end_lr = time.time()\n",
    "results_split.loc['stopwords', 'LR'] = mod_lr.score(x_test_lr_sw, y_boost)\n",
    "results_split.loc['stopwords', 'Temps_LR'] = end_lr - start_lr\n",
    "\n",
    "x_lr_sw_cv = vectorizer_lr_sw.fit_transform(alltxts)\n",
    "start_lr = time.time()\n",
    "mod_lr_cv = cross_val_score(mod_lr, x_lr_sw_cv, alllabs, cv=5, scoring='accuracy')\n",
    "end_lr = time.time()\n",
    "results_cv.loc['stopwords', 'LR'] = mod_lr_cv.mean()\n",
    "results_cv.loc['stopwords', 'Temps_LR'] = end_nb - start_nb\n",
    "\n",
    "#Linear SVM\n",
    "\n",
    "vectorizer_svm_sw = CountVectorizer(ngram_range=(1,3), stop_words=stopwords[0:liste_sw[np.argmax(perf_svm_sw)]])\n",
    "\n",
    "x_train_svm_sw = vectorizer_svm_sw.fit_transform(x_fit) \n",
    "x_test_svm_sw = vectorizer_svm_sw.transform(x_boost)\n",
    "\n",
    "start_svm = time.time()\n",
    "mod_svm = LinearSVC(random_state=0, tol=1e-5, C=1e-3)\n",
    "mod_svm.fit(x_train_svm_sw, y_fit)\n",
    "end_svm = time.time()\n",
    "results_split.loc['stopwords', 'SVM'] = mod_svm.score(x_test_svm_sw, y_boost)\n",
    "results_split.loc['stopwords', 'Temps_SVM'] = end_svm - start_svm\n",
    "\n",
    "x_svm_sw_cv = vectorizer_svm_sw.fit_transform(alltxts)\n",
    "start_svm = time.time()\n",
    "mod_svm_cv = cross_val_score(mod_svm, x_svm_sw_cv, alllabs, cv=5, scoring='accuracy')\n",
    "end_svm = time.time()\n",
    "results_cv.loc['stopwords', 'SVM'] = mod_svm_cv.mean()\n",
    "results_cv.loc['stopwords', 'Temps_SVM'] = end_svm - start_svm"
   ]
  },
  {
   "cell_type": "markdown",
   "metadata": {},
   "source": [
    "## Max_features\n",
    "\n",
    "Cependant, une autre technique pour enlever des mots est le contrôle du paramètre max_features. Si max_features est défini sur None, l'ensemble du corpus est pris en compte lors de la transformation TF-IDF. En ajoutant une valeur à max_features, alors le nombre de mots dans le vocabulaire sera limité à cette valeur. Ainsi, pour d documents et 100 mots, si on met un max_feature à 80, alors la sparse matrix aura comme dimension 3x80 au lieu de 3x100."
   ]
  },
  {
   "cell_type": "code",
   "execution_count": 213,
   "metadata": {},
   "outputs": [],
   "source": [
    "liste_feat = []\n",
    "perf_nb_feat = []\n",
    "perf_lr_feat = []\n",
    "perf_svm_feat = []\n",
    "\n",
    "for feat in range(100,10000,500):\n",
    "    liste_feat.append(feat)\n",
    "\n",
    "    vectorizer = CountVectorizer(ngram_range=(1,3), max_features=feat)\n",
    "    x_train_feat = vectorizer.fit_transform(x_fit) \n",
    "    x_test_feat = vectorizer.transform(x_boost)\n",
    "\n",
    "    #Naïve Bayes\n",
    "    mod_nb = MultinomialNB()\n",
    "    mod_nb.fit(x_train_feat, y_fit)\n",
    "    perf_nb_feat.append(mod_nb.score(x_test_feat, y_boost))\n",
    "\n",
    "    #Logistic Regression\n",
    "    mod_lr = LogisticRegression(random_state=0, C=1e-3)\n",
    "    mod_lr.fit(x_train_feat, y_fit)\n",
    "    perf_lr_feat.append(mod_lr.score(x_test_feat, y_boost))\n",
    "\n",
    "    #Linear SVM\n",
    "    mod_svm = LinearSVC(random_state=0, tol=1e-5, C=1e-3)\n",
    "    mod_svm.fit(x_train_feat, y_fit)\n",
    "    perf_svm_feat.append(mod_svm.score(x_test_feat, y_boost))"
   ]
  },
  {
   "cell_type": "code",
   "execution_count": 214,
   "metadata": {},
   "outputs": [
    {
     "data": {
      "image/png": "[encoded data removed]",
      "text/plain": [
       "<Figure size 432x288 with 1 Axes>"
      ]
     },
     "metadata": {
      "needs_background": "light"
     },
     "output_type": "display_data"
    }
   ],
   "source": [
    "plt.plot(liste_feat, perf_nb_feat, 'r')\n",
    "plt.plot(liste_feat, perf_lr_feat, 'b')\n",
    "plt.plot(liste_feat, perf_svm_feat, 'g')\n",
    "plt.show()"
   ]
  },
  {
   "cell_type": "code",
   "execution_count": 215,
   "metadata": {},
   "outputs": [],
   "source": [
    "#Naïve Bayes\n",
    "\n",
    "vectorizer_nb_feat = CountVectorizer(ngram_range=(1,3), max_features=liste_feat[np.argmax(perf_nb_feat)])\n",
    "\n",
    "x_train_nb_feat = vectorizer_nb_feat.fit_transform(x_fit) \n",
    "x_test_nb_feat = vectorizer_nb_feat.transform(x_boost)\n",
    "\n",
    "start_nb = time.time()\n",
    "mod_nb = MultinomialNB()\n",
    "mod_nb.fit(x_train_nb_feat, y_fit)\n",
    "end_nb = time.time()\n",
    "results_split.loc['max_features', 'NB'] = mod_nb.score(x_test_nb_feat, y_boost)\n",
    "results_split.loc['max_features', 'Temps_NB'] = end_nb - start_nb\n",
    "\n",
    "x_nb_feat_cv = vectorizer_nb_feat.fit_transform(alltxts)\n",
    "start_nb = time.time()\n",
    "mod_nb_cv = cross_val_score(mod_nb, x_nb_feat_cv, alllabs, cv=5, scoring='accuracy')\n",
    "end_nb = time.time()\n",
    "results_cv.loc['max_features', 'NB'] = mod_nb_cv.mean()\n",
    "results_cv.loc['max_features', 'Temps_NB'] = end_nb - start_nb\n",
    "\n",
    "#Logistic Regression\n",
    "\n",
    "vectorizer_lr_feat = CountVectorizer(ngram_range=(1,3), max_features=liste_feat[np.argmax(perf_lr_feat)])\n",
    "\n",
    "x_train_lr_feat = vectorizer_lr_feat.fit_transform(x_fit) \n",
    "x_test_lr_feat = vectorizer_lr_feat.transform(x_boost)\n",
    "\n",
    "start_lr = time.time()\n",
    "mod_lr = LogisticRegression(random_state=0, C=1e-3)\n",
    "mod_lr.fit(x_train_lr_feat, y_fit)\n",
    "end_lr = time.time()\n",
    "results_split.loc['max_features', 'LR'] = mod_lr.score(x_test_lr_feat, y_boost)\n",
    "results_split.loc['max_features', 'Temps_LR'] = end_lr - start_lr\n",
    "\n",
    "x_lr_feat_cv = vectorizer_lr_feat.fit_transform(alltxts)\n",
    "start_lr = time.time()\n",
    "mod_lr_cv = cross_val_score(mod_lr, x_lr_feat_cv, alllabs, cv=5, scoring='accuracy')\n",
    "end_lr = time.time()\n",
    "results_cv.loc['max_features', 'LR'] = mod_lr_cv.mean()\n",
    "results_cv.loc['max_features', 'Temps_LR'] = end_nb - start_nb\n",
    "\n",
    "#Linear SVM\n",
    "\n",
    "vectorizer_svm_feat = CountVectorizer(ngram_range=(1,3), max_features=liste_feat[np.argmax(perf_svm_feat)])\n",
    "\n",
    "x_train_svm_feat = vectorizer_svm_feat.fit_transform(x_fit) \n",
    "x_test_svm_feat = vectorizer_svm_feat.transform(x_boost)\n",
    "\n",
    "start_svm = time.time()\n",
    "mod_svm = LinearSVC(random_state=0, tol=1e-5, C=1e-3)\n",
    "mod_svm.fit(x_train_svm_feat, y_fit)\n",
    "end_svm = time.time()\n",
    "results_split.loc['max_features', 'SVM'] = mod_svm.score(x_test_svm_feat, y_boost)\n",
    "results_split.loc['max_features', 'Temps_SVM'] = end_svm - start_svm\n",
    "\n",
    "x_svm_df_cv = vectorizer_svm_feat.fit_transform(alltxts)\n",
    "start_svm = time.time()\n",
    "mod_svm_cv = cross_val_score(mod_svm, x_svm_df_cv, alllabs, cv=5, scoring='accuracy')\n",
    "end_svm = time.time()\n",
    "results_cv.loc['max_features', 'SVM'] = mod_svm_cv.mean()\n",
    "results_cv.loc['max_features', 'Temps_SVM'] = end_svm - start_svm"
   ]
  },
  {
   "cell_type": "markdown",
   "metadata": {},
   "source": [
    "### Max_def\n",
    "\n",
    "Les stopwords sont les mots qui apparaissent très fréquemment dans l'ensemble du corpus. On peut également éliminer, grâce à la variable max_df, les mots qui apparaissent dans beaucoup de documents différents. Un mot peut ne pas être très fréquent dans l'ensemble mais apparaître dans chaque document et ainsi ne pas être utile à la classification."
   ]
  },
  {
   "cell_type": "code",
   "execution_count": 177,
   "metadata": {},
   "outputs": [],
   "source": [
    "liste_df = []\n",
    "perf_nb_df = []\n",
    "perf_lr_df = []\n",
    "perf_svm_df = []\n",
    "\n",
    "for df in range(1,10000,1000):\n",
    "    liste_df.append(df)\n",
    "\n",
    "    vectorizer = CountVectorizer(ngram_range=(1,3), max_df=df)\n",
    "    x_train_df = vectorizer.fit_transform(x_fit) \n",
    "    x_test_df = vectorizer.transform(x_boost)\n",
    "\n",
    "    #Naïve Bayes\n",
    "    mod_nb = MultinomialNB()\n",
    "    mod_nb.fit(x_train_df, y_fit)\n",
    "    perf_nb_df.append(mod_nb.score(x_test_df, y_boost))\n",
    "\n",
    "    #Logistic Regression\n",
    "    mod_lr = LogisticRegression(random_state=0, C=1e-3)\n",
    "    mod_lr.fit(x_train_df, y_fit)\n",
    "    perf_lr_df.append(mod_lr.score(x_test_df, y_boost))\n",
    "\n",
    "    #Linear SVM\n",
    "    mod_svm = LinearSVC(random_state=0, tol=1e-5, C=1e-3)\n",
    "    mod_svm.fit(x_train_df, y_fit)\n",
    "    perf_svm_df.append(mod_svm.score(x_test_df, y_boost))"
   ]
  },
  {
   "cell_type": "code",
   "execution_count": 178,
   "metadata": {},
   "outputs": [
    {
     "data": {
      "image/png": "[encoded data removed]",
      "text/plain": [
       "<Figure size 432x288 with 1 Axes>"
      ]
     },
     "metadata": {
      "needs_background": "light"
     },
     "output_type": "display_data"
    }
   ],
   "source": [
    "plt.plot(liste_df, perf_nb_df, 'r')\n",
    "plt.plot(liste_df, perf_lr_df, 'b')\n",
    "plt.plot(liste_df, perf_svm_df, 'g')\n",
    "plt.show()"
   ]
  },
  {
   "cell_type": "code",
   "execution_count": 179,
   "metadata": {},
   "outputs": [],
   "source": [
    "#Naïve Bayes\n",
    "\n",
    "vectorizer_nb_df = CountVectorizer(ngram_range=(1,3), min_df=1, max_df=liste_df[np.argmax(perf_nb_df)])\n",
    "\n",
    "x_train_nb_df = vectorizer_nb_df.fit_transform(x_fit) \n",
    "x_test_nb_df = vectorizer_nb_df.transform(x_boost)\n",
    "\n",
    "start_nb = time.time()\n",
    "mod_nb = MultinomialNB()\n",
    "mod_nb.fit(x_train_nb_df, y_fit)\n",
    "end_nb = time.time()\n",
    "results_split.loc['max_def', 'NB'] = mod_nb.score(x_test_nb_df, y_boost)\n",
    "results_split.loc['max_def', 'Temps_NB'] = end_nb - start_nb\n",
    "\n",
    "x_nb_df_cv = vectorizer_nb_df.fit_transform(alltxts)\n",
    "start_nb = time.time()\n",
    "mod_nb_cv = cross_val_score(mod_nb, x_nb_df_cv, alllabs, cv=5, scoring='accuracy')\n",
    "end_nb = time.time()\n",
    "results_cv.loc['max_def', 'NB'] = mod_nb_cv.mean()\n",
    "results_cv.loc['max_def', 'Temps_NB'] = end_nb - start_nb\n",
    "\n",
    "#Logistic Regression\n",
    "\n",
    "vectorizer_lr_df = CountVectorizer(ngram_range=(1,3), min_df=1, max_df=liste_df[np.argmax(perf_lr_df)])\n",
    "\n",
    "x_train_lr_df = vectorizer_lr_df.fit_transform(x_fit) \n",
    "x_test_lr_df = vectorizer_lr_df.transform(x_boost)\n",
    "\n",
    "start_lr = time.time()\n",
    "mod_lr = LogisticRegression(random_state=0, C=1e-3)\n",
    "mod_lr.fit(x_train_lr_df, y_fit)\n",
    "end_lr = time.time()\n",
    "results_split.loc['max_def', 'LR'] = mod_lr.score(x_test_lr_df, y_boost)\n",
    "results_split.loc['max_def', 'Temps_LR'] = end_lr - start_lr\n",
    "\n",
    "x_lr_df_cv = vectorizer_lr_df.fit_transform(alltxts)\n",
    "start_lr = time.time()\n",
    "mod_lr_cv = cross_val_score(mod_lr, x_lr_df_cv, alllabs, cv=5, scoring='accuracy')\n",
    "end_lr = time.time()\n",
    "results_cv.loc['max_def', 'LR'] = mod_lr_cv.mean()\n",
    "results_cv.loc['max_def', 'Temps_LR'] = end_nb - start_nb\n",
    "\n",
    "#Linear SVM\n",
    "\n",
    "vectorizer_svm_df = CountVectorizer(ngram_range=(1,3), min_df=1, max_df=liste_df[np.argmax(perf_svm_df)])\n",
    "\n",
    "x_train_svm_df = vectorizer_svm_df.fit_transform(x_fit) \n",
    "x_test_svm_df = vectorizer_svm_df.transform(x_boost)\n",
    "\n",
    "start_svm = time.time()\n",
    "mod_svm = LinearSVC(random_state=0, tol=1e-5, C=1e-3)\n",
    "mod_svm.fit(x_train_svm_df, y_fit)\n",
    "end_svm = time.time()\n",
    "results_split.loc['max_def', 'SVM'] = mod_svm.score(x_test_svm_df, y_boost)\n",
    "results_split.loc['max_def', 'Temps_SVM'] = end_svm - start_svm\n",
    "\n",
    "x_svm_df_cv = vectorizer_svm_df.fit_transform(alltxts)\n",
    "start_svm = time.time()\n",
    "mod_svm_cv = cross_val_score(mod_svm, x_svm_df_cv, alllabs, cv=5, scoring='accuracy')\n",
    "end_svm = time.time()\n",
    "results_cv.loc['max_def', 'SVM'] = mod_svm_cv.mean()\n",
    "results_cv.loc['max_def', 'Temps_SVM'] = end_svm - start_svm"
   ]
  },
  {
   "cell_type": "code",
   "execution_count": 235,
   "metadata": {},
   "outputs": [
    {
     "data": {
      "text/html": [
       "<div>\n",
       "<style scoped>\n",
       "    .dataframe tbody tr th:only-of-type {\n",
       "        vertical-align: middle;\n",
       "    }\n",
       "\n",
       "    .dataframe tbody tr th {\n",
       "        vertical-align: top;\n",
       "    }\n",
       "\n",
       "    .dataframe thead th {\n",
       "        text-align: right;\n",
       "    }\n",
       "</style>\n",
       "<table border=\"1\" class=\"dataframe\">\n",
       "  <thead>\n",
       "    <tr style=\"text-align: right;\">\n",
       "      <th></th>\n",
       "      <th>NB</th>\n",
       "      <th>Temps_NB</th>\n",
       "      <th>LR</th>\n",
       "      <th>Temps_LR</th>\n",
       "      <th>SVM</th>\n",
       "      <th>Temps_SVM</th>\n",
       "    </tr>\n",
       "  </thead>\n",
       "  <tbody>\n",
       "    <tr>\n",
       "      <th>PP classic</th>\n",
       "      <td>0.813636</td>\n",
       "      <td>0.013671</td>\n",
       "      <td>0.769697</td>\n",
       "      <td>0.634175</td>\n",
       "      <td>0.827273</td>\n",
       "      <td>0.525616</td>\n",
       "    </tr>\n",
       "    <tr>\n",
       "      <th>ngram=1</th>\n",
       "      <td>0.813636</td>\n",
       "      <td>0.009338</td>\n",
       "      <td>0.769697</td>\n",
       "      <td>0.441728</td>\n",
       "      <td>0.827273</td>\n",
       "      <td>0.295927</td>\n",
       "    </tr>\n",
       "    <tr>\n",
       "      <th>ngram=2</th>\n",
       "      <td>0.830303</td>\n",
       "      <td>0.088692</td>\n",
       "      <td>0.772727</td>\n",
       "      <td>18.18269</td>\n",
       "      <td>0.834848</td>\n",
       "      <td>1.780885</td>\n",
       "    </tr>\n",
       "    <tr>\n",
       "      <th>ngram=3</th>\n",
       "      <td>0.815152</td>\n",
       "      <td>0.116268</td>\n",
       "      <td>0.771212</td>\n",
       "      <td>13.319071</td>\n",
       "      <td>0.824242</td>\n",
       "      <td>3.852801</td>\n",
       "    </tr>\n",
       "    <tr>\n",
       "      <th>stopwords</th>\n",
       "      <td>0.833333</td>\n",
       "      <td>0.091592</td>\n",
       "      <td>0.822727</td>\n",
       "      <td>5.12582</td>\n",
       "      <td>0.848485</td>\n",
       "      <td>0.634568</td>\n",
       "    </tr>\n",
       "    <tr>\n",
       "      <th>max_features</th>\n",
       "      <td>0.816667</td>\n",
       "      <td>0.00862</td>\n",
       "      <td>0.777273</td>\n",
       "      <td>0.210495</td>\n",
       "      <td>0.834848</td>\n",
       "      <td>0.265506</td>\n",
       "    </tr>\n",
       "    <tr>\n",
       "      <th>max_def</th>\n",
       "      <td>0.828788</td>\n",
       "      <td>0.313726</td>\n",
       "      <td>0.822727</td>\n",
       "      <td>8.544876</td>\n",
       "      <td>0.825758</td>\n",
       "      <td>1.324751</td>\n",
       "    </tr>\n",
       "    <tr>\n",
       "      <th>boost</th>\n",
       "      <td>NaN</td>\n",
       "      <td>NaN</td>\n",
       "      <td>NaN</td>\n",
       "      <td>NaN</td>\n",
       "      <td>NaN</td>\n",
       "      <td>NaN</td>\n",
       "    </tr>\n",
       "  </tbody>\n",
       "</table>\n",
       "</div>"
      ],
      "text/plain": [
       "                    NB  Temps_NB        LR   Temps_LR       SVM Temps_SVM\n",
       "PP classic    0.813636  0.013671  0.769697   0.634175  0.827273  0.525616\n",
       "ngram=1       0.813636  0.009338  0.769697   0.441728  0.827273  0.295927\n",
       "ngram=2       0.830303  0.088692  0.772727   18.18269  0.834848  1.780885\n",
       "ngram=3       0.815152  0.116268  0.771212  13.319071  0.824242  3.852801\n",
       "stopwords     0.833333  0.091592  0.822727    5.12582  0.848485  0.634568\n",
       "max_features  0.816667   0.00862  0.777273   0.210495  0.834848  0.265506\n",
       "max_def       0.828788  0.313726  0.822727   8.544876  0.825758  1.324751\n",
       "boost              NaN       NaN       NaN        NaN       NaN       NaN"
      ]
     },
     "execution_count": 235,
     "metadata": {},
     "output_type": "execute_result"
    }
   ],
   "source": [
    "results_split"
   ]
  },
  {
   "cell_type": "code",
   "execution_count": 236,
   "metadata": {},
   "outputs": [
    {
     "data": {
      "text/html": [
       "<div>\n",
       "<style scoped>\n",
       "    .dataframe tbody tr th:only-of-type {\n",
       "        vertical-align: middle;\n",
       "    }\n",
       "\n",
       "    .dataframe tbody tr th {\n",
       "        vertical-align: top;\n",
       "    }\n",
       "\n",
       "    .dataframe thead th {\n",
       "        text-align: right;\n",
       "    }\n",
       "</style>\n",
       "<table border=\"1\" class=\"dataframe\">\n",
       "  <thead>\n",
       "    <tr style=\"text-align: right;\">\n",
       "      <th></th>\n",
       "      <th>NB</th>\n",
       "      <th>Temps_NB</th>\n",
       "      <th>LR</th>\n",
       "      <th>Temps_LR</th>\n",
       "      <th>SVM</th>\n",
       "      <th>Temps_SVM</th>\n",
       "    </tr>\n",
       "  </thead>\n",
       "  <tbody>\n",
       "    <tr>\n",
       "      <th>PP classic</th>\n",
       "      <td>0.8155</td>\n",
       "      <td>0.076286</td>\n",
       "      <td>0.7965</td>\n",
       "      <td>3.293761</td>\n",
       "      <td>0.84</td>\n",
       "      <td>3.056106</td>\n",
       "    </tr>\n",
       "    <tr>\n",
       "      <th>ngram=1</th>\n",
       "      <td>0.8155</td>\n",
       "      <td>0.067571</td>\n",
       "      <td>0.7965</td>\n",
       "      <td>4.818061</td>\n",
       "      <td>0.84</td>\n",
       "      <td>3.128508</td>\n",
       "    </tr>\n",
       "    <tr>\n",
       "      <th>ngram=2</th>\n",
       "      <td>0.833</td>\n",
       "      <td>0.445828</td>\n",
       "      <td>0.8035</td>\n",
       "      <td>35.056506</td>\n",
       "      <td>0.844</td>\n",
       "      <td>13.813321</td>\n",
       "    </tr>\n",
       "    <tr>\n",
       "      <th>ngram=3</th>\n",
       "      <td>0.8415</td>\n",
       "      <td>0.910142</td>\n",
       "      <td>0.8025</td>\n",
       "      <td>99.819829</td>\n",
       "      <td>0.8385</td>\n",
       "      <td>31.35796</td>\n",
       "    </tr>\n",
       "    <tr>\n",
       "      <th>stopwords</th>\n",
       "      <td>0.825</td>\n",
       "      <td>0.703817</td>\n",
       "      <td>0.827</td>\n",
       "      <td>0.703817</td>\n",
       "      <td>0.846</td>\n",
       "      <td>3.267484</td>\n",
       "    </tr>\n",
       "    <tr>\n",
       "      <th>max_features</th>\n",
       "      <td>0.831</td>\n",
       "      <td>0.079946</td>\n",
       "      <td>0.8055</td>\n",
       "      <td>0.079946</td>\n",
       "      <td>0.844</td>\n",
       "      <td>1.953101</td>\n",
       "    </tr>\n",
       "    <tr>\n",
       "      <th>max_def</th>\n",
       "      <td>0.8405</td>\n",
       "      <td>0.87047</td>\n",
       "      <td>0.84</td>\n",
       "      <td>0.87047</td>\n",
       "      <td>0.8595</td>\n",
       "      <td>7.106791</td>\n",
       "    </tr>\n",
       "    <tr>\n",
       "      <th>boost</th>\n",
       "      <td>NaN</td>\n",
       "      <td>NaN</td>\n",
       "      <td>NaN</td>\n",
       "      <td>NaN</td>\n",
       "      <td>NaN</td>\n",
       "      <td>NaN</td>\n",
       "    </tr>\n",
       "  </tbody>\n",
       "</table>\n",
       "</div>"
      ],
      "text/plain": [
       "                  NB  Temps_NB      LR   Temps_LR     SVM  Temps_SVM\n",
       "PP classic    0.8155  0.076286  0.7965   3.293761    0.84   3.056106\n",
       "ngram=1       0.8155  0.067571  0.7965   4.818061    0.84   3.128508\n",
       "ngram=2        0.833  0.445828  0.8035  35.056506   0.844  13.813321\n",
       "ngram=3       0.8415  0.910142  0.8025  99.819829  0.8385   31.35796\n",
       "stopwords      0.825  0.703817   0.827   0.703817   0.846   3.267484\n",
       "max_features   0.831  0.079946  0.8055   0.079946   0.844   1.953101\n",
       "max_def       0.8405   0.87047    0.84    0.87047  0.8595   7.106791\n",
       "boost            NaN       NaN     NaN        NaN     NaN        NaN"
      ]
     },
     "execution_count": 236,
     "metadata": {},
     "output_type": "execute_result"
    }
   ],
   "source": [
    "results_cv"
   ]
  },
  {
   "cell_type": "code",
   "execution_count": 237,
   "metadata": {},
   "outputs": [
    {
     "data": {
      "text/plain": [
       "Text(0.5, 1.0, 'Evolution de la performance (accuracy) avec le prétraitement selon les modèles')"
      ]
     },
     "execution_count": 237,
     "metadata": {},
     "output_type": "execute_result"
    },
    {
     "data": {
      "image/png": "[encoded data removed]",
      "text/plain": [
       "<Figure size 1440x720 with 1 Axes>"
      ]
     },
     "metadata": {
      "needs_background": "light"
     },
     "output_type": "display_data"
    }
   ],
   "source": [
    "plt.figure(figsize=(20,10))\n",
    "plt.plot(results_split['NB'], 'b')\n",
    "plt.plot(results_split['LR'], 'r')\n",
    "plt.plot(results_split['SVM'], 'g')\n",
    "plt.legend(['NB', 'LR', 'SVM'])\n",
    "plt.title('Evolution de la performance (accuracy) avec le prétraitement selon les modèles')"
   ]
  },
  {
   "cell_type": "markdown",
   "metadata": {},
   "source": [
    "limiter le nombre de mots fait baisser la performance du modèle nous abandonnons ce parametre et essayons de créer un modèle utilisant les mots les plus fréquents ngram 2, les stop words et une max_def"
   ]
  },
  {
   "cell_type": "markdown",
   "metadata": {},
   "source": [
    "# V - choix du modèle\n"
   ]
  },
  {
   "cell_type": "markdown",
   "metadata": {},
   "source": [
    "Pour choisir notre modèle nous devons créer un modèle cumulatif et comparer ses résultats aux autres. "
   ]
  },
  {
   "cell_type": "code",
   "execution_count": 241,
   "metadata": {},
   "outputs": [],
   "source": [
    "# Naive bayes\n",
    "vectorizer_nb_mod = CountVectorizer(ngram_range=(1,3),stop_words=stopwords[0:liste_sw[np.argmax(perf_nb_sw)]] ,min_df=1, max_df=liste_df[np.argmax(perf_nb_df)])\n",
    "\n",
    "x_train_nb_mod = vectorizer_nb_mod.fit_transform(x_fit) \n",
    "x_test_nb_mod = vectorizer_nb_mod.transform(x_boost)\n",
    "\n",
    "start_nb = time.time()\n",
    "mod_nb = MultinomialNB()\n",
    "mod_nb.fit(x_train_nb_mod, y_fit)\n",
    "end_nb = time.time()\n",
    "results_split.loc['mod', 'NB'] = mod_nb.score(x_test_nb_mod, y_boost)\n",
    "results_split.loc['mod', 'Temps_NB'] = end_nb - start_nb\n",
    "\n",
    "x_nb_mod_cv = vectorizer_nb_mod.fit_transform(alltxts)\n",
    "start_nb = time.time()\n",
    "mod_nb_cv = cross_val_score(mod_nb, x_nb_mod_cv, alllabs, cv=5, scoring='accuracy')\n",
    "end_nb = time.time()\n",
    "results_cv.loc['mod', 'NB'] = mod_nb_cv.mean()\n",
    "results_cv.loc['mod', 'Temps_NB'] = end_nb - start_nb\n",
    "\n",
    "#Logistic Regression\n",
    "\n",
    "vectorizer_lr_mod = CountVectorizer(ngram_range=(1,3),stop_words=stopwords[0:liste_sw[np.argmax(perf_lr_sw)]] ,min_df=1, max_df=liste_df[np.argmax(perf_lr_df)])\n",
    "\n",
    "x_train_lr_mod = vectorizer_lr_mod.fit_transform(x_fit) \n",
    "x_test_lr_mod = vectorizer_lr_mod.transform(x_boost)\n",
    "\n",
    "start_lr = time.time()\n",
    "mod_lr = LogisticRegression(random_state=0, C=1e-3)\n",
    "mod_lr.fit(x_train_lr_mod, y_fit)\n",
    "end_lr = time.time()\n",
    "results_split.loc['mod', 'LR'] = mod_lr.score(x_test_lr_mod, y_boost)\n",
    "results_split.loc['mod', 'Temps_LR'] = end_lr - start_lr\n",
    "\n",
    "x_lr_df_cv = vectorizer_lr_df.fit_transform(alltxts)\n",
    "start_lr = time.time()\n",
    "mod_lr_cv = cross_val_score(mod_lr, x_lr_df_cv, alllabs, cv=5, scoring='accuracy')\n",
    "end_lr = time.time()\n",
    "results_cv.loc['mod', 'LR'] = mod_lr_cv.mean()\n",
    "results_cv.loc['mod', 'Temps_LR'] = end_nb - start_nb\n",
    "\n",
    "#Linear SVM\n",
    "\n",
    "vectorizer_svm_mod =  CountVectorizer(ngram_range=(1,3),stop_words=stopwords[0:liste_sw[np.argmax(perf_svm_sw)]] ,min_df=1, max_df=liste_df[np.argmax(perf_svm_df)])\n",
    "\n",
    "x_train_svm_mod = vectorizer_svm_mod.fit_transform(x_fit) \n",
    "x_test_svm_mod = vectorizer_svm_mod.transform(x_boost)\n",
    "\n",
    "start_svm = time.time()\n",
    "mod_svm = LinearSVC(random_state=0, tol=1e-5, C=1e-3)\n",
    "mod_svm.fit(x_train_svm_mod, y_fit)\n",
    "end_svm = time.time()\n",
    "results_split.loc['mod', 'SVM'] = mod_svm.score(x_test_svm_mod, y_boost)\n",
    "results_split.loc['mod', 'Temps_SVM'] = end_svm - start_svm\n",
    "\n",
    "x_svm_mod_cv = vectorizer_svm_mod.fit_transform(alltxts)\n",
    "start_svm = time.time()\n",
    "mod_svm_cv = cross_val_score(mod_svm, x_svm_mod_cv, alllabs, cv=5, scoring='accuracy')\n",
    "end_svm = time.time()\n",
    "results_cv.loc['mod', 'SVM'] = mod_svm_cv.mean()\n",
    "results_cv.loc['mod', 'Temps_SVM'] = end_svm - start_svm"
   ]
  },
  {
   "cell_type": "code",
   "execution_count": 242,
   "metadata": {},
   "outputs": [
    {
     "data": {
      "text/html": [
       "<div>\n",
       "<style scoped>\n",
       "    .dataframe tbody tr th:only-of-type {\n",
       "        vertical-align: middle;\n",
       "    }\n",
       "\n",
       "    .dataframe tbody tr th {\n",
       "        vertical-align: top;\n",
       "    }\n",
       "\n",
       "    .dataframe thead th {\n",
       "        text-align: right;\n",
       "    }\n",
       "</style>\n",
       "<table border=\"1\" class=\"dataframe\">\n",
       "  <thead>\n",
       "    <tr style=\"text-align: right;\">\n",
       "      <th></th>\n",
       "      <th>NB</th>\n",
       "      <th>Temps_NB</th>\n",
       "      <th>LR</th>\n",
       "      <th>Temps_LR</th>\n",
       "      <th>SVM</th>\n",
       "      <th>Temps_SVM</th>\n",
       "    </tr>\n",
       "  </thead>\n",
       "  <tbody>\n",
       "    <tr>\n",
       "      <th>PP classic</th>\n",
       "      <td>0.813636</td>\n",
       "      <td>0.013671</td>\n",
       "      <td>0.769697</td>\n",
       "      <td>0.634175</td>\n",
       "      <td>0.827273</td>\n",
       "      <td>0.525616</td>\n",
       "    </tr>\n",
       "    <tr>\n",
       "      <th>ngram=1</th>\n",
       "      <td>0.813636</td>\n",
       "      <td>0.009338</td>\n",
       "      <td>0.769697</td>\n",
       "      <td>0.441728</td>\n",
       "      <td>0.827273</td>\n",
       "      <td>0.295927</td>\n",
       "    </tr>\n",
       "    <tr>\n",
       "      <th>ngram=2</th>\n",
       "      <td>0.830303</td>\n",
       "      <td>0.088692</td>\n",
       "      <td>0.772727</td>\n",
       "      <td>18.18269</td>\n",
       "      <td>0.834848</td>\n",
       "      <td>1.780885</td>\n",
       "    </tr>\n",
       "    <tr>\n",
       "      <th>ngram=3</th>\n",
       "      <td>0.815152</td>\n",
       "      <td>0.116268</td>\n",
       "      <td>0.771212</td>\n",
       "      <td>13.319071</td>\n",
       "      <td>0.824242</td>\n",
       "      <td>3.852801</td>\n",
       "    </tr>\n",
       "    <tr>\n",
       "      <th>stopwords</th>\n",
       "      <td>0.833333</td>\n",
       "      <td>0.091592</td>\n",
       "      <td>0.822727</td>\n",
       "      <td>5.12582</td>\n",
       "      <td>0.848485</td>\n",
       "      <td>0.634568</td>\n",
       "    </tr>\n",
       "    <tr>\n",
       "      <th>max_features</th>\n",
       "      <td>0.816667</td>\n",
       "      <td>0.00862</td>\n",
       "      <td>0.777273</td>\n",
       "      <td>0.210495</td>\n",
       "      <td>0.834848</td>\n",
       "      <td>0.265506</td>\n",
       "    </tr>\n",
       "    <tr>\n",
       "      <th>max_def</th>\n",
       "      <td>0.828788</td>\n",
       "      <td>0.313726</td>\n",
       "      <td>0.822727</td>\n",
       "      <td>8.544876</td>\n",
       "      <td>0.825758</td>\n",
       "      <td>1.324751</td>\n",
       "    </tr>\n",
       "    <tr>\n",
       "      <th>boost</th>\n",
       "      <td>0.833333</td>\n",
       "      <td>0.084894</td>\n",
       "      <td>0.822727</td>\n",
       "      <td>8.249274</td>\n",
       "      <td>0.848485</td>\n",
       "      <td>0.602476</td>\n",
       "    </tr>\n",
       "  </tbody>\n",
       "</table>\n",
       "</div>"
      ],
      "text/plain": [
       "                    NB  Temps_NB        LR   Temps_LR       SVM Temps_SVM\n",
       "PP classic    0.813636  0.013671  0.769697   0.634175  0.827273  0.525616\n",
       "ngram=1       0.813636  0.009338  0.769697   0.441728  0.827273  0.295927\n",
       "ngram=2       0.830303  0.088692  0.772727   18.18269  0.834848  1.780885\n",
       "ngram=3       0.815152  0.116268  0.771212  13.319071  0.824242  3.852801\n",
       "stopwords     0.833333  0.091592  0.822727    5.12582  0.848485  0.634568\n",
       "max_features  0.816667   0.00862  0.777273   0.210495  0.834848  0.265506\n",
       "max_def       0.828788  0.313726  0.822727   8.544876  0.825758  1.324751\n",
       "boost         0.833333  0.084894  0.822727   8.249274  0.848485  0.602476"
      ]
     },
     "execution_count": 242,
     "metadata": {},
     "output_type": "execute_result"
    }
   ],
   "source": [
    "results_split"
   ]
  },
  {
   "cell_type": "code",
   "execution_count": 243,
   "metadata": {},
   "outputs": [
    {
     "data": {
      "text/html": [
       "<div>\n",
       "<style scoped>\n",
       "    .dataframe tbody tr th:only-of-type {\n",
       "        vertical-align: middle;\n",
       "    }\n",
       "\n",
       "    .dataframe tbody tr th {\n",
       "        vertical-align: top;\n",
       "    }\n",
       "\n",
       "    .dataframe thead th {\n",
       "        text-align: right;\n",
       "    }\n",
       "</style>\n",
       "<table border=\"1\" class=\"dataframe\">\n",
       "  <thead>\n",
       "    <tr style=\"text-align: right;\">\n",
       "      <th></th>\n",
       "      <th>NB</th>\n",
       "      <th>Temps_NB</th>\n",
       "      <th>LR</th>\n",
       "      <th>Temps_LR</th>\n",
       "      <th>SVM</th>\n",
       "      <th>Temps_SVM</th>\n",
       "    </tr>\n",
       "  </thead>\n",
       "  <tbody>\n",
       "    <tr>\n",
       "      <th>PP classic</th>\n",
       "      <td>0.8155</td>\n",
       "      <td>0.076286</td>\n",
       "      <td>0.7965</td>\n",
       "      <td>3.293761</td>\n",
       "      <td>0.84</td>\n",
       "      <td>3.056106</td>\n",
       "    </tr>\n",
       "    <tr>\n",
       "      <th>ngram=1</th>\n",
       "      <td>0.8155</td>\n",
       "      <td>0.067571</td>\n",
       "      <td>0.7965</td>\n",
       "      <td>4.818061</td>\n",
       "      <td>0.84</td>\n",
       "      <td>3.128508</td>\n",
       "    </tr>\n",
       "    <tr>\n",
       "      <th>ngram=2</th>\n",
       "      <td>0.833</td>\n",
       "      <td>0.445828</td>\n",
       "      <td>0.8035</td>\n",
       "      <td>35.056506</td>\n",
       "      <td>0.844</td>\n",
       "      <td>13.813321</td>\n",
       "    </tr>\n",
       "    <tr>\n",
       "      <th>ngram=3</th>\n",
       "      <td>0.8415</td>\n",
       "      <td>0.910142</td>\n",
       "      <td>0.8025</td>\n",
       "      <td>99.819829</td>\n",
       "      <td>0.8385</td>\n",
       "      <td>31.35796</td>\n",
       "    </tr>\n",
       "    <tr>\n",
       "      <th>stopwords</th>\n",
       "      <td>0.825</td>\n",
       "      <td>0.703817</td>\n",
       "      <td>0.827</td>\n",
       "      <td>0.703817</td>\n",
       "      <td>0.846</td>\n",
       "      <td>3.267484</td>\n",
       "    </tr>\n",
       "    <tr>\n",
       "      <th>max_features</th>\n",
       "      <td>0.8245</td>\n",
       "      <td>1.117509</td>\n",
       "      <td>0.8055</td>\n",
       "      <td>0.079946</td>\n",
       "      <td>0.844</td>\n",
       "      <td>1.953101</td>\n",
       "    </tr>\n",
       "    <tr>\n",
       "      <th>max_def</th>\n",
       "      <td>0.8405</td>\n",
       "      <td>0.87047</td>\n",
       "      <td>0.84</td>\n",
       "      <td>0.87047</td>\n",
       "      <td>0.8595</td>\n",
       "      <td>7.106791</td>\n",
       "    </tr>\n",
       "    <tr>\n",
       "      <th>boost</th>\n",
       "      <td>0.8245</td>\n",
       "      <td>0.666696</td>\n",
       "      <td>0.84</td>\n",
       "      <td>0.666696</td>\n",
       "      <td>0.846</td>\n",
       "      <td>3.463669</td>\n",
       "    </tr>\n",
       "  </tbody>\n",
       "</table>\n",
       "</div>"
      ],
      "text/plain": [
       "                  NB  Temps_NB      LR   Temps_LR     SVM  Temps_SVM\n",
       "PP classic    0.8155  0.076286  0.7965   3.293761    0.84   3.056106\n",
       "ngram=1       0.8155  0.067571  0.7965   4.818061    0.84   3.128508\n",
       "ngram=2        0.833  0.445828  0.8035  35.056506   0.844  13.813321\n",
       "ngram=3       0.8415  0.910142  0.8025  99.819829  0.8385   31.35796\n",
       "stopwords      0.825  0.703817   0.827   0.703817   0.846   3.267484\n",
       "max_features  0.8245  1.117509  0.8055   0.079946   0.844   1.953101\n",
       "max_def       0.8405   0.87047    0.84    0.87047  0.8595   7.106791\n",
       "boost         0.8245  0.666696    0.84   0.666696   0.846   3.463669"
      ]
     },
     "execution_count": 243,
     "metadata": {},
     "output_type": "execute_result"
    }
   ],
   "source": [
    "results_cv"
   ]
  },
  {
   "cell_type": "code",
   "execution_count": 244,
   "metadata": {},
   "outputs": [
    {
     "data": {
      "text/plain": [
       "Text(0.5, 1.0, 'Evolution de la performance (accuracy) avec le prétraitement selon les modèles')"
      ]
     },
     "execution_count": 244,
     "metadata": {},
     "output_type": "execute_result"
    },
    {
     "data": {
      "image/png": "[encoded data removed]",
      "text/plain": [
       "<Figure size 1440x720 with 1 Axes>"
      ]
     },
     "metadata": {
      "needs_background": "light"
     },
     "output_type": "display_data"
    }
   ],
   "source": [
    "plt.figure(figsize=(20,10))\n",
    "plt.plot(results_split['NB'], 'b')\n",
    "plt.plot(results_split['LR'], 'r')\n",
    "plt.plot(results_split['SVM'], 'g')\n",
    "plt.legend(['NB', 'LR', 'SVM'])\n",
    "plt.title('Evolution de la performance (accuracy) avec le prétraitement selon les modèles')"
   ]
  },
  {
   "cell_type": "code",
   "execution_count": 245,
   "metadata": {},
   "outputs": [
    {
     "data": {
      "text/plain": [
       "Text(0.5, 1.0, 'Evolution de la performance (accuracy) avec le prétraitement selon les modèles')"
      ]
     },
     "execution_count": 245,
     "metadata": {},
     "output_type": "execute_result"
    },
    {
     "data": {
      "image/png": "[encoded data removed]",
      "text/plain": [
       "<Figure size 1440x720 with 1 Axes>"
      ]
     },
     "metadata": {
      "needs_background": "light"
     },
     "output_type": "display_data"
    }
   ],
   "source": [
    "plt.figure(figsize=(20,10))\n",
    "plt.plot(results_cv['NB'], 'b')\n",
    "plt.plot(results_cv['LR'], 'r')\n",
    "plt.plot(results_cv['SVM'], 'g')\n",
    "plt.legend(['NB', 'LR', 'SVM'])\n",
    "plt.title('Evolution de la performance (accuracy) avec le prétraitement selon les modèles')"
   ]
  },
  {
   "cell_type": "markdown",
   "metadata": {},
   "source": [
    "Nous remarquons qu'un modèle cumulant les parametres n'est pas forcément meilleur que les modèles moins complexes. Cependant nous pouvons aussi remarquer que le split et la validation croisée ont des perfomances différentes selon les paramètres. \n",
    "Nous choisissons de garder la validation split et de garder les stop words. "
   ]
  },
  {
   "cell_type": "markdown",
   "metadata": {},
   "source": [
    "# VI - Prediction du modèle sur les données test"
   ]
  },
  {
   "cell_type": "code",
   "execution_count": 246,
   "metadata": {},
   "outputs": [],
   "source": [
    "\n",
    "# Naive bayes\n",
    "\n",
    "vectorizer_nb_sw.fit(x_fit)\n",
    "x_train_nb = vectorizer_nb_sw.fit_transform(x_fit)\n",
    "x_test_nb = vectorizer_nb_sw.transform(sentiment_txt)\n",
    "\n",
    "mod_nb = MultinomialNB()\n",
    "mod_nb.fit(x_train_nb, y_fit)\n",
    "\n",
    "\n",
    "pred_nb = mod_nb.predict(x_test_nb)\n",
    "\n",
    "# Logistic Regression\n",
    "\n",
    "vectorizer_lr_sw.fit(x_fit)\n",
    "x_train_lr = vectorizer_lr_sw.fit_transform(x_fit)\n",
    "x_test_lr = vectorizer_lr_sw.transform(sentiment_txt)\n",
    "\n",
    "mod_lr = LogisticRegression(random_state=0, C=1e-3)\n",
    "mod_lr.fit(x_train_lr, y_fit)\n",
    "\n",
    "\n",
    "pred_lr = mod_lr.predict(x_test_lr)\n",
    "\n",
    "#SVM\n",
    "\n",
    "vectorizer_svm_sw.fit(x_fit)\n",
    "x_train_svm = vectorizer_svm_sw.fit_transform(x_fit)\n",
    "x_test_svm = vectorizer_svm_sw.transform(sentiment_txt)\n",
    "\n",
    "mod_svm = LinearSVC(random_state=0, tol=1e-5, C=1e-3)\n",
    "mod_svm.fit(x_train_svm, y_fit)\n",
    "\n",
    "pred_svm = mod_svm.predict(x_test_svm)"
   ]
  },
  {
   "cell_type": "code",
   "execution_count": 247,
   "metadata": {},
   "outputs": [
    {
     "data": {
      "text/plain": [
       "<matplotlib.legend.Legend at 0x7fa106727520>"
      ]
     },
     "execution_count": 247,
     "metadata": {},
     "output_type": "execute_result"
    },
    {
     "data": {
      "image/png": "[encoded data removed]",
      "text/plain": [
       "<Figure size 432x288 with 1 Axes>"
      ]
     },
     "metadata": {
      "needs_background": "light"
     },
     "output_type": "display_data"
    }
   ],
   "source": [
    "barwidth = 0.9\n",
    "\n",
    "plt.bar(x=[1], width=barwidth, height=sum(pred_nb==1)/len(pred_nb), color='forestgreen', label='NB')\n",
    "plt.bar(x=[2], width=barwidth, height=sum(pred_lr==1)/len(pred_nb), color='limegreen', label='LR')\n",
    "plt.bar(x=[3], width=barwidth, height=sum(pred_svm==1)/len(pred_nb), color='springgreen', label='SVM')\n",
    "\n",
    "plt.bar(x=[7], width=barwidth, height=sum(pred_nb!=1)/len(pred_nb), color='forestgreen')\n",
    "plt.bar(x=[8], width=barwidth, height=sum(pred_lr!=1)/len(pred_nb), color='limegreen')\n",
    "plt.bar(x=[9], width=barwidth, height=sum(pred_svm!=1)/len(pred_nb), color='springgreen')\n",
    "\n",
    "plt.xticks([r for r in [2.5, 7.5]], ['Prediction = 1', 'Prediction = 0'])\n",
    "\n",
    "plt.legend()"
   ]
  },
  {
   "cell_type": "markdown",
   "metadata": {},
   "source": [
    "## Equilibrage des données\n",
    "\n",
    "Un problème reconnu comme dur dans la communauté est celui de l'équilibrage des classes (*balance* en anglais). Que faire si les données sont à 80, 90 ou 99% dans une des classes?\n",
    "Le problème est dur mais fréquent; les solutions sont multiples mais on peut isoler 3 grandes familles de solution.\n",
    "\n",
    "1. Ré-équilibrer le jeu de données: supprimer des données dans la classe majoritaire et/ou sur-échantilloner la classe minoritaire.<BR>\n",
    "   $\\Rightarrow$ A vous de jouer pour cette technique\n",
    "1. Changer la formulation de la fonction de coût pour pénaliser plus les erreurs dans la classe minoritaire:\n",
    "soit une fonction $\\Delta$ mesurant les écarts entre $f(x_i)$ et $y_i$ \n",
    "$$C = \\sum_i  \\alpha_i \\Delta(f(x_i),y_i), \\qquad \\alpha_i = \\left\\{\n",
    "\\begin{array}{ll}\n",
    "1 & \\text{si } y_i \\in \\text{classe majoritaire}\\\\\n",
    "B>1 & \\text{si } y_i \\in \\text{classe minoritaire}\\\\\n",
    "\\end{array} \\right.$$\n",
    "<BR>\n",
    "   $\\Rightarrow$ Les SVM et d'autres approches sklearn possèdent des arguments pour régler $B$ ou $1/B$... Ces arguments sont utiles mais pas toujours suffisant.\n",
    "1. Courbe ROC et modification du biais. Une fois la fonction $\\hat y = f(x)$ apprise, il est possible de la *bidouiller* a posteriori: si toutes les prédictions $\\hat y$ sont dans une classe, on va introduire $b$ dans $\\hat y = f(x) + b$ et le faire varier jusqu'à ce qu'un des points change de classe. On peut ensuite aller de plus en plus loin.\n",
    "Le calcul de l'ensemble des scores associés à cette approche mène directement à la courbe ROC.\n",
    "\n",
    "**Note:** certains classifieurs sont intrinsèquement plus résistante au problème d'équilibrage, c'est par exemple le cas des techniques de gradient boosting que vous verrez l'an prochain."
   ]
  },
  {
   "cell_type": "code",
   "execution_count": null,
   "metadata": {},
   "outputs": [],
   "source": []
  }
 ],
 "metadata": {
  "kernelspec": {
   "display_name": "Python 3.9.12 ('base')",
   "language": "python",
   "name": "python3"
  },
  "language_info": {
   "codemirror_mode": {
    "name": "ipython",
    "version": 3
   },
   "file_extension": ".py",
   "mimetype": "text/x-python",
   "name": "python",
   "nbconvert_exporter": "python",
   "pygments_lexer": "ipython3",
   "version": "3.9.12"
  },
  "vscode": {
   "interpreter": {
    "hash": "ed81eaa366c199701cc0b6acf89d1095f91dbdc8c930c37b576dc7ad6c320773"
   }
  }
 },
 "nbformat": 4,
 "nbformat_minor": 2
}
