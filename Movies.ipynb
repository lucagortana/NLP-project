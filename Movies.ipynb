{
 "cells": [
  {
   "cell_type": "markdown",
   "metadata": {},
   "source": [
    "# Classification de documents : prise en main des outils\n",
    "\n",
    "Le but de ce TP est de classer des documents textuels... Dans un premier temps, nous allons vérifier le bon fonctionnement des outils sur des données jouets puis appliquer les concepts sur des données réelles.\n",
    "\n",
    "\n",
    "## Conception de la chaine de traitement\n",
    "Pour rappel, une chaine de traitement de documents classique est composée des étapes suivantes:\n",
    "1. Lecture des données et importation\n",
    "    - Dans le cadre de nos TP, nous faisons l'hypothèse que le corpus tient en mémoire... Si ce n'est pas le cas, il faut alors ajouter des structures de données avec des buffers (*data-reader*), bien plus complexes à mettre en place.\n",
    "    - Le plus grand piège concerne l'encodage des données. Dans le TP... Pas (ou peu) de problème. Dans la vraie vie: il faut faire attention à toujours maitriser les formats d'entrée et de sortie.\n",
    "1. Traitement des données brutes paramétrique. Chaque traitement doit être activable ou desactivable + paramétrable si besoin.\n",
    "    - Enlever les informations *inutiles* : chiffre, ponctuations, majuscules, etc... <BR>\n",
    "    **L'utilité dépend de l'application!**\n",
    "    - Segmenter en mots (=*Tokenization*)\n",
    "    - Elimination des stop-words\n",
    "    - Stemming/lemmatisation (racinisation)\n",
    "    - Byte-pair encoding pour trouver les mots composés (e.g. Sorbonne Université, Ville de Paris, Premier Ministre, etc...)\n",
    "1. Traitement des données numériques\n",
    "    - Normalisation *term-frequency* / binarisation\n",
    "    - Normalisation *inverse document frequency*\n",
    "    - Elimination des mots rares, des mots trop fréquents\n",
    "    - Construction de critère de séparabilité pour éliminer des mots etc...\n",
    "1. Apprentissage d'un classifieur\n",
    "    - Choix du type de classifieur\n",
    "    - Réglage des paramètres du classifieur (régularisation, etc...)\n",
    "\n",
    "## Exploitation de la chaine de traitement\n",
    "\n",
    "On appelle cette étape la réalisation d'une campagne d'expériences: c'est le point clé que nous voulons traviller en TAL cette année.\n",
    "1. Il est impossible de tester toutes les combinaisons par rapport aux propositions ci-dessus... Il faut donc en éliminer un certain nombre.\n",
    "    - En discutant avec les experts métiers\n",
    "    - En faisant des tests préliminaires\n",
    "1. Après ce premier filtrage, il faut:\n",
    "    - Choisir une évaluation fiable et pas trop lente (validation croisée, leave-one-out, split apprentissage/test simple)\n",
    "    - Lancer des expériences en grand\n",
    "        - = *grid-search*\n",
    "        - parallèliser sur plusieurs machines\n",
    "        - savoir lancer sur un serveur et se déconnecter\n",
    "1. Collecter et analyser les résultats\n",
    "\n",
    "\n",
    "## Inférence\n",
    "\n",
    "L'inférence est ensuite très classique: la chaine de traitement optimale est apte à traiter de nouveaux documents\n",
    "\n",
    "# Etape 1: charger les données"
   ]
  },
  {
   "cell_type": "code",
   "execution_count": 73,
   "metadata": {},
   "outputs": [],
   "source": [
    "import numpy as np\n",
    "import matplotlib.pyplot as plt\n",
    "import pandas as pd\n",
    "import random as rd\n",
    "\n",
    "import codecs\n",
    "import re\n",
    "import os.path\n",
    "\n",
    "from sklearn.model_selection import train_test_split\n",
    "import time\n",
    "from sklearn.naive_bayes import MultinomialNB\n",
    "from sklearn.linear_model import LogisticRegression\n",
    "from sklearn.svm import LinearSVC\n",
    "from sklearn.model_selection import GridSearchCV, cross_val_score"
   ]
  },
  {
   "cell_type": "code",
   "execution_count": 74,
   "metadata": {},
   "outputs": [],
   "source": [
    "def load_movies(path2data): # 1 classe par répertoire\n",
    "    alltxts = [] # init vide\n",
    "    labs = []\n",
    "    cpt = 0\n",
    "    for cl in os.listdir(path2data): # parcours des fichiers d'un répertoire\n",
    "        for f in os.listdir(path2data+cl):\n",
    "            txt = open(path2data+cl+'/'+f).read()\n",
    "            alltxts.append(txt)\n",
    "            labs.append(cpt)\n",
    "        cpt+=1 # chg répertoire = cht classe\n",
    "        \n",
    "    return alltxts,labs\n"
   ]
  },
  {
   "cell_type": "code",
   "execution_count": 75,
   "metadata": {},
   "outputs": [],
   "source": [
    "path = \"./ressources/movies/movies1000/\"\n",
    "\n",
    "alltxts,alllabs = load_movies(path)"
   ]
  },
  {
   "cell_type": "code",
   "execution_count": 76,
   "metadata": {},
   "outputs": [
    {
     "name": "stdout",
     "output_type": "stream",
     "text": [
      "2000 2000\n",
      "senseless ( r ) marlon wayans is a very talented physical comedian , and it is that gift that brings senseless moments of life . \n",
      "alas , moments are simply that , moments , which are not enough to lift this fantasy/comedy above its one-joke premise . \n",
      "granted , that one joke is initially amusing . \n",
      "when wayans's darryl witherspoon , an economics major at stratford university , hits some dire financial straits , he becomes a guinea pig for a experimental drug that heightens all five senses . \n",
      "after some initial side effects and problems controlling his superhuman senses , darryl learns to enjoy the benefits of his abilities and uses them to land a position at a highly esteemed corporate firm . \n",
      "at this point , the film sounds more like senseful than senseless , but through some turns of the plot , darryl finds himself only able to use four of his five senses at once , essentially leaving him--yes--senseless . \n",
      "this sets up some showcase moments for wayans's gift for physical comedy , especially when darryl loses his sense of feeling and his body goes completely , hilariously limp . \n",
      "but these gags , and the gag behind the entire movie , quickly grows stale . \n",
      "once darryl is shown without the use of all of the senses , instead of exploring any new comic territory , director penelope spheeris and screenwriters greg erb and craig mazin take the easy way out and simply recycle each form of senselessness . \n",
      "wayans approaches each go-round with gusto , but by this point he's simply treading water for the rest of the film's unfunny duration . \n",
      "senseless would not be as problematic as it is if it didn't strive to be anything more than a comic trifle . \n",
      "however , the raucous and often raunchy comedy is wrapped in a blanket of bogus sincerity . \n",
      "darryl goes through the experiment in order to help his cash-strapped family , and this \" serious \" angle seems to come from an entirely different movie . \n",
      "unlike wayans's last starring vehicle , the surprisingly effective ( and serious ) the 6th man , the \" emotional \" content of senseless is forced and unconvincing . \n",
      "any attempt at anything more substantial than broad comedy fizzles--darryl's romance with janice ( tamara taylor ) , a young woman who yearns for a man who is true to himself , does not generate sparks of any kind . \n",
      "once his wb television sitcom the wayans bros . comes to an end , the genuinely funny marlon wayans has a promising big-screen future ahead of him . \n",
      "but if he continues to associate himself with projects as flat as senseless , his film career could go the way of his once-promising older brother , damon , who is now set to make his comeback--on television . \n",
      "\n",
      "0\n",
      "renown surrealist director , the 77-year-old frenchman alain resnais ( hiroshima , mon amour/last year at marienbad/m ? lo ) , has created a lighthearted musical played as an homage to britisher dennis potter and his pennies from heaven ( 1978 tv serial , 1981 movie ) and the singing detective ( 1986 ) . \n",
      "the film follows potter's gimmicky style of having the characters jump into lip-synched old or contemporary french pop songs to express their private thoughts . \n",
      "he also follows the kind of sweet and colorful musicals his fellow countryman jacques demy loved to direct , such as \" the umbrellas of cherbourg \" and \" the young girls of rochefort . \" \n",
      "the tale has resnais's unique touches as a director to go along with his homage . \n",
      "it is a satire about class differences and falling in love with the wrong person , and that there is a song in everyone's heart for every occasion . \n",
      "what hinders this production is that the stars are not portraying particularly engaging characters , the songs are not memorable and stand little chance of being recognized by an american audience ( the exceptions might be the edith piaf and maurice chevalier numbers ) , and the farce seems more banal than daring . \n",
      "yet it is not without its striking moments and charms , such as when jane birkin does a cameo and sings one of her own songs . \n",
      "also , the glossy amberlike photography added a very french romantic feeling to the story , while the mood of paris as being a place for love to flourish above all else , which has always been embellished in movie lore , comes through with flying colors . \n",
      "it also does a good job of showing you the way paris is in the 1990s and in the way ordinary people exist there . \n",
      "it tells the romantic story of six parisians who become intertwined with each other in their ordinary lives as they search for happiness . \n",
      "they are the attractive sisters odile ( sabine az ? ma ) and camille ( agnes jaoui ) , with the older businesswoman odile married and decidedly set on a bourgeois life of material comforts . \n",
      "she is married to the glum and laconic claude ( pierre arditi ) . \n",
      "she once went out with a businessman , nicolas ( jean-pierre bacri ) , who left her 8-years ago and now shows up in paris and asks her help to find someone to rent a flat for his family . \n",
      "simon ( andre dussolier ) works as a real-estate salesman and is trying to find nicolas a flat , in his spare time he writes radio plays . \n",
      "simon's boss is the much younger , unscrupulous and arrogant marc duveyrier ( lambert wilson ) , who inherited the firm from his father and is the real-estate agent selling a more luxurious and larger flat with a better view to odile , but fails to tell her that a building project is going up soon that will block her view . \n",
      "screenwriters and actors jean-pierre bacri and agnes jaoui wrote themselves the best parts . \n",
      "jaoui's camille is a university scholar finishing up a ph . d . \n",
      "in history , using for her thesis the study of 'the yeomen in the year 1000 at lake paladru . ' \n",
      "she works as a tour guide in the meantime and suffers from panic attacks , even though she appears to have outwardly perfect self-control . \n",
      "on her tours for the last four years has been the much older simon , pretending to be doing research for his plays but really attracted to her , but not having the nerve to tell her this . \n",
      "to his dismay , he finds out she is dating his mean-spirited but handsome boss , whom she meets when looking at her sister's new place and seeing him crying but not realizing that it was from a cold , not because he's so sensitive . \n",
      "bacri as the classy nicolas , turns out to be now working as a chauffeur . \n",
      "he is a hypochondriac with a history of depression who visits many doctors , until he finds one who tells him there is nothing wrong with him . \n",
      "odile still pines for him , but he's married , telling her he expects his wife to arrive shortly . \n",
      "love is 'the same old song' that makes the world go 'round , even when all the characters are liars and not exactly open to what their true motives are . \n",
      "everything comes together in a bourgeois housewarming party for odile's place , as the characters reveal their true feelings and all their deceptions and neurotic impulses are either uncovered or about to be . \n",
      "there's not a lot of bite to this satirical musical , but resnais has never made a bad film and is one of the best current french directors , if not the best . \n",
      "this film is not one his great ones , but it still has enough pep in its light touches to be interesting . \n",
      "it not only has an odd way for the characters to break into song but -- some males even sing in a female voice while some females sing in a male voice . \n",
      "it is also interesting in the way it examines its characters' behavior as being similar in business as in love . \n",
      "\n",
      "1\n"
     ]
    }
   ],
   "source": [
    "print(len(alltxts),len(alllabs))\n",
    "print(alltxts[0])\n",
    "print(alllabs[0])\n",
    "print(alltxts[-1])\n",
    "print(alllabs[-1])\n"
   ]
  },
  {
   "cell_type": "code",
   "execution_count": 77,
   "metadata": {},
   "outputs": [],
   "source": [
    "def load_sentiment(path2data): # 1 classe par répertoire\n",
    "    alltexts = [] # init vide\n",
    "    labs = []\n",
    "    alltexts = (open(path2data).readlines()) \n",
    "    return alltexts,labs"
   ]
  },
  {
   "cell_type": "code",
   "execution_count": 78,
   "metadata": {},
   "outputs": [],
   "source": [
    "path = './ressources/movies/testSentiment.txt'\n",
    "\n",
    "sentiment_txt , sentiment_labs= load_sentiment(path)"
   ]
  },
  {
   "cell_type": "code",
   "execution_count": 79,
   "metadata": {},
   "outputs": [
    {
     "name": "stdout",
     "output_type": "stream",
     "text": [
      "25000\n",
      "Story of a man who has unnatural feelings for a pig. Starts out with a opening scene that is a terrific example of absurd comedy. A formal orchestra audience is turned into an insane, violent mob by the crazy chantings of it's singers. Unfortunately it stays absurd the WHOLE time with no general narrative eventually making it just too off putting. Even those from the era should be turned off. The cryptic dialogue would make Shakespeare seem easy to a third grader. On a technical level it's better than you might think with some good cinematography by future great Vilmos Zsigmond. Future stars Sally Kirkland and Frederic Forrest can be seen briefly.\n",
      "\n"
     ]
    }
   ],
   "source": [
    "print(len(sentiment_txt))\n",
    "print(sentiment_txt[0]) #un probleme a cause d'un caractère non reconnu "
   ]
  },
  {
   "cell_type": "markdown",
   "metadata": {},
   "source": [
    "-  Création d'un sample pour les tests de vocabulaire pour alléger en temps de calcul"
   ]
  },
  {
   "cell_type": "code",
   "execution_count": 80,
   "metadata": {},
   "outputs": [
    {
     "name": "stdout",
     "output_type": "stream",
     "text": [
      "Story of a man who has unnatural feelings for a pig. Starts out with a opening scene that is a terrific example of absurd comedy. A formal orchestra audience is turned into an insane, violent mob by the crazy chantings of it's singers. Unfortunately it stays absurd the WHOLE time with no general narrative eventually making it just too off putting. Even those from the era should be turned off. The cryptic dialogue would make Shakespeare seem easy to a third grader. On a technical level it's better than you might think with some good cinematography by future great Vilmos Zsigmond. Future stars Sally Kirkland and Frederic Forrest can be seen briefly.\n",
      "\n"
     ]
    }
   ],
   "source": [
    "test_para= []\n",
    "for i in range (5): \n",
    "    test_para.append(sentiment_txt[i])\n",
    "\n",
    "print(test_para[0])"
   ]
  },
  {
   "cell_type": "markdown",
   "metadata": {},
   "source": [
    "# Transformation paramétrique du texte\n",
    "\n",
    "Vous devez tester, par exemple, les cas suivants:\n",
    "- transformation en minuscule ou pas\n",
    "- suppression de la ponctuation\n",
    "- transformation des mots entièrement en majuscule en marqueurs spécifiques\n",
    "- suppression des chiffres ou pas\n",
    "- conservation d'une partie du texte seulement (seulement la première ligne = titre, seulement la dernière ligne = résumé, ...)\n",
    "- stemming\n",
    "- ...\n",
    "\n",
    "\n",
    "Vérifier systématiquement sur un exemple ou deux le bon fonctionnement des méthodes sur deux documents (au moins un de chaque classe)."
   ]
  },
  {
   "cell_type": "code",
   "execution_count": 81,
   "metadata": {},
   "outputs": [
    {
     "name": "stdout",
     "output_type": "stream",
     "text": [
      "[(',', 77717), ('the', 68368), ('.', 65876), ('a', 37123), ('and', 33726), ('of', 33698), ('to', 31471), ('is', 25017), ('in', 20012), ('\"', 17612), ('that', 14768), (')', 11781), ('(', 11664), ('it', 10546), ('as', 10422), ('with', 10407), ('for', 9427), ('his', 9008), ('film', 8843), ('this', 7965), ('\\nthe', 7810), ('on', 6979), ('are', 6907), ('but', 6798), ('he', 6191), ('be', 6052), ('by', 6039), ('an', 5619), ('i', 5589), ('movie', 5419), ('who', 5306), ('not', 5196), ('one', 5036), ('was', 4903), ('have', 4871), ('from', 4821), ('has', 4706), ('at', 4592), ('her', 4321), ('you', 4052), ('all', 3966), ('?', 3771), ('\\n', 3769), ('they', 3628), ('about', 3501), ('out', 3420), ('like', 3387), ('more', 3279), ('so', 3135), ('which', 3098)]\n"
     ]
    },
    {
     "data": {
      "image/png": "[encoded data removed]",
      "text/plain": [
       "<Figure size 640x480 with 1 Axes>"
      ]
     },
     "metadata": {},
     "output_type": "display_data"
    }
   ],
   "source": [
    "from collections import Counter\n",
    "\n",
    "wc = Counter()\n",
    "nb_max = 500\n",
    "\n",
    "for text in alltxts:\n",
    "    wc.update(text.split(\" \")) \n",
    "    \n",
    "    #considère chaque mot comme étant des unités espacées par un \" \" \n",
    "    \n",
    "freq = [f for w,f in wc.most_common()]\n",
    "plt.plot(freq[:nb_max])\n",
    "\n",
    "print(wc.most_common(50))"
   ]
  },
  {
   "cell_type": "markdown",
   "metadata": {},
   "source": [
    "on remarque que la ponctuation prend enormément de place dans les mots les plus fréquents"
   ]
  },
  {
   "cell_type": "markdown",
   "metadata": {},
   "source": [
    "# Retrait de la ponctuation\n"
   ]
  },
  {
   "cell_type": "code",
   "execution_count": 82,
   "metadata": {},
   "outputs": [
    {
     "name": "stdout",
     "output_type": "stream",
     "text": [
      "senseless ( r ) marlon wayans is a very talented physical comedian , and it is that gift that brings senseless moments of life . \n",
      "alas , moments are simply that , moments , which are not enough to lift this fantasy/comedy above its one-joke premise . \n",
      "granted , that one joke is initially amusing . \n",
      "when wayans's darryl witherspoon , an economics major at stratford university , hits some dire financial straits , he becomes a guinea pig for a experimental drug that heightens all five senses . \n",
      "after some initial side effects and problems controlling his superhuman senses , darryl learns to enjoy the benefits of his abilities and uses them to land a position at a highly esteemed corporate firm . \n",
      "at this point , the film sounds more like senseful than senseless , but through some turns of the plot , darryl finds himself only able to use four of his five senses at once , essentially leaving him--yes--senseless . \n",
      "this sets up some showcase moments for wayans's gift for physical comedy , especially when darryl loses his sense of feeling and his body goes completely , hilariously limp . \n",
      "but these gags , and the gag behind the entire movie , quickly grows stale . \n",
      "once darryl is shown without the use of all of the senses , instead of exploring any new comic territory , director penelope spheeris and screenwriters greg erb and craig mazin take the easy way out and simply recycle each form of senselessness . \n",
      "wayans approaches each go-round with gusto , but by this point he's simply treading water for the rest of the film's unfunny duration . \n",
      "senseless would not be as problematic as it is if it didn't strive to be anything more than a comic trifle . \n",
      "however , the raucous and often raunchy comedy is wrapped in a blanket of bogus sincerity . \n",
      "darryl goes through the experiment in order to help his cash-strapped family , and this \" serious \" angle seems to come from an entirely different movie . \n",
      "unlike wayans's last starring vehicle , the surprisingly effective ( and serious ) the 6th man , the \" emotional \" content of senseless is forced and unconvincing . \n",
      "any attempt at anything more substantial than broad comedy fizzles--darryl's romance with janice ( tamara taylor ) , a young woman who yearns for a man who is true to himself , does not generate sparks of any kind . \n",
      "once his wb television sitcom the wayans bros . comes to an end , the genuinely funny marlon wayans has a promising big-screen future ahead of him . \n",
      "but if he continues to associate himself with projects as flat as senseless , his film career could go the way of his once-promising older brother , damon , who is now set to make his comeback--on television . \n",
      " \n",
      "-->\n",
      " senseless r marlon wayans is a very talented physical comedian and it is that gift that brings senseless moments of life alas moments are simply that moments which are not enough to lift this fantasy comedy above its one joke premise granted that one joke is initially amusing when wayanss darryl witherspoon an economics major at stratford university hits some dire financial straits he becomes a guinea pig for a experimental drug that heightens all five senses after some initial side effects and problems controlling his superhuman senses darryl learns to enjoy the benefits of his abilities and uses them to land a position at a highly esteemed corporate firm at this point the film sounds more like senseful than senseless but through some turns of the plot darryl finds himself only able to use four of his five senses at once essentially leaving him  yes  senseless this sets up some showcase moments for wayanss gift for physical comedy especially when darryl loses his sense of feeling and his body goes completely hilariously limp but these gags and the gag behind the entire movie quickly grows stale once darryl is shown without the use of all of the senses instead of exploring any new comic territory director penelope spheeris and screenwriters greg erb and craig mazin take the easy way out and simply recycle each form of senselessness wayans approaches each go round with gusto but by this point hes simply treading water for the rest of the films unfunny duration senseless would not be as problematic as it is if it didnt strive to be anything more than a comic trifle however the raucous and often raunchy comedy is wrapped in a blanket of bogus sincerity darryl goes through the experiment in order to help his cash strapped family and this serious angle seems to come from an entirely different movie unlike wayanss last starring vehicle the surprisingly effective and serious the 6th man the emotional content of senseless is forced and unconvincing any attempt at anything more substantial than broad comedy fizzles  darryls romance with janice tamara taylor  a young woman who yearns for a man who is true to himself does not generate sparks of any kind once his wb television sitcom the wayans bros comes to an end the genuinely funny marlon wayans has a promising big screen future ahead of him but if he continues to associate himself with projects as flat as senseless his film career could go the way of his once promising older brother damon who is now set to make his comeback  on television \n"
     ]
    }
   ],
   "source": [
    "import string\n",
    "no_punc = re.sub(\"'\",'',alltxts[0]) #texte en anglais on doit garder les 't de négations\n",
    "punc = string.punctuation  \n",
    "punc += '\\n\\r\\t'\n",
    "\n",
    "no_punc = no_punc.translate(str.maketrans(punc, ' ' * len(punc)))  \n",
    "no_punc = re.sub('    ',' ',no_punc)\n",
    "no_punc = re.sub('   ',' ',no_punc)\n",
    "print(alltxts[0], \"\\n-->\\n\", no_punc)"
   ]
  },
  {
   "cell_type": "code",
   "execution_count": 83,
   "metadata": {},
   "outputs": [
    {
     "name": "stdout",
     "output_type": "stream",
     "text": [
      "senseless ( r ) marlon wayans is a very talented physical comedian , and it is that gift that brings senseless moments of life . \n",
      "alas , moments are simply that , moments , which are not enough to lift this fantasy/comedy above its one-joke premise . \n",
      "granted , that one joke is initially amusing . \n",
      "when wayans's darryl witherspoon , an economics major at stratford university , hits some dire financial straits , he becomes a guinea pig for a experimental drug that heightens all five senses . \n",
      "after some initial side effects and problems controlling his superhuman senses , darryl learns to enjoy the benefits of his abilities and uses them to land a position at a highly esteemed corporate firm . \n",
      "at this point , the film sounds more like senseful than senseless , but through some turns of the plot , darryl finds himself only able to use four of his five senses at once , essentially leaving him--yes--senseless . \n",
      "this sets up some showcase moments for wayans's gift for physical comedy , especially when darryl loses his sense of feeling and his body goes completely , hilariously limp . \n",
      "but these gags , and the gag behind the entire movie , quickly grows stale . \n",
      "once darryl is shown without the use of all of the senses , instead of exploring any new comic territory , director penelope spheeris and screenwriters greg erb and craig mazin take the easy way out and simply recycle each form of senselessness . \n",
      "wayans approaches each go-round with gusto , but by this point he's simply treading water for the rest of the film's unfunny duration . \n",
      "senseless would not be as problematic as it is if it didn't strive to be anything more than a comic trifle . \n",
      "however , the raucous and often raunchy comedy is wrapped in a blanket of bogus sincerity . \n",
      "darryl goes through the experiment in order to help his cash-strapped family , and this \" serious \" angle seems to come from an entirely different movie . \n",
      "unlike wayans's last starring vehicle , the surprisingly effective ( and serious ) the 6th man , the \" emotional \" content of senseless is forced and unconvincing . \n",
      "any attempt at anything more substantial than broad comedy fizzles--darryl's romance with janice ( tamara taylor ) , a young woman who yearns for a man who is true to himself , does not generate sparks of any kind . \n",
      "once his wb television sitcom the wayans bros . comes to an end , the genuinely funny marlon wayans has a promising big-screen future ahead of him . \n",
      "but if he continues to associate himself with projects as flat as senseless , his film career could go the way of his once-promising older brother , damon , who is now set to make his comeback--on television . \n",
      "\n",
      "senseless ( r ) marlon wayans is a very talented physical comedian , and it is that gift that brings senseless moments of life . \n",
      "alas , moments are simply that , moments , which are not enough to lift this fantasy/comedy above its one-joke premise . \n",
      "granted , that one joke is initially amusing . \n",
      "when wayans's darryl witherspoon , an economics major at stratford university , hits some dire financial straits , he becomes a guinea pig for a experimental drug that heightens all five senses . \n",
      "after some initial side effects and problems controlling his superhuman senses , darryl learns to enjoy the benefits of his abilities and uses them to land a position at a highly esteemed corporate firm . \n",
      "at this point , the film sounds more like senseful than senseless , but through some turns of the plot , darryl finds himself only able to use four of his five senses at once , essentially leaving him--yes--senseless . \n",
      "this sets up some showcase moments for wayans's gift for physical comedy , especially when darryl loses his sense of feeling and his body goes completely , hilariously limp . \n",
      "but these gags , and the gag behind the entire movie , quickly grows stale . \n",
      "once darryl is shown without the use of all of the senses , instead of exploring any new comic territory , director penelope spheeris and screenwriters greg erb and craig mazin take the easy way out and simply recycle each form of senselessness . \n",
      "wayans approaches each go-round with gusto , but by this point he's simply treading water for the rest of the film's unfunny duration . \n",
      "senseless would not be as problematic as it is if it didn't strive to be anything more than a comic trifle . \n",
      "however , the raucous and often raunchy comedy is wrapped in a blanket of bogus sincerity . \n",
      "darryl goes through the experiment in order to help his cash-strapped family , and this \" serious \" angle seems to come from an entirely different movie . \n",
      "unlike wayans's last starring vehicle , the surprisingly effective ( and serious ) the 6th man , the \" emotional \" content of senseless is forced and unconvincing . \n",
      "any attempt at anything more substantial than broad comedy fizzles--darryl's romance with janice ( tamara taylor ) , a young woman who yearns for a man who is true to himself , does not generate sparks of any kind . \n",
      "once his wb television sitcom the wayans bros . comes to an end , the genuinely funny marlon wayans has a promising big-screen future ahead of him . \n",
      "but if he continues to associate himself with projects as flat as senseless , his film career could go the way of his once-promising older brother , damon , who is now set to make his comeback--on television . \n",
      "\n"
     ]
    }
   ],
   "source": [
    "import unicodedata\n",
    "\n",
    "doc = unicodedata.normalize('NFD',alltxts[0]).encode('ascii', 'ignore').decode(\"utf-8\")\n",
    "doc = doc.lower()\n",
    "print (alltxts[0])\n",
    "print(doc)\n",
    "\n",
    "# pas utile pour notre exemple"
   ]
  },
  {
   "cell_type": "code",
   "execution_count": 84,
   "metadata": {},
   "outputs": [],
   "source": [
    "\n",
    "\n",
    "def preprocess(x):\n",
    "    new_list = [0]*len(x)\n",
    "    i = 0\n",
    "    for example in x:\n",
    "        new_list[i] = example\n",
    "        new_list[i] = re.sub(\"'\",'',example) #texte en anglais on doit garder les 't de négations\n",
    "        new_list[i] = new_list[i].translate(str.maketrans(punc, ' ' * len(punc)))  \n",
    "        i += 1\n",
    "    return new_list\n",
    "\n",
    "alltxts, sentiment_txt = preprocess(alltxts), preprocess(sentiment_txt)\n",
    "test_para = preprocess(test_para)\n",
    "#-->transformation de nos exemples\n",
    "#print(alltxts[0])\n",
    "#print(test_para[0])\n",
    "# CountVectorizer can take a list of stop words as argument.\n",
    "# Build or download a list of stop word (from NLTK for exemple)\n",
    "\n"
   ]
  },
  {
   "cell_type": "markdown",
   "metadata": {},
   "source": [
    "- test de l'effet de retrait de la ponctuation"
   ]
  },
  {
   "cell_type": "code",
   "execution_count": 85,
   "metadata": {},
   "outputs": [],
   "source": [
    "from sklearn.feature_extraction.text import CountVectorizer"
   ]
  },
  {
   "cell_type": "code",
   "execution_count": 86,
   "metadata": {},
   "outputs": [
    {
     "name": "stdout",
     "output_type": "stream",
     "text": [
      "[('', 472459), ('the', 76573), ('a', 38099), ('and', 35581), ('of', 34126), ('to', 31939), ('is', 25206), ('in', 21826), ('that', 15130), ('it', 12350), ('as', 11380), ('with', 10792), ('for', 9961), ('his', 9588), ('this', 9577), ('film', 8936), ('but', 8635), ('he', 7633), ('i', 7533), ('on', 7384), ('are', 6950), ('by', 6262), ('be', 6172), ('its', 5990), ('one', 5794), ('an', 5744), ('not', 5584), ('movie', 5543), ('who', 5393), ('from', 4999), ('at', 4988), ('was', 4939), ('have', 4902), ('has', 4720), ('her', 4521), ('you', 4464), ('all', 4369), ('they', 4289), ('like', 3691), ('so', 3684), ('out', 3637), ('about', 3523), ('up', 3404), ('more', 3350), ('when', 3257), ('which', 3161), ('or', 3146), ('their', 3123), ('what', 3090), ('some', 2986)]\n"
     ]
    },
    {
     "data": {
      "image/png": "[encoded data removed]",
      "text/plain": [
       "<Figure size 640x480 with 1 Axes>"
      ]
     },
     "metadata": {},
     "output_type": "display_data"
    }
   ],
   "source": [
    "wc = Counter()\n",
    "nb_max = 500\n",
    "\n",
    "for text in alltxts:\n",
    "    wc.update(text.split(\" \")) \n",
    "    \n",
    "    #considère chaque mot comme étant des unités espacées par un \" \" \n",
    "    \n",
    "freq = [f for w,f in wc.most_common()]\n",
    "plt.plot(freq[:nb_max])\n",
    "\n",
    "print(wc.most_common(50))\n",
    "\n",
    "\n",
    "#stop_words = [\"the\", \"a\", \"and\"] #Make a better list\n",
    "\n",
    "#vectorizer = CountVectorizer(stop_words=stop_words)\n",
    "#X = vectorizer.fit_transform(test_para)\n",
    "#print(X)"
   ]
  },
  {
   "cell_type": "markdown",
   "metadata": {},
   "source": [
    "# Extraction du vocabulaire\n",
    "\n",
    "Exploration préliminaire des jeux de données.\n",
    "\n",
    "- Quelle est la taille d'origine du vocabulaire?\n",
    "- Que reste-t-il si on ne garde que les 100 mots les plus fréquents? [word cloud]\n",
    "- Quels sont les 100 mots dont la fréquence documentaire est la plus grande? [word cloud]\n",
    "- Quels sont les 100 mots les plus discriminants au sens de odds ratio? [word cloud]\n",
    "- Quelle est la distribution d'apparition des mots (Zipf)\n",
    "- Quels sont les 100 bigrammes/trigrammes les plus fréquents?\n"
   ]
  },
  {
   "cell_type": "markdown",
   "metadata": {},
   "source": [
    "Question qui devient de plus en plus intéressante avec les approches modernes:\n",
    "est-il possible d'extraire des tri-grammes de lettres pour représenter nos documents?\n",
    "\n",
    "Quelle performances attendrent? Quels sont les avantages et les inconvénients d'une telle approche?"
   ]
  },
  {
   "cell_type": "code",
   "execution_count": 87,
   "metadata": {},
   "outputs": [
    {
     "name": "stderr",
     "output_type": "stream",
     "text": [
      "/home/luca/anaconda3/lib/python3.9/site-packages/sklearn/utils/deprecation.py:87: FutureWarning: Function get_feature_names is deprecated; get_feature_names is deprecated in 1.0 and will be removed in 1.2. Please use get_feature_names_out instead.\n",
      "  warnings.warn(msg, category=FutureWarning)\n"
     ]
    },
    {
     "name": "stdout",
     "output_type": "stream",
     "text": [
      "Il y a 41452 mots dans l'ensemble de training.\n",
      "Il y a 79109 mots dans l'ensemble de test.\n",
      "Il y a 623 mots dans l'ensemble de test_para.\n"
     ]
    }
   ],
   "source": [
    "from sklearn.feature_extraction.text import CountVectorizer\n",
    "\n",
    "count = CountVectorizer()\n",
    "Xcount_train = count.fit_transform(alltxts)\n",
    "print(\"Il y a \" + str(len(count.get_feature_names())) + \" mots dans l'ensemble de training.\")\n",
    "#print(count.get_feature_names())\n",
    "Xcount_test = count.fit_transform(sentiment_txt)\n",
    "print(\"Il y a \" + str(len(count.get_feature_names())) + \" mots dans l'ensemble de test.\")\n",
    "#print(count.get_feature_names())\n",
    "Xcount_train = count.fit_transform(test_para)\n",
    "print(\"Il y a \" + str(len(count.get_feature_names())) + \" mots dans l'ensemble de test_para.\")\n",
    "#print(count.get_feature_names())\n",
    "#vectorizer = CountVectorizer()\n",
    "#X = vectorizer.fit_transform(corpus)\n",
    "#print(vectorizer.get_feature_names())\n",
    "\n",
    "#print(Xcount_train.toarray()[0])"
   ]
  },
  {
   "cell_type": "code",
   "execution_count": 88,
   "metadata": {},
   "outputs": [],
   "source": [
    "wc = Counter()\n",
    "\n",
    "for text in alltxts:\n",
    "    wc.update(text.split(\" \")) \n",
    "    \n",
    "freq_train = [f for w,f in wc.most_common()]\n",
    "words_train = [w for w,f in wc.most_common()]"
   ]
  },
  {
   "cell_type": "code",
   "execution_count": 90,
   "metadata": {},
   "outputs": [
    {
     "data": {
      "text/plain": [
       "(-0.5, 399.5, 199.5, -0.5)"
      ]
     },
     "execution_count": 90,
     "metadata": {},
     "output_type": "execute_result"
    },
    {
     "data": {
      "image/png": "[encoded data removed]",
      "text/plain": [
       "<Figure size 640x480 with 1 Axes>"
      ]
     },
     "metadata": {},
     "output_type": "display_data"
    }
   ],
   "source": [
    "from wordcloud import WordCloud\n",
    "\n",
    "words_100 = words_train[:100]\n",
    "words_100 = \" \".join(words_100)\n",
    "wordcloud = WordCloud().generate(words_100)\n",
    "\n",
    "plt.imshow(wordcloud, interpolation='bilinear')\n",
    "plt.axis(\"off\")"
   ]
  },
  {
   "cell_type": "code",
   "execution_count": 48,
   "metadata": {},
   "outputs": [
    {
     "name": "stdout",
     "output_type": "stream",
     "text": [
      "243\n",
      "334\n"
     ]
    }
   ],
   "source": [
    "wc = Counter()\n",
    "\n",
    "for text in sentiment_txt:\n",
    "    wc.update(text.split(\" \"))\n",
    "\n",
    "freq_test = [f for w,f in wc.most_common()]\n",
    "words_test = [w for w,f in wc.most_common()]\n",
    "\n",
    "#Création de dictionnaires\n",
    "\n",
    "freq_train_ = {}\n",
    "freq_test_ = {}\n",
    "\n",
    "for i in range(len(words_train)):\n",
    "    freq_train_[words_train[i]] = freq_train[i]\n",
    "\n",
    "for i in range(len(words_test)):\n",
    "    freq_test_[words_test[i]] = freq_test[i]\n",
    "\n",
    "print(freq_train_[\"de\"])\n",
    "print(freq_test_[\"de\"])"
   ]
  },
  {
   "cell_type": "code",
   "execution_count": 49,
   "metadata": {},
   "outputs": [
    {
     "name": "stdout",
     "output_type": "stream",
     "text": [
      "['108 minutes' '108 odd' '1970 was' ... 'your teachers'\n",
      " 'youthful exploits' 'zsigmond future']\n",
      "[0 0 0 ... 1 0 0]\n"
     ]
    }
   ],
   "source": [
    "vectorizer2 = CountVectorizer(analyzer='word', ngram_range=(2, 2))\n",
    "X2count_train = vectorizer2.fit_transform(test_para)\n",
    "print(vectorizer2.get_feature_names_out())\n",
    "print(X2count_train.toarray()[1])"
   ]
  },
  {
   "cell_type": "code",
   "execution_count": 50,
   "metadata": {},
   "outputs": [
    {
     "name": "stdout",
     "output_type": "stream",
     "text": [
      "1340 1340\n",
      "660 660\n"
     ]
    }
   ],
   "source": [
    "x_fit, x_boost, y_fit, y_boost = train_test_split(alltxts, alllabs, test_size = 0.33, random_state = 42)\n",
    "\n",
    "print(len(x_fit), len(y_fit))\n",
    "print(len(x_boost), len(y_boost))"
   ]
  },
  {
   "cell_type": "markdown",
   "metadata": {},
   "source": [
    "# Modèles de Machine Learning\n",
    "\n",
    "Avant de lancer de grandes expériences, il faut se construire une base de travail solide en étudiant les questions suivantes:\n",
    "\n",
    "- Combien de temps ça prend d'apprendre un classifieur NB/SVM/RegLog sur ces données en fonction de la taille du vocabulaire?\n",
    "- La validation croisée est-elle nécessaire? Est ce qu'on obtient les mêmes résultats avec un simple *split*?\n",
    "- La validation croisée est-elle stable? A partir de combien de fold (travailler avec différentes graines aléatoires et faire des statistiques basiques)?"
   ]
  },
  {
   "cell_type": "markdown",
   "metadata": {},
   "source": [
    "# Construction des tables"
   ]
  },
  {
   "cell_type": "code",
   "execution_count": 51,
   "metadata": {},
   "outputs": [],
   "source": [
    "#Dataframe split\n",
    "results_split = pd.DataFrame(columns=['NB', 'Temps_NB', 'LR', 'Temps_LR', 'SVM', 'Temps_SVM'], index=['PP classic', 'ngram=1', 'ngram=2', 'ngram=3', 'stopwords', 'max_features', 'max_def', 'boost'])\n",
    "\n",
    "#Dataframe Cross-validation\n",
    "results_cv = pd.DataFrame(columns=['NB', 'Temps_NB', 'LR', 'Temps_LR', 'SVM', 'Temps_SVM'],  index=['PP classic', 'ngram=1', 'ngram=2', 'ngram=3', 'stopwords', 'max_features', 'max_def', 'boost'])\n"
   ]
  },
  {
   "cell_type": "markdown",
   "metadata": {},
   "source": [
    "# Application de différents modèles"
   ]
  },
  {
   "cell_type": "markdown",
   "metadata": {},
   "source": [
    "## Pre-processing classique"
   ]
  },
  {
   "cell_type": "markdown",
   "metadata": {},
   "source": [
    "### Avec split"
   ]
  },
  {
   "cell_type": "code",
   "execution_count": 52,
   "metadata": {},
   "outputs": [],
   "source": [
    "vectorizer = CountVectorizer()\n",
    "\n",
    "x_train_pp_split = vectorizer.fit_transform(x_fit) \n",
    "x_test_pp_split = vectorizer.transform(x_boost)\n",
    "\n",
    "#Naïve Bayes\n",
    "start_nb = time.time()\n",
    "mod_nb = MultinomialNB()\n",
    "mod_nb.fit(x_train_pp_split, y_fit)\n",
    "end_nb = time.time()\n",
    "results_split.loc['PP classic', 'NB'] = mod_nb.score(x_test_pp_split, y_boost)\n",
    "results_split.loc['PP classic', 'Temps_NB'] = end_nb - start_nb\n",
    "\n",
    "#Logistic Regression\n",
    "start_lr = time.time()\n",
    "mod_lr = LogisticRegression(random_state=0, C=1e-3)\n",
    "mod_lr.fit(x_train_pp_split, y_fit)\n",
    "end_lr = time.time()\n",
    "results_split.loc['PP classic', 'LR'] = mod_lr.score(x_test_pp_split, y_boost)\n",
    "results_split.loc['PP classic', 'Temps_LR'] = end_lr - start_lr\n",
    "\n",
    "#Linear SVM\n",
    "start_svm = time.time()\n",
    "mod_svm = LinearSVC(random_state=0, tol=1e-5, C=1e-3)\n",
    "mod_svm.fit(x_train_pp_split, y_fit)\n",
    "end_svm = time.time()\n",
    "results_split.loc['PP classic', 'SVM'] = mod_svm.score(x_test_pp_split, y_boost)\n",
    "results_split.loc['PP classic', 'Temps_SVM'] = end_svm - start_svm"
   ]
  },
  {
   "cell_type": "markdown",
   "metadata": {},
   "source": [
    "### Avec validation croisée\n"
   ]
  },
  {
   "cell_type": "code",
   "execution_count": 53,
   "metadata": {},
   "outputs": [],
   "source": [
    "x_train_pp_cv = vectorizer.fit_transform(alltxts)\n",
    "\n",
    "#Naïve Bayes\n",
    "start_nb = time.time()\n",
    "mod_nb_cv = cross_val_score(mod_nb, x_train_pp_cv, alllabs , cv=5, scoring='accuracy')\n",
    "end_nb = time.time()\n",
    "results_cv.loc['PP classic', 'NB'] = mod_nb_cv.mean()\n",
    "results_cv.loc['PP classic', 'Temps_NB'] = end_nb - start_nb\n",
    "\n",
    "#Logistic Regression\n",
    "start_lr = time.time()\n",
    "mod_lr_cv = cross_val_score(mod_lr, x_train_pp_cv, alllabs, cv=5, scoring='accuracy')\n",
    "end_lr = time.time()\n",
    "results_cv.loc['PP classic', 'LR'] = mod_lr_cv.mean()\n",
    "results_cv.loc['PP classic', 'Temps_LR'] = end_lr - start_lr\n",
    "\n",
    "#Linear SVM\n",
    "start_svm = time.time()\n",
    "mod_svm_cv = cross_val_score(mod_svm, x_train_pp_cv, alllabs, cv=5, scoring='accuracy')\n",
    "end_svm = time.time()\n",
    "results_cv.loc['PP classic', 'SVM'] = mod_svm_cv.mean()\n",
    "results_cv.loc['PP classic', 'Temps_SVM'] = end_svm - start_svm"
   ]
  },
  {
   "cell_type": "code",
   "execution_count": 54,
   "metadata": {},
   "outputs": [],
   "source": [
    "vectorizer_ngram1 = CountVectorizer(ngram_range=(1,1))\n",
    "\n",
    "x_train_ng1_split = vectorizer_ngram1.fit_transform(x_fit) \n",
    "x_test_ng1_split = vectorizer_ngram1.transform(x_boost)\n",
    "\n",
    "#Naïve Bayes\n",
    "start_nb = time.time()\n",
    "mod_nb = MultinomialNB()\n",
    "mod_nb.fit(x_train_ng1_split, y_fit)\n",
    "end_nb = time.time()\n",
    "results_split.loc['ngram=1', 'NB'] = mod_nb.score(x_test_ng1_split, y_boost)\n",
    "results_split.loc['ngram=1', 'Temps_NB'] = end_nb - start_nb\n",
    "\n",
    "#Logistic Regression\n",
    "start_lr = time.time()\n",
    "mod_lr = LogisticRegression(random_state=0, C=1e-3)\n",
    "mod_lr.fit(x_train_ng1_split, y_fit)\n",
    "end_lr = time.time()\n",
    "results_split.loc['ngram=1', 'LR'] = mod_lr.score(x_test_ng1_split, y_boost)\n",
    "results_split.loc['ngram=1', 'Temps_LR'] = end_lr - start_lr\n",
    "\n",
    "#Linear SVM\n",
    "start_svm = time.time()\n",
    "mod_svm = LinearSVC(random_state=0, tol=1e-5, C=1e-3)\n",
    "mod_svm.fit(x_train_ng1_split, y_fit)\n",
    "end_svm = time.time()\n",
    "results_split.loc['ngram=1', 'SVM'] = mod_svm.score(x_test_ng1_split, y_boost)\n",
    "results_split.loc['ngram=1', 'Temps_SVM'] = end_svm - start_svm"
   ]
  },
  {
   "cell_type": "code",
   "execution_count": 55,
   "metadata": {},
   "outputs": [],
   "source": [
    "x_train_ng1_cv = vectorizer_ngram1.fit_transform(alltxts)\n",
    "\n",
    "#Naïve Bayes\n",
    "start_nb = time.time()\n",
    "mod_nb_cv = cross_val_score(mod_nb, x_train_ng1_cv, alllabs, cv=5, scoring='accuracy')\n",
    "end_nb = time.time()\n",
    "results_cv.loc['ngram=1', 'NB'] = mod_nb_cv.mean()\n",
    "results_cv.loc['ngram=1', 'Temps_NB'] = end_nb - start_nb\n",
    "\n",
    "#Logistic Regression\n",
    "start_lr = time.time()\n",
    "mod_lr_cv = cross_val_score(mod_lr, x_train_ng1_cv, alllabs, cv=5, scoring='accuracy')\n",
    "end_lr = time.time()\n",
    "results_cv.loc['ngram=1', 'LR'] = mod_lr_cv.mean()\n",
    "results_cv.loc['ngram=1', 'Temps_LR'] = end_lr - start_lr\n",
    "\n",
    "#Linear SVM\n",
    "start_svm = time.time()\n",
    "mod_svm_cv = cross_val_score(mod_svm, x_train_ng1_cv, alllabs, cv=5, scoring='accuracy')\n",
    "end_svm = time.time()\n",
    "results_cv.loc['ngram=1', 'SVM'] = mod_svm_cv.mean()\n",
    "results_cv.loc['ngram=1', 'Temps_SVM'] = end_svm - start_svm"
   ]
  },
  {
   "cell_type": "code",
   "execution_count": 56,
   "metadata": {},
   "outputs": [],
   "source": [
    "vectorizer_ngram2 = CountVectorizer(ngram_range=(1,2))\n",
    "\n",
    "x_train_ng2_split = vectorizer_ngram2.fit_transform(x_fit) \n",
    "x_test_ng2_split = vectorizer_ngram2.transform(x_boost)\n",
    "\n",
    "#Naïve Bayes\n",
    "start_nb = time.time()\n",
    "mod_nb = MultinomialNB()\n",
    "mod_nb.fit(x_train_ng2_split, y_fit)\n",
    "end_nb = time.time()\n",
    "results_split.loc['ngram=2', 'NB'] = mod_nb.score(x_test_ng2_split, y_boost)\n",
    "results_split.loc['ngram=2', 'Temps_NB'] = end_nb - start_nb\n",
    "\n",
    "#Logistic Regression\n",
    "start_lr = time.time()\n",
    "mod_lr = LogisticRegression(random_state=0, C=1e-3)\n",
    "mod_lr.fit(x_train_ng2_split, y_fit)\n",
    "end_lr = time.time()\n",
    "results_split.loc['ngram=2', 'LR'] = mod_lr.score(x_test_ng2_split, y_boost)\n",
    "results_split.loc['ngram=2', 'Temps_LR'] = end_lr - start_lr\n",
    "\n",
    "#Linear SVM\n",
    "start_svm = time.time()\n",
    "mod_svm = LinearSVC(random_state=0, tol=1e-5, C=1e-3)\n",
    "mod_svm.fit(x_train_ng2_split, y_fit)\n",
    "end_svm = time.time()\n",
    "results_split.loc['ngram=2', 'SVM'] = mod_svm.score(x_test_ng2_split, y_boost)\n",
    "results_split.loc['ngram=2', 'Temps_SVM'] = end_svm - start_svm"
   ]
  },
  {
   "cell_type": "code",
   "execution_count": 57,
   "metadata": {},
   "outputs": [],
   "source": [
    "x_train_ng2_cv = vectorizer_ngram2.fit_transform(alltxts)\n",
    "\n",
    "#Naïve Bayes\n",
    "start_nb = time.time()\n",
    "mod_nb_cv = cross_val_score(mod_nb, x_train_ng2_cv, alllabs, cv=5, scoring='accuracy')\n",
    "end_nb = time.time()\n",
    "results_cv.loc['ngram=2', 'NB'] = mod_nb_cv.mean()\n",
    "results_cv.loc['ngram=2', 'Temps_NB'] = end_nb - start_nb\n",
    "\n",
    "#Logistic Regression\n",
    "start_lr = time.time()\n",
    "mod_lr_cv = cross_val_score(mod_lr, x_train_ng2_cv, alllabs, cv=5, scoring='accuracy')\n",
    "end_lr = time.time()\n",
    "results_cv.loc['ngram=2', 'LR'] = mod_lr_cv.mean()\n",
    "results_cv.loc['ngram=2', 'Temps_LR'] = end_lr - start_lr\n",
    "\n",
    "#Linear SVM\n",
    "start_svm = time.time()\n",
    "mod_svm_cv = cross_val_score(mod_svm, x_train_ng2_cv, alllabs, cv=5, scoring='accuracy')\n",
    "end_svm = time.time()\n",
    "results_cv.loc['ngram=2', 'SVM'] = mod_svm_cv.mean()\n",
    "results_cv.loc['ngram=2', 'Temps_SVM'] = end_svm - start_svm"
   ]
  },
  {
   "cell_type": "code",
   "execution_count": 58,
   "metadata": {},
   "outputs": [],
   "source": [
    "vectorizer_ngram3 = CountVectorizer(ngram_range=(1,3))\n",
    "\n",
    "x_train_ng3_split = vectorizer_ngram3.fit_transform(x_fit) \n",
    "x_test_ng3_split = vectorizer_ngram3.transform(x_boost)\n",
    "\n",
    "#Naïve Bayes\n",
    "start_nb = time.time()\n",
    "mod_nb = MultinomialNB()\n",
    "mod_nb.fit(x_train_ng3_split, y_fit)\n",
    "end_nb = time.time()\n",
    "results_split.loc['ngram=3', 'NB'] = mod_nb.score(x_test_ng3_split, y_boost)\n",
    "results_split.loc['ngram=3', 'Temps_NB'] = end_nb - start_nb\n",
    "\n",
    "#Logistic Regression\n",
    "start_lr = time.time()\n",
    "mod_lr = LogisticRegression(random_state=0, C=1e-3)\n",
    "mod_lr.fit(x_train_ng3_split, y_fit)\n",
    "end_lr = time.time()\n",
    "results_split.loc['ngram=3', 'LR'] = mod_lr.score(x_test_ng3_split, y_boost)\n",
    "results_split.loc['ngram=3', 'Temps_LR'] = end_lr - start_lr\n",
    "\n",
    "#Linear SVM\n",
    "start_svm = time.time()\n",
    "mod_svm = LinearSVC(random_state=0, tol=1e-5, C=1e-3)\n",
    "mod_svm.fit(x_train_ng3_split, y_fit)\n",
    "end_svm = time.time()\n",
    "results_split.loc['ngram=3', 'SVM'] = mod_svm.score(x_test_ng3_split, y_boost)\n",
    "results_split.loc['ngram=3', 'Temps_SVM'] = end_svm - start_svm"
   ]
  },
  {
   "cell_type": "code",
   "execution_count": 59,
   "metadata": {},
   "outputs": [],
   "source": [
    "x_train_ng3_cv = vectorizer_ngram3.fit_transform(alltxts)\n",
    "\n",
    "#Naïve Bayes\n",
    "start_nb = time.time()\n",
    "mod_nb_cv = cross_val_score(mod_nb, x_train_ng3_cv, alllabs, cv=5, scoring='accuracy')\n",
    "end_nb = time.time()\n",
    "results_cv.loc['ngram=3', 'NB'] = mod_nb_cv.mean()\n",
    "results_cv.loc['ngram=3', 'Temps_NB'] = end_nb - start_nb\n",
    "\n",
    "#Logistic Regression\n",
    "start_lr = time.time()\n",
    "mod_lr_cv = cross_val_score(mod_lr, x_train_ng3_cv, alllabs, cv=5, scoring='accuracy')\n",
    "end_lr = time.time()\n",
    "results_cv.loc['ngram=3', 'LR'] = mod_lr_cv.mean()\n",
    "results_cv.loc['ngram=3', 'Temps_LR'] = end_lr - start_lr\n",
    "\n",
    "#Linear SVM\n",
    "start_svm = time.time()\n",
    "mod_svm_cv = cross_val_score(mod_svm, x_train_ng3_cv, alllabs, cv=5, scoring='accuracy')\n",
    "end_svm = time.time()\n",
    "results_cv.loc['ngram=3', 'SVM'] = mod_svm_cv.mean()\n",
    "results_cv.loc['ngram=3', 'Temps_SVM'] = end_svm - start_svm"
   ]
  },
  {
   "cell_type": "code",
   "execution_count": 60,
   "metadata": {},
   "outputs": [
    {
     "data": {
      "text/html": [
       "<div>\n",
       "<style scoped>\n",
       "    .dataframe tbody tr th:only-of-type {\n",
       "        vertical-align: middle;\n",
       "    }\n",
       "\n",
       "    .dataframe tbody tr th {\n",
       "        vertical-align: top;\n",
       "    }\n",
       "\n",
       "    .dataframe thead th {\n",
       "        text-align: right;\n",
       "    }\n",
       "</style>\n",
       "<table border=\"1\" class=\"dataframe\">\n",
       "  <thead>\n",
       "    <tr style=\"text-align: right;\">\n",
       "      <th></th>\n",
       "      <th>NB</th>\n",
       "      <th>Temps_NB</th>\n",
       "      <th>LR</th>\n",
       "      <th>Temps_LR</th>\n",
       "      <th>SVM</th>\n",
       "      <th>Temps_SVM</th>\n",
       "    </tr>\n",
       "  </thead>\n",
       "  <tbody>\n",
       "    <tr>\n",
       "      <th>PP classic</th>\n",
       "      <td>0.818182</td>\n",
       "      <td>0.002841</td>\n",
       "      <td>0.783333</td>\n",
       "      <td>0.233566</td>\n",
       "      <td>0.836364</td>\n",
       "      <td>0.100051</td>\n",
       "    </tr>\n",
       "    <tr>\n",
       "      <th>ngram=1</th>\n",
       "      <td>0.818182</td>\n",
       "      <td>0.002401</td>\n",
       "      <td>0.783333</td>\n",
       "      <td>0.337307</td>\n",
       "      <td>0.836364</td>\n",
       "      <td>0.092662</td>\n",
       "    </tr>\n",
       "    <tr>\n",
       "      <th>ngram=2</th>\n",
       "      <td>0.854545</td>\n",
       "      <td>0.014766</td>\n",
       "      <td>0.786364</td>\n",
       "      <td>3.377356</td>\n",
       "      <td>0.845455</td>\n",
       "      <td>0.568309</td>\n",
       "    </tr>\n",
       "    <tr>\n",
       "      <th>ngram=3</th>\n",
       "      <td>0.842424</td>\n",
       "      <td>0.044962</td>\n",
       "      <td>0.790909</td>\n",
       "      <td>11.914425</td>\n",
       "      <td>0.84697</td>\n",
       "      <td>0.677677</td>\n",
       "    </tr>\n",
       "    <tr>\n",
       "      <th>stopwords</th>\n",
       "      <td>NaN</td>\n",
       "      <td>NaN</td>\n",
       "      <td>NaN</td>\n",
       "      <td>NaN</td>\n",
       "      <td>NaN</td>\n",
       "      <td>NaN</td>\n",
       "    </tr>\n",
       "    <tr>\n",
       "      <th>max_features</th>\n",
       "      <td>NaN</td>\n",
       "      <td>NaN</td>\n",
       "      <td>NaN</td>\n",
       "      <td>NaN</td>\n",
       "      <td>NaN</td>\n",
       "      <td>NaN</td>\n",
       "    </tr>\n",
       "    <tr>\n",
       "      <th>max_def</th>\n",
       "      <td>NaN</td>\n",
       "      <td>NaN</td>\n",
       "      <td>NaN</td>\n",
       "      <td>NaN</td>\n",
       "      <td>NaN</td>\n",
       "      <td>NaN</td>\n",
       "    </tr>\n",
       "    <tr>\n",
       "      <th>boost</th>\n",
       "      <td>NaN</td>\n",
       "      <td>NaN</td>\n",
       "      <td>NaN</td>\n",
       "      <td>NaN</td>\n",
       "      <td>NaN</td>\n",
       "      <td>NaN</td>\n",
       "    </tr>\n",
       "  </tbody>\n",
       "</table>\n",
       "</div>"
      ],
      "text/plain": [
       "                    NB  Temps_NB        LR   Temps_LR       SVM Temps_SVM\n",
       "PP classic    0.818182  0.002841  0.783333   0.233566  0.836364  0.100051\n",
       "ngram=1       0.818182  0.002401  0.783333   0.337307  0.836364  0.092662\n",
       "ngram=2       0.854545  0.014766  0.786364   3.377356  0.845455  0.568309\n",
       "ngram=3       0.842424  0.044962  0.790909  11.914425   0.84697  0.677677\n",
       "stopwords          NaN       NaN       NaN        NaN       NaN       NaN\n",
       "max_features       NaN       NaN       NaN        NaN       NaN       NaN\n",
       "max_def            NaN       NaN       NaN        NaN       NaN       NaN\n",
       "boost              NaN       NaN       NaN        NaN       NaN       NaN"
      ]
     },
     "execution_count": 60,
     "metadata": {},
     "output_type": "execute_result"
    }
   ],
   "source": [
    "results_split"
   ]
  },
  {
   "cell_type": "code",
   "execution_count": 61,
   "metadata": {},
   "outputs": [
    {
     "data": {
      "text/html": [
       "<div>\n",
       "<style scoped>\n",
       "    .dataframe tbody tr th:only-of-type {\n",
       "        vertical-align: middle;\n",
       "    }\n",
       "\n",
       "    .dataframe tbody tr th {\n",
       "        vertical-align: top;\n",
       "    }\n",
       "\n",
       "    .dataframe thead th {\n",
       "        text-align: right;\n",
       "    }\n",
       "</style>\n",
       "<table border=\"1\" class=\"dataframe\">\n",
       "  <thead>\n",
       "    <tr style=\"text-align: right;\">\n",
       "      <th></th>\n",
       "      <th>NB</th>\n",
       "      <th>Temps_NB</th>\n",
       "      <th>LR</th>\n",
       "      <th>Temps_LR</th>\n",
       "      <th>SVM</th>\n",
       "      <th>Temps_SVM</th>\n",
       "    </tr>\n",
       "  </thead>\n",
       "  <tbody>\n",
       "    <tr>\n",
       "      <th>PP classic</th>\n",
       "      <td>0.8175</td>\n",
       "      <td>0.037322</td>\n",
       "      <td>0.7945</td>\n",
       "      <td>1.704964</td>\n",
       "      <td>0.8435</td>\n",
       "      <td>0.800652</td>\n",
       "    </tr>\n",
       "    <tr>\n",
       "      <th>ngram=1</th>\n",
       "      <td>0.8175</td>\n",
       "      <td>0.028447</td>\n",
       "      <td>0.7945</td>\n",
       "      <td>1.712557</td>\n",
       "      <td>0.8435</td>\n",
       "      <td>0.800673</td>\n",
       "    </tr>\n",
       "    <tr>\n",
       "      <th>ngram=2</th>\n",
       "      <td>0.8405</td>\n",
       "      <td>0.16955</td>\n",
       "      <td>0.8045</td>\n",
       "      <td>16.222576</td>\n",
       "      <td>0.847</td>\n",
       "      <td>6.507605</td>\n",
       "    </tr>\n",
       "    <tr>\n",
       "      <th>ngram=3</th>\n",
       "      <td>0.8405</td>\n",
       "      <td>0.474848</td>\n",
       "      <td>0.8015</td>\n",
       "      <td>65.872433</td>\n",
       "      <td>0.8445</td>\n",
       "      <td>12.678626</td>\n",
       "    </tr>\n",
       "    <tr>\n",
       "      <th>stopwords</th>\n",
       "      <td>NaN</td>\n",
       "      <td>NaN</td>\n",
       "      <td>NaN</td>\n",
       "      <td>NaN</td>\n",
       "      <td>NaN</td>\n",
       "      <td>NaN</td>\n",
       "    </tr>\n",
       "    <tr>\n",
       "      <th>max_features</th>\n",
       "      <td>NaN</td>\n",
       "      <td>NaN</td>\n",
       "      <td>NaN</td>\n",
       "      <td>NaN</td>\n",
       "      <td>NaN</td>\n",
       "      <td>NaN</td>\n",
       "    </tr>\n",
       "    <tr>\n",
       "      <th>max_def</th>\n",
       "      <td>NaN</td>\n",
       "      <td>NaN</td>\n",
       "      <td>NaN</td>\n",
       "      <td>NaN</td>\n",
       "      <td>NaN</td>\n",
       "      <td>NaN</td>\n",
       "    </tr>\n",
       "    <tr>\n",
       "      <th>boost</th>\n",
       "      <td>NaN</td>\n",
       "      <td>NaN</td>\n",
       "      <td>NaN</td>\n",
       "      <td>NaN</td>\n",
       "      <td>NaN</td>\n",
       "      <td>NaN</td>\n",
       "    </tr>\n",
       "  </tbody>\n",
       "</table>\n",
       "</div>"
      ],
      "text/plain": [
       "                  NB  Temps_NB      LR   Temps_LR     SVM  Temps_SVM\n",
       "PP classic    0.8175  0.037322  0.7945   1.704964  0.8435   0.800652\n",
       "ngram=1       0.8175  0.028447  0.7945   1.712557  0.8435   0.800673\n",
       "ngram=2       0.8405   0.16955  0.8045  16.222576   0.847   6.507605\n",
       "ngram=3       0.8405  0.474848  0.8015  65.872433  0.8445  12.678626\n",
       "stopwords        NaN       NaN     NaN        NaN     NaN        NaN\n",
       "max_features     NaN       NaN     NaN        NaN     NaN        NaN\n",
       "max_def          NaN       NaN     NaN        NaN     NaN        NaN\n",
       "boost            NaN       NaN     NaN        NaN     NaN        NaN"
      ]
     },
     "execution_count": 61,
     "metadata": {},
     "output_type": "execute_result"
    }
   ],
   "source": [
    "results_cv"
   ]
  },
  {
   "cell_type": "markdown",
   "metadata": {},
   "source": [
    "## Première campagne d'expériences\n",
    "\n",
    "Les techniques sur lesquelles nous travaillons étant sujettes au sur-apprentissage: trouver le paramètre de régularisation dans la documentation et optimiser ce paramètre au sens de la métrique qui vous semble la plus appropriée (cf question précédente)."
   ]
  },
  {
   "cell_type": "markdown",
   "metadata": {},
   "source": [
    "## Amélioration du modèle\n",
    "\n",
    "### Stopwords\n",
    "\n",
    "Afin d'améliorer le précédent modèle, nous allons essayer d'enlever les stopwords, c'est-à-dire les mots très fréquents comme \"the\", \"or\" etc... qui peuvent s'avérer inutiles à la classification voire qui peuvent fausser les résultats. Mais ces mots peuvent au contraire être nécessaire. C'est ce que nous allons désormais tester.\n",
    "\n",
    "Concernant les accents, il semble qu'ils n'aient pas une grande importance dans l'apprentissage. Nous avons décidé de ne pas faire de test là-dessus."
   ]
  },
  {
   "cell_type": "code",
   "execution_count": 62,
   "metadata": {},
   "outputs": [],
   "source": [
    "wc = Counter()\n",
    "for text in x_fit:\n",
    "    wc.update(text.split(\" \"))\n",
    "    \n",
    "stopwords = [w for w,f in wc.most_common(500)]\n",
    "\n",
    "liste_sw = []\n",
    "perf_nb_sw = []\n",
    "perf_lr_sw = []\n",
    "perf_svm_sw = []"
   ]
  },
  {
   "cell_type": "code",
   "execution_count": 63,
   "metadata": {},
   "outputs": [],
   "source": [
    "for sw in range(0,550,50):\n",
    "    liste_sw.append(sw)\n",
    "    stopwords_sw = stopwords[0:sw]\n",
    "\n",
    "    vectorizer = CountVectorizer(stop_words=stopwords_sw, ngram_range=(1,3), analyzer='word')\n",
    "    x_train_sw = vectorizer.fit_transform(x_fit) \n",
    "    x_test_sw = vectorizer.transform(x_boost)\n",
    "\n",
    "    #Naïve Bayes\n",
    "    mod_nb = MultinomialNB()\n",
    "    mod_nb.fit(x_train_sw, y_fit)\n",
    "    perf_nb_sw.append(mod_nb.score(x_test_sw, y_boost))\n",
    "\n",
    "    #Logistic Regression\n",
    "    mod_lr = LogisticRegression(random_state=0, C=1e-3)\n",
    "    mod_lr.fit(x_train_sw, y_fit)\n",
    "    perf_lr_sw.append(mod_lr.score(x_test_sw, y_boost))\n",
    "\n",
    "    #Linear SVM\n",
    "    mod_svm = LinearSVC(random_state=0, tol=1e-5, C=1e-3)\n",
    "    mod_svm.fit(x_train_sw, y_fit)\n",
    "    perf_svm_sw.append(mod_svm.score(x_test_sw, y_boost))"
   ]
  },
  {
   "cell_type": "code",
   "execution_count": 64,
   "metadata": {},
   "outputs": [
    {
     "data": {
      "image/png": "[encoded data removed]",
      "text/plain": [
       "<Figure size 640x480 with 1 Axes>"
      ]
     },
     "metadata": {},
     "output_type": "display_data"
    }
   ],
   "source": [
    "plt.plot(liste_sw, perf_nb_sw, 'r',)\n",
    "plt.plot(liste_sw, perf_lr_sw, 'b')\n",
    "plt.plot(liste_sw, perf_svm_sw, 'g')\n",
    "plt.show()"
   ]
  },
  {
   "cell_type": "markdown",
   "metadata": {},
   "source": [
    "## Max_features\n",
    "\n",
    "Cependant, une autre technique pour enlever des mots est le contrôle du paramètre max_features. Si max_features est défini sur None, l'ensemble du corpus est pris en compte lors de la transformation TF-IDF. En ajoutant une valeur à max_features, alors le nombre de mots dans le vocabulaire sera limité à cette valeur. Ainsi, pour d documents et 100 mots, si on met un max_feature à 80, alors la sparse matrix aura comme dimension 3x80 au lieu de 3x100."
   ]
  },
  {
   "cell_type": "code",
   "execution_count": 65,
   "metadata": {},
   "outputs": [],
   "source": [
    "liste_feat = []\n",
    "perf_nb_feat = []\n",
    "perf_lr_feat = []\n",
    "perf_svm_feat = []\n",
    "\n",
    "for feat in range(100,60000,500):\n",
    "    liste_feat.append(feat)\n",
    "\n",
    "    vectorizer = CountVectorizer(ngram_range=(1,3), max_features=feat)\n",
    "    x_train_feat = vectorizer.fit_transform(x_fit) \n",
    "    x_test_feat = vectorizer.transform(x_boost)\n",
    "\n",
    "    #Naïve Bayes\n",
    "    mod_nb = MultinomialNB()\n",
    "    mod_nb.fit(x_train_feat, y_fit)\n",
    "    perf_nb_feat.append(mod_nb.score(x_test_feat, y_boost))\n",
    "\n",
    "    #Logistic Regression\n",
    "    mod_lr = LogisticRegression(random_state=0, C=1e-3)\n",
    "    mod_lr.fit(x_train_feat, y_fit)\n",
    "    perf_lr_feat.append(mod_lr.score(x_test_feat, y_boost))\n",
    "\n",
    "    #Linear SVM\n",
    "    mod_svm = LinearSVC(random_state=0, tol=1e-5, C=1e-3)\n",
    "    mod_svm.fit(x_train_feat, y_fit)\n",
    "    perf_svm_feat.append(mod_svm.score(x_test_feat, y_boost))"
   ]
  },
  {
   "cell_type": "code",
   "execution_count": 66,
   "metadata": {},
   "outputs": [
    {
     "data": {
      "image/png": "[encoded data removed]",
      "text/plain": [
       "<Figure size 640x480 with 1 Axes>"
      ]
     },
     "metadata": {},
     "output_type": "display_data"
    }
   ],
   "source": [
    "plt.plot(liste_feat, perf_nb_feat, 'r')\n",
    "plt.plot(liste_feat, perf_lr_feat, 'b')\n",
    "plt.plot(liste_feat, perf_svm_feat, 'g')\n",
    "plt.show()"
   ]
  },
  {
   "cell_type": "markdown",
   "metadata": {},
   "source": [
    "### Max_def\n",
    "\n",
    "Les stopwords sont les mots qui apparaissent très fréquemment dans l'ensemble du corpus. On peut également éliminer, grâce à la variable max_df, les mots qui apparaissent dans beaucoup de documents différents. Un mot peut ne pas être très fréquent dans l'ensemble mais apparaître dans chaque document et ainsi ne pas être utile à la classification."
   ]
  },
  {
   "cell_type": "code",
   "execution_count": 67,
   "metadata": {},
   "outputs": [],
   "source": [
    "liste_df = []\n",
    "perf_nb_df = []\n",
    "perf_lr_df = []\n",
    "perf_svm_df = []\n",
    "\n",
    "for df in range(1,10000,1000):\n",
    "    liste_df.append(df)\n",
    "\n",
    "    vectorizer = CountVectorizer(ngram_range=(1,3), max_df=df)\n",
    "    x_train_df = vectorizer.fit_transform(x_fit) \n",
    "    x_test_df = vectorizer.transform(x_boost)\n",
    "\n",
    "    #Naïve Bayes\n",
    "    mod_nb = MultinomialNB()\n",
    "    mod_nb.fit(x_train_df, y_fit)\n",
    "    perf_nb_df.append(mod_nb.score(x_test_df, y_boost))\n",
    "\n",
    "    #Logistic Regression\n",
    "    mod_lr = LogisticRegression(random_state=0, C=1e-3)\n",
    "    mod_lr.fit(x_train_df, y_fit)\n",
    "    perf_lr_df.append(mod_lr.score(x_test_df, y_boost))\n",
    "\n",
    "    #Linear SVM\n",
    "    mod_svm = LinearSVC(random_state=0, tol=1e-5, C=1e-3)\n",
    "    mod_svm.fit(x_train_df, y_fit)\n",
    "    perf_svm_df.append(mod_svm.score(x_test_df, y_boost))"
   ]
  },
  {
   "cell_type": "code",
   "execution_count": 68,
   "metadata": {},
   "outputs": [
    {
     "data": {
      "image/png": "[encoded data removed]",
      "text/plain": [
       "<Figure size 640x480 with 1 Axes>"
      ]
     },
     "metadata": {},
     "output_type": "display_data"
    }
   ],
   "source": [
    "plt.plot(liste_df, perf_nb_df, 'r')\n",
    "plt.plot(liste_df, perf_lr_df, 'b')\n",
    "plt.plot(liste_df, perf_svm_df, 'g')\n",
    "plt.show()"
   ]
  },
  {
   "cell_type": "code",
   "execution_count": 69,
   "metadata": {},
   "outputs": [],
   "source": [
    "#Naïve Bayes\n",
    "\n",
    "vectorizer_nb_df = CountVectorizer(ngram_range=(1,3), min_df=1, max_df=liste_df[np.argmax(perf_nb_df)])\n",
    "\n",
    "x_train_nb_df = vectorizer_nb_df.fit_transform(x_fit) \n",
    "x_test_nb_df = vectorizer_nb_df.transform(x_boost)\n",
    "\n",
    "start_nb = time.time()\n",
    "mod_nb = MultinomialNB()\n",
    "mod_nb.fit(x_train_nb_df, y_fit)\n",
    "end_nb = time.time()\n",
    "results_split.loc['max_def', 'NB'] = mod_nb.score(x_test_nb_df, y_boost)\n",
    "results_split.loc['max_def', 'Temps_NB'] = end_nb - start_nb\n",
    "\n",
    "x_nb_df_cv = vectorizer_nb_df.fit_transform(alltxts)\n",
    "start_nb = time.time()\n",
    "mod_nb_cv = cross_val_score(mod_nb, x_nb_df_cv, alllabs, cv=5, scoring='accuracy')\n",
    "end_nb = time.time()\n",
    "results_cv.loc['max_def', 'NB'] = mod_nb_cv.mean()\n",
    "results_cv.loc['max_def', 'Temps_NB'] = end_nb - start_nb\n",
    "\n",
    "#Logistic Regression\n",
    "\n",
    "vectorizer_lr_df = CountVectorizer(ngram_range=(1,3), min_df=1, max_df=liste_df[np.argmax(perf_lr_df)])\n",
    "\n",
    "x_train_lr_df = vectorizer_lr_df.fit_transform(x_fit) \n",
    "x_test_lr_df = vectorizer_lr_df.transform(x_boost)\n",
    "\n",
    "start_lr = time.time()\n",
    "mod_lr = LogisticRegression(random_state=0, C=1e-3)\n",
    "mod_lr.fit(x_train_lr_df, y_fit)\n",
    "end_lr = time.time()\n",
    "results_split.loc['max_def', 'LR'] = mod_lr.score(x_test_lr_df, y_boost)\n",
    "results_split.loc['max_def', 'Temps_LR'] = end_lr - start_lr\n",
    "\n",
    "x_lr_df_cv = vectorizer_lr_df.fit_transform(alltxts)\n",
    "start_lr = time.time()\n",
    "mod_lr_cv = cross_val_score(mod_lr, x_lr_df_cv, alllabs, cv=5, scoring='accuracy')\n",
    "end_lr = time.time()\n",
    "results_cv.loc['max_def', 'LR'] = mod_lr_cv.mean()\n",
    "results_cv.loc['max_def', 'Temps_LR'] = end_nb - start_nb\n",
    "\n",
    "#Linear SVM\n",
    "\n",
    "vectorizer_svm_df = CountVectorizer(ngram_range=(1,3), min_df=1, max_df=liste_df[np.argmax(perf_svm_df)])\n",
    "\n",
    "x_train_svm_df = vectorizer_svm_df.fit_transform(x_fit) \n",
    "x_test_svm_df = vectorizer_svm_df.transform(x_boost)\n",
    "\n",
    "start_svm = time.time()\n",
    "mod_svm = LinearSVC(random_state=0, tol=1e-5, C=1e-3)\n",
    "mod_svm.fit(x_train_svm_df, y_fit)\n",
    "end_svm = time.time()\n",
    "results_split.loc['max_def', 'SVM'] = mod_svm.score(x_test_svm_df, y_boost)\n",
    "results_split.loc['max_def', 'Temps_SVM'] = end_svm - start_svm\n",
    "\n",
    "x_svm_df_cv = vectorizer_svm_df.fit_transform(alltxts)\n",
    "start_svm = time.time()\n",
    "mod_svm_cv = cross_val_score(mod_svm, x_svm_df_cv, alllabs, cv=5, scoring='accuracy')\n",
    "end_svm = time.time()\n",
    "results_cv.loc['max_def', 'SVM'] = mod_svm_cv.mean()\n",
    "results_cv.loc['max_def', 'Temps_SVM'] = end_svm - start_svm"
   ]
  },
  {
   "cell_type": "code",
   "execution_count": 70,
   "metadata": {},
   "outputs": [
    {
     "data": {
      "text/html": [
       "<div>\n",
       "<style scoped>\n",
       "    .dataframe tbody tr th:only-of-type {\n",
       "        vertical-align: middle;\n",
       "    }\n",
       "\n",
       "    .dataframe tbody tr th {\n",
       "        vertical-align: top;\n",
       "    }\n",
       "\n",
       "    .dataframe thead th {\n",
       "        text-align: right;\n",
       "    }\n",
       "</style>\n",
       "<table border=\"1\" class=\"dataframe\">\n",
       "  <thead>\n",
       "    <tr style=\"text-align: right;\">\n",
       "      <th></th>\n",
       "      <th>NB</th>\n",
       "      <th>Temps_NB</th>\n",
       "      <th>LR</th>\n",
       "      <th>Temps_LR</th>\n",
       "      <th>SVM</th>\n",
       "      <th>Temps_SVM</th>\n",
       "    </tr>\n",
       "  </thead>\n",
       "  <tbody>\n",
       "    <tr>\n",
       "      <th>PP classic</th>\n",
       "      <td>0.818182</td>\n",
       "      <td>0.002841</td>\n",
       "      <td>0.783333</td>\n",
       "      <td>0.233566</td>\n",
       "      <td>0.836364</td>\n",
       "      <td>0.100051</td>\n",
       "    </tr>\n",
       "    <tr>\n",
       "      <th>ngram=1</th>\n",
       "      <td>0.818182</td>\n",
       "      <td>0.002401</td>\n",
       "      <td>0.783333</td>\n",
       "      <td>0.337307</td>\n",
       "      <td>0.836364</td>\n",
       "      <td>0.092662</td>\n",
       "    </tr>\n",
       "    <tr>\n",
       "      <th>ngram=2</th>\n",
       "      <td>0.854545</td>\n",
       "      <td>0.014766</td>\n",
       "      <td>0.786364</td>\n",
       "      <td>3.377356</td>\n",
       "      <td>0.845455</td>\n",
       "      <td>0.568309</td>\n",
       "    </tr>\n",
       "    <tr>\n",
       "      <th>ngram=3</th>\n",
       "      <td>0.842424</td>\n",
       "      <td>0.044962</td>\n",
       "      <td>0.790909</td>\n",
       "      <td>11.914425</td>\n",
       "      <td>0.84697</td>\n",
       "      <td>0.677677</td>\n",
       "    </tr>\n",
       "    <tr>\n",
       "      <th>stopwords</th>\n",
       "      <td>NaN</td>\n",
       "      <td>NaN</td>\n",
       "      <td>NaN</td>\n",
       "      <td>NaN</td>\n",
       "      <td>NaN</td>\n",
       "      <td>NaN</td>\n",
       "    </tr>\n",
       "    <tr>\n",
       "      <th>max_features</th>\n",
       "      <td>NaN</td>\n",
       "      <td>NaN</td>\n",
       "      <td>NaN</td>\n",
       "      <td>NaN</td>\n",
       "      <td>NaN</td>\n",
       "      <td>NaN</td>\n",
       "    </tr>\n",
       "    <tr>\n",
       "      <th>max_def</th>\n",
       "      <td>0.85303</td>\n",
       "      <td>0.043894</td>\n",
       "      <td>0.821212</td>\n",
       "      <td>4.335758</td>\n",
       "      <td>0.857576</td>\n",
       "      <td>0.479797</td>\n",
       "    </tr>\n",
       "    <tr>\n",
       "      <th>boost</th>\n",
       "      <td>NaN</td>\n",
       "      <td>NaN</td>\n",
       "      <td>NaN</td>\n",
       "      <td>NaN</td>\n",
       "      <td>NaN</td>\n",
       "      <td>NaN</td>\n",
       "    </tr>\n",
       "  </tbody>\n",
       "</table>\n",
       "</div>"
      ],
      "text/plain": [
       "                    NB  Temps_NB        LR   Temps_LR       SVM Temps_SVM\n",
       "PP classic    0.818182  0.002841  0.783333   0.233566  0.836364  0.100051\n",
       "ngram=1       0.818182  0.002401  0.783333   0.337307  0.836364  0.092662\n",
       "ngram=2       0.854545  0.014766  0.786364   3.377356  0.845455  0.568309\n",
       "ngram=3       0.842424  0.044962  0.790909  11.914425   0.84697  0.677677\n",
       "stopwords          NaN       NaN       NaN        NaN       NaN       NaN\n",
       "max_features       NaN       NaN       NaN        NaN       NaN       NaN\n",
       "max_def        0.85303  0.043894  0.821212   4.335758  0.857576  0.479797\n",
       "boost              NaN       NaN       NaN        NaN       NaN       NaN"
      ]
     },
     "execution_count": 70,
     "metadata": {},
     "output_type": "execute_result"
    }
   ],
   "source": [
    "results_split"
   ]
  },
  {
   "cell_type": "code",
   "execution_count": 71,
   "metadata": {},
   "outputs": [
    {
     "data": {
      "text/html": [
       "<div>\n",
       "<style scoped>\n",
       "    .dataframe tbody tr th:only-of-type {\n",
       "        vertical-align: middle;\n",
       "    }\n",
       "\n",
       "    .dataframe tbody tr th {\n",
       "        vertical-align: top;\n",
       "    }\n",
       "\n",
       "    .dataframe thead th {\n",
       "        text-align: right;\n",
       "    }\n",
       "</style>\n",
       "<table border=\"1\" class=\"dataframe\">\n",
       "  <thead>\n",
       "    <tr style=\"text-align: right;\">\n",
       "      <th></th>\n",
       "      <th>NB</th>\n",
       "      <th>Temps_NB</th>\n",
       "      <th>LR</th>\n",
       "      <th>Temps_LR</th>\n",
       "      <th>SVM</th>\n",
       "      <th>Temps_SVM</th>\n",
       "    </tr>\n",
       "  </thead>\n",
       "  <tbody>\n",
       "    <tr>\n",
       "      <th>PP classic</th>\n",
       "      <td>0.8175</td>\n",
       "      <td>0.037322</td>\n",
       "      <td>0.7945</td>\n",
       "      <td>1.704964</td>\n",
       "      <td>0.8435</td>\n",
       "      <td>0.800652</td>\n",
       "    </tr>\n",
       "    <tr>\n",
       "      <th>ngram=1</th>\n",
       "      <td>0.8175</td>\n",
       "      <td>0.028447</td>\n",
       "      <td>0.7945</td>\n",
       "      <td>1.712557</td>\n",
       "      <td>0.8435</td>\n",
       "      <td>0.800673</td>\n",
       "    </tr>\n",
       "    <tr>\n",
       "      <th>ngram=2</th>\n",
       "      <td>0.8405</td>\n",
       "      <td>0.16955</td>\n",
       "      <td>0.8045</td>\n",
       "      <td>16.222576</td>\n",
       "      <td>0.847</td>\n",
       "      <td>6.507605</td>\n",
       "    </tr>\n",
       "    <tr>\n",
       "      <th>ngram=3</th>\n",
       "      <td>0.8405</td>\n",
       "      <td>0.474848</td>\n",
       "      <td>0.8015</td>\n",
       "      <td>65.872433</td>\n",
       "      <td>0.8445</td>\n",
       "      <td>12.678626</td>\n",
       "    </tr>\n",
       "    <tr>\n",
       "      <th>stopwords</th>\n",
       "      <td>NaN</td>\n",
       "      <td>NaN</td>\n",
       "      <td>NaN</td>\n",
       "      <td>NaN</td>\n",
       "      <td>NaN</td>\n",
       "      <td>NaN</td>\n",
       "    </tr>\n",
       "    <tr>\n",
       "      <th>max_features</th>\n",
       "      <td>NaN</td>\n",
       "      <td>NaN</td>\n",
       "      <td>NaN</td>\n",
       "      <td>NaN</td>\n",
       "      <td>NaN</td>\n",
       "      <td>NaN</td>\n",
       "    </tr>\n",
       "    <tr>\n",
       "      <th>max_def</th>\n",
       "      <td>0.8435</td>\n",
       "      <td>0.404528</td>\n",
       "      <td>0.839</td>\n",
       "      <td>0.404528</td>\n",
       "      <td>0.8575</td>\n",
       "      <td>3.972713</td>\n",
       "    </tr>\n",
       "    <tr>\n",
       "      <th>boost</th>\n",
       "      <td>NaN</td>\n",
       "      <td>NaN</td>\n",
       "      <td>NaN</td>\n",
       "      <td>NaN</td>\n",
       "      <td>NaN</td>\n",
       "      <td>NaN</td>\n",
       "    </tr>\n",
       "  </tbody>\n",
       "</table>\n",
       "</div>"
      ],
      "text/plain": [
       "                  NB  Temps_NB      LR   Temps_LR     SVM  Temps_SVM\n",
       "PP classic    0.8175  0.037322  0.7945   1.704964  0.8435   0.800652\n",
       "ngram=1       0.8175  0.028447  0.7945   1.712557  0.8435   0.800673\n",
       "ngram=2       0.8405   0.16955  0.8045  16.222576   0.847   6.507605\n",
       "ngram=3       0.8405  0.474848  0.8015  65.872433  0.8445  12.678626\n",
       "stopwords        NaN       NaN     NaN        NaN     NaN        NaN\n",
       "max_features     NaN       NaN     NaN        NaN     NaN        NaN\n",
       "max_def       0.8435  0.404528   0.839   0.404528  0.8575   3.972713\n",
       "boost            NaN       NaN     NaN        NaN     NaN        NaN"
      ]
     },
     "execution_count": 71,
     "metadata": {},
     "output_type": "execute_result"
    }
   ],
   "source": [
    "results_cv"
   ]
  },
  {
   "cell_type": "markdown",
   "metadata": {},
   "source": [
    "# V - Test du modèle sur les données test"
   ]
  },
  {
   "cell_type": "code",
   "execution_count": 72,
   "metadata": {},
   "outputs": [
    {
     "ename": "ValueError",
     "evalue": "Found input variables with inconsistent numbers of samples: [0, 25000]",
     "output_type": "error",
     "traceback": [
      "\u001b[0;31m---------------------------------------------------------------------------\u001b[0m",
      "\u001b[0;31mValueError\u001b[0m                                Traceback (most recent call last)",
      "\u001b[0;32m/tmp/ipykernel_4226/948339982.py\u001b[0m in \u001b[0;36m<module>\u001b[0;34m\u001b[0m\n\u001b[1;32m      9\u001b[0m \u001b[0mmod_nb\u001b[0m\u001b[0;34m.\u001b[0m\u001b[0mfit\u001b[0m\u001b[0;34m(\u001b[0m\u001b[0mx_train_nb\u001b[0m\u001b[0;34m,\u001b[0m \u001b[0my_fit\u001b[0m\u001b[0;34m)\u001b[0m\u001b[0;34m\u001b[0m\u001b[0;34m\u001b[0m\u001b[0m\n\u001b[1;32m     10\u001b[0m \u001b[0;34m\u001b[0m\u001b[0m\n\u001b[0;32m---> 11\u001b[0;31m \u001b[0mprint\u001b[0m\u001b[0;34m(\u001b[0m\u001b[0mmod_nb\u001b[0m\u001b[0;34m.\u001b[0m\u001b[0mscore\u001b[0m\u001b[0;34m(\u001b[0m\u001b[0mx_test_nb\u001b[0m\u001b[0;34m,\u001b[0m \u001b[0msentiment_labs\u001b[0m\u001b[0;34m)\u001b[0m\u001b[0;34m)\u001b[0m\u001b[0;34m\u001b[0m\u001b[0;34m\u001b[0m\u001b[0m\n\u001b[0m\u001b[1;32m     12\u001b[0m \u001b[0mpred_nb\u001b[0m \u001b[0;34m=\u001b[0m \u001b[0mmod_nb\u001b[0m\u001b[0;34m.\u001b[0m\u001b[0mpredict\u001b[0m\u001b[0;34m(\u001b[0m\u001b[0mx_test_nb\u001b[0m\u001b[0;34m)\u001b[0m\u001b[0;34m\u001b[0m\u001b[0;34m\u001b[0m\u001b[0m\n\u001b[1;32m     13\u001b[0m \u001b[0;34m\u001b[0m\u001b[0m\n",
      "\u001b[0;32m~/anaconda3/lib/python3.9/site-packages/sklearn/base.py\u001b[0m in \u001b[0;36mscore\u001b[0;34m(self, X, y, sample_weight)\u001b[0m\n\u001b[1;32m    649\u001b[0m         \u001b[0;32mfrom\u001b[0m \u001b[0;34m.\u001b[0m\u001b[0mmetrics\u001b[0m \u001b[0;32mimport\u001b[0m \u001b[0maccuracy_score\u001b[0m\u001b[0;34m\u001b[0m\u001b[0;34m\u001b[0m\u001b[0m\n\u001b[1;32m    650\u001b[0m \u001b[0;34m\u001b[0m\u001b[0m\n\u001b[0;32m--> 651\u001b[0;31m         \u001b[0;32mreturn\u001b[0m \u001b[0maccuracy_score\u001b[0m\u001b[0;34m(\u001b[0m\u001b[0my\u001b[0m\u001b[0;34m,\u001b[0m \u001b[0mself\u001b[0m\u001b[0;34m.\u001b[0m\u001b[0mpredict\u001b[0m\u001b[0;34m(\u001b[0m\u001b[0mX\u001b[0m\u001b[0;34m)\u001b[0m\u001b[0;34m,\u001b[0m \u001b[0msample_weight\u001b[0m\u001b[0;34m=\u001b[0m\u001b[0msample_weight\u001b[0m\u001b[0;34m)\u001b[0m\u001b[0;34m\u001b[0m\u001b[0;34m\u001b[0m\u001b[0m\n\u001b[0m\u001b[1;32m    652\u001b[0m \u001b[0;34m\u001b[0m\u001b[0m\n\u001b[1;32m    653\u001b[0m     \u001b[0;32mdef\u001b[0m \u001b[0m_more_tags\u001b[0m\u001b[0;34m(\u001b[0m\u001b[0mself\u001b[0m\u001b[0;34m)\u001b[0m\u001b[0;34m:\u001b[0m\u001b[0;34m\u001b[0m\u001b[0;34m\u001b[0m\u001b[0m\n",
      "\u001b[0;32m~/anaconda3/lib/python3.9/site-packages/sklearn/metrics/_classification.py\u001b[0m in \u001b[0;36maccuracy_score\u001b[0;34m(y_true, y_pred, normalize, sample_weight)\u001b[0m\n\u001b[1;32m    209\u001b[0m \u001b[0;34m\u001b[0m\u001b[0m\n\u001b[1;32m    210\u001b[0m     \u001b[0;31m# Compute accuracy for each possible representation\u001b[0m\u001b[0;34m\u001b[0m\u001b[0;34m\u001b[0m\u001b[0m\n\u001b[0;32m--> 211\u001b[0;31m     \u001b[0my_type\u001b[0m\u001b[0;34m,\u001b[0m \u001b[0my_true\u001b[0m\u001b[0;34m,\u001b[0m \u001b[0my_pred\u001b[0m \u001b[0;34m=\u001b[0m \u001b[0m_check_targets\u001b[0m\u001b[0;34m(\u001b[0m\u001b[0my_true\u001b[0m\u001b[0;34m,\u001b[0m \u001b[0my_pred\u001b[0m\u001b[0;34m)\u001b[0m\u001b[0;34m\u001b[0m\u001b[0;34m\u001b[0m\u001b[0m\n\u001b[0m\u001b[1;32m    212\u001b[0m     \u001b[0mcheck_consistent_length\u001b[0m\u001b[0;34m(\u001b[0m\u001b[0my_true\u001b[0m\u001b[0;34m,\u001b[0m \u001b[0my_pred\u001b[0m\u001b[0;34m,\u001b[0m \u001b[0msample_weight\u001b[0m\u001b[0;34m)\u001b[0m\u001b[0;34m\u001b[0m\u001b[0;34m\u001b[0m\u001b[0m\n\u001b[1;32m    213\u001b[0m     \u001b[0;32mif\u001b[0m \u001b[0my_type\u001b[0m\u001b[0;34m.\u001b[0m\u001b[0mstartswith\u001b[0m\u001b[0;34m(\u001b[0m\u001b[0;34m\"multilabel\"\u001b[0m\u001b[0;34m)\u001b[0m\u001b[0;34m:\u001b[0m\u001b[0;34m\u001b[0m\u001b[0;34m\u001b[0m\u001b[0m\n",
      "\u001b[0;32m~/anaconda3/lib/python3.9/site-packages/sklearn/metrics/_classification.py\u001b[0m in \u001b[0;36m_check_targets\u001b[0;34m(y_true, y_pred)\u001b[0m\n\u001b[1;32m     82\u001b[0m     \u001b[0my_pred\u001b[0m \u001b[0;34m:\u001b[0m \u001b[0marray\u001b[0m \u001b[0;32mor\u001b[0m \u001b[0mindicator\u001b[0m \u001b[0mmatrix\u001b[0m\u001b[0;34m\u001b[0m\u001b[0;34m\u001b[0m\u001b[0m\n\u001b[1;32m     83\u001b[0m     \"\"\"\n\u001b[0;32m---> 84\u001b[0;31m     \u001b[0mcheck_consistent_length\u001b[0m\u001b[0;34m(\u001b[0m\u001b[0my_true\u001b[0m\u001b[0;34m,\u001b[0m \u001b[0my_pred\u001b[0m\u001b[0;34m)\u001b[0m\u001b[0;34m\u001b[0m\u001b[0;34m\u001b[0m\u001b[0m\n\u001b[0m\u001b[1;32m     85\u001b[0m     \u001b[0mtype_true\u001b[0m \u001b[0;34m=\u001b[0m \u001b[0mtype_of_target\u001b[0m\u001b[0;34m(\u001b[0m\u001b[0my_true\u001b[0m\u001b[0;34m)\u001b[0m\u001b[0;34m\u001b[0m\u001b[0;34m\u001b[0m\u001b[0m\n\u001b[1;32m     86\u001b[0m     \u001b[0mtype_pred\u001b[0m \u001b[0;34m=\u001b[0m \u001b[0mtype_of_target\u001b[0m\u001b[0;34m(\u001b[0m\u001b[0my_pred\u001b[0m\u001b[0;34m)\u001b[0m\u001b[0;34m\u001b[0m\u001b[0;34m\u001b[0m\u001b[0m\n",
      "\u001b[0;32m~/anaconda3/lib/python3.9/site-packages/sklearn/utils/validation.py\u001b[0m in \u001b[0;36mcheck_consistent_length\u001b[0;34m(*arrays)\u001b[0m\n\u001b[1;32m    330\u001b[0m     \u001b[0muniques\u001b[0m \u001b[0;34m=\u001b[0m \u001b[0mnp\u001b[0m\u001b[0;34m.\u001b[0m\u001b[0munique\u001b[0m\u001b[0;34m(\u001b[0m\u001b[0mlengths\u001b[0m\u001b[0;34m)\u001b[0m\u001b[0;34m\u001b[0m\u001b[0;34m\u001b[0m\u001b[0m\n\u001b[1;32m    331\u001b[0m     \u001b[0;32mif\u001b[0m \u001b[0mlen\u001b[0m\u001b[0;34m(\u001b[0m\u001b[0muniques\u001b[0m\u001b[0;34m)\u001b[0m \u001b[0;34m>\u001b[0m \u001b[0;36m1\u001b[0m\u001b[0;34m:\u001b[0m\u001b[0;34m\u001b[0m\u001b[0;34m\u001b[0m\u001b[0m\n\u001b[0;32m--> 332\u001b[0;31m         raise ValueError(\n\u001b[0m\u001b[1;32m    333\u001b[0m             \u001b[0;34m\"Found input variables with inconsistent numbers of samples: %r\"\u001b[0m\u001b[0;34m\u001b[0m\u001b[0;34m\u001b[0m\u001b[0m\n\u001b[1;32m    334\u001b[0m             \u001b[0;34m%\u001b[0m \u001b[0;34m[\u001b[0m\u001b[0mint\u001b[0m\u001b[0;34m(\u001b[0m\u001b[0ml\u001b[0m\u001b[0;34m)\u001b[0m \u001b[0;32mfor\u001b[0m \u001b[0ml\u001b[0m \u001b[0;32min\u001b[0m \u001b[0mlengths\u001b[0m\u001b[0;34m]\u001b[0m\u001b[0;34m\u001b[0m\u001b[0;34m\u001b[0m\u001b[0m\n",
      "\u001b[0;31mValueError\u001b[0m: Found input variables with inconsistent numbers of samples: [0, 25000]"
     ]
    }
   ],
   "source": [
    "sentiment_labs=[]\n",
    "# Naive bayes\n",
    "\n",
    "vectorizer_nb_df.fit(x_fit)\n",
    "x_train_nb = vectorizer_nb_df.fit_transform(x_fit)\n",
    "x_test_nb = vectorizer_nb_df.transform(sentiment_txt)\n",
    "\n",
    "mod_nb = MultinomialNB()\n",
    "mod_nb.fit(x_train_nb, y_fit)\n",
    "\n",
    "print(mod_nb.score(x_test_nb, sentiment_labs))\n",
    "pred_nb = mod_nb.predict(x_test_nb)\n",
    "\n",
    "# Logistic Regression\n",
    "\n",
    "vectorizer_lr_df.fit(x_fit)\n",
    "x_train_lr = vectorizer_lr_df.fit_transform(x_fit)\n",
    "x_test_lr = vectorizer_lr_df.transform(sentiment_labs)\n",
    "\n",
    "mod_lr = LogisticRegression(random_state=0, C=1e-3)\n",
    "mod_lr.fit(x_train_lr, y_fit)\n",
    "\n",
    "print(mod_lr.score(x_test_lr, sentiment_labs))\n",
    "pred_lr = mod_lr.predict(x_test_lr)\n",
    "\n",
    "#SVM\n",
    "\n",
    "vectorizer_svm_df.fit(x_fit)\n",
    "x_train_svm = vectorizer_svm_df.fit_transform(x_fit)\n",
    "x_test_svm = vectorizer_svm_df.transform(sentiment_labs)\n",
    "\n",
    "mod_svm = LinearSVC(random_state=0, tol=1e-5, C=1e-3)\n",
    "mod_svm.fit(x_train_svm, y_fit)\n",
    "\n",
    "print(mod_svm.score(x_test_svm, sentiment_labs))\n",
    "pred_svm = mod_svm.predict(x_test_svm)"
   ]
  },
  {
   "cell_type": "code",
   "execution_count": null,
   "metadata": {},
   "outputs": [],
   "source": [
    "barwidth = 0.9\n",
    "\n",
    "plt.bar(x=[1], width=barwidth, height=sum(np.array(y_test)==1)/len(y_test), color='darkgreen', label='Real')\n",
    "plt.bar(x=[2], width=barwidth, height=sum(pred_nb==1)/len(pred_nb), color='forestgreen', label='NB')\n",
    "plt.bar(x=[3], width=barwidth, height=sum(pred_lr==1)/len(pred_nb), color='limegreen', label='LR')\n",
    "plt.bar(x=[4], width=barwidth, height=sum(pred_svm==1)/len(pred_nb), color='springgreen', label='SVM')\n",
    "\n",
    "plt.bar(x=[6], width=barwidth, height=sum(np.array(y_test)!=1)/len(y_test), color='darkgreen')\n",
    "plt.bar(x=[7], width=barwidth, height=sum(pred_nb!=1)/len(pred_nb), color='forestgreen')\n",
    "plt.bar(x=[8], width=barwidth, height=sum(pred_lr!=1)/len(pred_nb), color='limegreen')\n",
    "plt.bar(x=[9], width=barwidth, height=sum(pred_svm!=1)/len(pred_nb), color='springgreen')\n",
    "\n",
    "plt.xticks([r for r in [2.5, 7.5]], ['Prediction = 1', 'Prediction = -1'])\n",
    "\n",
    "plt.legend()"
   ]
  },
  {
   "cell_type": "code",
   "execution_count": null,
   "metadata": {},
   "outputs": [],
   "source": [
    "plt.figure(figsize=(20,10))\n",
    "plt.plot(results_split['NB'], 'b')\n",
    "plt.plot(results_split['LR'], 'r')\n",
    "plt.plot(results_split['SVM'], 'g')\n",
    "plt.legend(['NB', 'LR', 'SVM'])\n",
    "plt.title('Evolution de la performance (accuracy) avec le prétraitement selon les modèles')"
   ]
  }
 ],
 "metadata": {
  "kernelspec": {
   "display_name": "base",
   "language": "python",
   "name": "python3"
  },
  "language_info": {
   "codemirror_mode": {
    "name": "ipython",
    "version": 3
   },
   "file_extension": ".py",
   "mimetype": "text/x-python",
   "name": "python",
   "nbconvert_exporter": "python",
   "pygments_lexer": "ipython3",
   "version": "3.9.13"
  },
  "vscode": {
   "interpreter": {
    "hash": "67d1bc666db819c5d4531cfbb2a45e55ecf4b175539248574842460daf230290"
   }
  }
 },
 "nbformat": 4,
 "nbformat_minor": 2
}
